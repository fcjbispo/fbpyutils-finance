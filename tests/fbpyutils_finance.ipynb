{
 "cells": [
  {
   "cell_type": "code",
   "execution_count": 1,
   "metadata": {},
   "outputs": [],
   "source": [
    "import sys\n",
    "sys.path.insert(0, '..')"
   ]
  },
  {
   "cell_type": "code",
   "execution_count": 2,
   "metadata": {},
   "outputs": [],
   "source": [
    "from fbpyutils import xlsx as XL, file as FU, string as SU\n",
    "import fbpyutils_finance as FI"
   ]
  },
  {
   "cell_type": "code",
   "execution_count": 3,
   "metadata": {},
   "outputs": [],
   "source": [
    "import os\n",
    "import sqlite3\n",
    "import pandas as pd"
   ]
  },
  {
   "cell_type": "code",
   "execution_count": 4,
   "metadata": {},
   "outputs": [
    {
     "data": {
      "text/plain": [
       "'/mnt/c/Users/fcjbispo/Projetos/fbpyutils-finance/fbpyutils_finance'"
      ]
     },
     "execution_count": 4,
     "metadata": {},
     "output_type": "execute_result"
    }
   ],
   "source": [
    "FI.APP_FOLDER"
   ]
  },
  {
   "cell_type": "code",
   "execution_count": 5,
   "metadata": {},
   "outputs": [
    {
     "data": {
      "text/plain": [
       "{'bvmf-bmfbovespa-com-br': '/mnt/c/Users/fcjbispo/Projetos/fbpyutils-finance/fbpyutils_finance/certificates/bvmf-bmfbovespa-com-br.pem'}"
      ]
     },
     "execution_count": 5,
     "metadata": {},
     "output_type": "execute_result"
    }
   ],
   "source": [
    "FI.CERTIFICATES"
   ]
  },
  {
   "cell_type": "markdown",
   "metadata": {},
   "source": [
    "from fbpyutils_finance import bovespa as BOV"
   ]
  },
  {
   "cell_type": "markdown",
   "metadata": {},
   "source": [
    "bovespa_series_folder = '/mnt/c/Users/fcjbispo/Dados/InfoBR/Series/bovespa'"
   ]
  },
  {
   "cell_type": "markdown",
   "metadata": {},
   "source": [
    "# db = sqlite3.connect(':memory:')\n",
    "db = sqlite3.connect(os.path.sep.join([bovespa_series_folder, 'bovespa.db']))"
   ]
  },
  {
   "cell_type": "markdown",
   "metadata": {},
   "source": [
    "stock_history = BOV.StockHistory(download_folder=bovespa_series_folder)"
   ]
  },
  {
   "cell_type": "markdown",
   "metadata": {},
   "source": [
    "# data = stock_history.get_stock_history(\n",
    "#     period='A', \n",
    "#     period_data=None, \n",
    "#     fetch_mode=BOV.FetchModes.DOWNLOAD, \n",
    "#     compact=False, \n",
    "#     original_names=False\n",
    "# )"
   ]
  },
  {
   "cell_type": "markdown",
   "metadata": {},
   "source": [
    "# data.to_sql('cotahist', index=False, con=db, if_exists='replace')"
   ]
  },
  {
   "cell_type": "markdown",
   "metadata": {},
   "source": [
    "# data.columns"
   ]
  },
  {
   "cell_type": "markdown",
   "metadata": {},
   "source": [
    "# tickers = ('QUAL3F', 'SDIL11', 'QUAL3', 'CACR13', 'NUBR33')\n",
    "# market_types = ('10', '20')\n",
    "# bdi_codes = ('02', '12', '35', '96')\n",
    "# pd.read_sql(f'''\n",
    "# select ticker, market_type, bdi_code, min(trade_date), max(trade_date)\n",
    "#   from cotahist\n",
    "#  where ticker in  {str(tickers)}\n",
    "#  group by ticker, market_type, bdi_code\n",
    "#  order by market_type, bdi_code\n",
    "# ''', con=db).head()"
   ]
  },
  {
   "cell_type": "markdown",
   "metadata": {},
   "source": [
    "info_tables = BOV.StockHistory.get_info_tables()"
   ]
  },
  {
   "cell_type": "markdown",
   "metadata": {},
   "source": [
    "info_tables['status']"
   ]
  },
  {
   "cell_type": "markdown",
   "metadata": {},
   "source": [
    "info_tables['tables'].keys()"
   ]
  },
  {
   "cell_type": "code",
   "execution_count": 6,
   "metadata": {},
   "outputs": [],
   "source": [
    "from fbpyutils_finance import tesourodireto as TD\n",
    "from pprint import pprint"
   ]
  },
  {
   "cell_type": "code",
   "execution_count": 7,
   "metadata": {},
   "outputs": [],
   "source": [
    "td_list = TD.treasury_bonds()"
   ]
  },
  {
   "cell_type": "code",
   "execution_count": 8,
   "metadata": {},
   "outputs": [
    {
     "data": {
      "text/plain": [
       "{'info': 'TREASURY BOND',\n",
       " 'source': 'TESOURO DIRETO',\n",
       " 'status': 'SUCCESS',\n",
       " 'details': {'market': {'status': 'OPEN',\n",
       "   'closing_time': datetime.datetime(2023, 8, 28, 5, 0, tzinfo=<DstTzInfo 'America/Sao_Paulo' LMT-1 day, 20:54:00 STD>),\n",
       "   'opening_time': datetime.datetime(2023, 8, 25, 9, 25, tzinfo=<DstTzInfo 'America/Sao_Paulo' LMT-1 day, 20:54:00 STD>),\n",
       "   'position_time': datetime.datetime(2023, 8, 25, 11, 46, 1, 747000, tzinfo=<DstTzInfo 'America/Sao_Paulo' LMT-1 day, 20:54:00 STD>)},\n",
       "  'matches': 53,\n",
       "  'bonds': [{'bond_name': 'Tesouro Selic 2024',\n",
       "    'due_date': datetime.datetime(2024, 9, 1, 0, 0),\n",
       "    'financial_indexer': 'SELIC',\n",
       "    'annual_investment_rate': 0.0,\n",
       "    'annual_redemption_rate': 0.011,\n",
       "    'isin_code': 'BRSTNCLF0008',\n",
       "    'sell_price': 13713.35,\n",
       "    'sell_price_unit': 137.13,\n",
       "    'buy_price': 0.0,\n",
       "    'buy_price_unit': 0.0,\n",
       "    'extended_description': 'Título com rentabilidade diária vinculada à taxa de juros da economia (taxa Selic). Isso significa que se a taxa Selic aumentar a sua rentabilidade aumenta e se a taxa Selic diminuir, sua rentabilidade diminui. Como não paga juros semestrais, é mais interessante para quem pode deixar o dinheiro render até o vencimento do investimento'},\n",
       "   {'bond_name': 'Tesouro Selic 2025',\n",
       "    'due_date': datetime.datetime(2025, 3, 1, 0, 0),\n",
       "    'financial_indexer': 'SELIC',\n",
       "    'annual_investment_rate': 0.0,\n",
       "    'annual_redemption_rate': 0.023,\n",
       "    'isin_code': 'BRSTNCLF1RC4',\n",
       "    'sell_price': 13710.1,\n",
       "    'sell_price_unit': 137.1,\n",
       "    'buy_price': 0.0,\n",
       "    'buy_price_unit': 0.0,\n",
       "    'extended_description': 'Título com rentabilidade diária vinculada à taxa de juros da economia (taxa Selic). Isso significa que se a taxa Selic aumentar a sua rentabilidade aumenta e se a taxa Selic diminuir, sua rentabilidade diminui. Como não paga juros semestrais, é mais interessante para quem pode deixar o dinheiro render até o vencimento do investimento'},\n",
       "   {'bond_name': 'Tesouro Selic 2026',\n",
       "    'due_date': datetime.datetime(2026, 3, 1, 0, 0),\n",
       "    'financial_indexer': 'SELIC',\n",
       "    'annual_investment_rate': 0.0545,\n",
       "    'annual_redemption_rate': 0.0645,\n",
       "    'isin_code': 'BRSTNCLF1RE0',\n",
       "    'sell_price': 13692.72,\n",
       "    'sell_price_unit': 136.93,\n",
       "    'buy_price': 13702.94,\n",
       "    'buy_price_unit': 137.02,\n",
       "    'extended_description': 'Título com rentabilidade diária vinculada à taxa de juros da economia (taxa Selic). Isso significa que se a taxa Selic aumentar a sua rentabilidade aumenta e se a taxa Selic diminuir, sua rentabilidade diminui. Como não paga juros semestrais, é mais interessante para quem pode deixar o dinheiro render até o vencimento do investimento'},\n",
       "   {'bond_name': 'Tesouro Selic 2027',\n",
       "    'due_date': datetime.datetime(2027, 3, 1, 0, 0),\n",
       "    'financial_indexer': 'SELIC',\n",
       "    'annual_investment_rate': 0.0,\n",
       "    'annual_redemption_rate': 0.1352,\n",
       "    'isin_code': 'BRSTNCLF1RG5',\n",
       "    'sell_price': 13650.25,\n",
       "    'sell_price_unit': 136.5,\n",
       "    'buy_price': 0.0,\n",
       "    'buy_price_unit': 0.0,\n",
       "    'extended_description': 'Título com rentabilidade diária vinculada à taxa de juros da economia (taxa Selic). Isso significa que se a taxa Selic aumentar a sua rentabilidade aumenta e se a taxa Selic diminuir, sua rentabilidade diminui. Como não paga juros semestrais, é mais interessante para quem pode deixar o dinheiro render até o vencimento do investimento'},\n",
       "   {'bond_name': 'Tesouro Selic 2029',\n",
       "    'due_date': datetime.datetime(2029, 3, 1, 0, 0),\n",
       "    'financial_indexer': 'SELIC',\n",
       "    'annual_investment_rate': 0.1624,\n",
       "    'annual_redemption_rate': 0.1724,\n",
       "    'isin_code': 'BRSTNCLF1RL5',\n",
       "    'sell_price': 13585.84,\n",
       "    'sell_price_unit': 135.86,\n",
       "    'buy_price': 13600.08,\n",
       "    'buy_price_unit': 136.0,\n",
       "    'extended_description': 'Título com rentabilidade diária vinculada à taxa de juros da economia (taxa Selic). Isso significa que se a taxa Selic aumentar a sua rentabilidade aumenta e se a taxa Selic diminuir, sua rentabilidade diminui. Como não paga juros semestrais, é mais interessante para quem pode deixar o dinheiro render até o vencimento do investimento'},\n",
       "   {'bond_name': 'Tesouro Prefixado 2024',\n",
       "    'due_date': datetime.datetime(2024, 7, 1, 0, 0),\n",
       "    'financial_indexer': 'PREFIXADO',\n",
       "    'annual_investment_rate': 0.0,\n",
       "    'annual_redemption_rate': 11.36,\n",
       "    'isin_code': 'BRSTNCLTN7W3',\n",
       "    'sell_price': 914.23,\n",
       "    'sell_price_unit': 9.14,\n",
       "    'buy_price': 0.0,\n",
       "    'buy_price_unit': 0.0,\n",
       "    'extended_description': 'Título prefixado, ou seja, no momento da compra, você já sabe exatamente quanto irá receber no futuro (sempre R$ 1.000 por unidade de título). É mais interessante para quem pode deixar o seu dinheiro render até o vencimento do investimento, pois não paga juro semestrais. Em caso de resgate antecipado, o Tesouro Nacional garante sua recompra pelos seus valores de mercado.'},\n",
       "   {'bond_name': 'Tesouro Prefixado 2025',\n",
       "    'due_date': datetime.datetime(2025, 1, 1, 0, 0),\n",
       "    'financial_indexer': 'PREFIXADO',\n",
       "    'annual_investment_rate': 0.0,\n",
       "    'annual_redemption_rate': 10.56,\n",
       "    'isin_code': 'BRSTNCLTN7N2',\n",
       "    'sell_price': 873.32,\n",
       "    'sell_price_unit': 8.73,\n",
       "    'buy_price': 0.0,\n",
       "    'buy_price_unit': 0.0,\n",
       "    'extended_description': 'Título prefixado, ou seja, no momento da compra, você já sabe exatamente quanto irá receber no futuro (sempre R$ 1.000 por unidade de título). É mais interessante para quem pode deixar o seu dinheiro render até o vencimento do investimento, pois não paga juro semestrais. Em caso de resgate antecipado, o Tesouro Nacional garante sua recompra pelos seus valores de mercado.'},\n",
       "   {'bond_name': 'Tesouro Prefixado com Juros Semestrais 2025',\n",
       "    'due_date': datetime.datetime(2025, 1, 1, 0, 0),\n",
       "    'financial_indexer': 'PREFIXADO',\n",
       "    'annual_investment_rate': 0.0,\n",
       "    'annual_redemption_rate': 10.66,\n",
       "    'isin_code': 'BRSTNCNTF170',\n",
       "    'sell_price': 1006.84,\n",
       "    'sell_price_unit': 10.07,\n",
       "    'buy_price': 0.0,\n",
       "    'buy_price_unit': 0.0,\n",
       "    'extended_description': 'Título prefixado, ou seja, no momento da compra, você já sabe exatamente quanto irá receber no futuro (sempre R$ 1.000 por unidade de título + último pagamento de  juros semestrais). É mais interessante para quem precisa dos seus rendimentos para complementar sua renda, pois paga juros a cada semestre (cupons de juros) Em caso de resgate antecipado, o Tesouro Nacional garante sua recompra pelo seu valor de mercado.'},\n",
       "   {'bond_name': 'Tesouro Prefixado 2026',\n",
       "    'due_date': datetime.datetime(2026, 1, 1, 0, 0),\n",
       "    'financial_indexer': 'PREFIXADO',\n",
       "    'annual_investment_rate': 10.07,\n",
       "    'annual_redemption_rate': 10.19,\n",
       "    'isin_code': 'BRSTNCLTN7U7',\n",
       "    'sell_price': 795.85,\n",
       "    'sell_price_unit': 7.96,\n",
       "    'buy_price': 798.19,\n",
       "    'buy_price_unit': 31.92,\n",
       "    'extended_description': 'Título prefixado, ou seja, no momento da compra, você já sabe exatamente quanto irá receber no futuro (sempre R$ 1.000 por unidade de título). É mais interessante para quem pode deixar o seu dinheiro render até o vencimento do investimento, pois não paga juro semestrais. Em caso de resgate antecipado, o Tesouro Nacional garante sua recompra pelos seus valores de mercado.'},\n",
       "   {'bond_name': 'Tesouro Prefixado com Juros Semestrais 2027',\n",
       "    'due_date': datetime.datetime(2027, 1, 1, 0, 0),\n",
       "    'financial_indexer': 'PREFIXADO',\n",
       "    'annual_investment_rate': 0.0,\n",
       "    'annual_redemption_rate': 10.36,\n",
       "    'isin_code': 'BRSTNCNTF1P8',\n",
       "    'sell_price': 1005.41,\n",
       "    'sell_price_unit': 10.05,\n",
       "    'buy_price': 0.0,\n",
       "    'buy_price_unit': 0.0,\n",
       "    'extended_description': 'Título prefixado, ou seja, no momento da compra, você já sabe exatamente quanto irá receber no futuro (sempre R$ 1.000 por unidade de título + último pagamento de juros semestrais). É mais interessante para quem precisa dos seus rendimentos para complementar sua renda, pois paga juros a cada semestre (cupons de juros). Em caso de resgate antecipado, o Tesouro Nacional garante sua recompra pelo seu valor de mercado.'},\n",
       "   {'bond_name': 'Tesouro Prefixado 2029',\n",
       "    'due_date': datetime.datetime(2029, 1, 1, 0, 0),\n",
       "    'financial_indexer': 'PREFIXADO',\n",
       "    'annual_investment_rate': 10.79,\n",
       "    'annual_redemption_rate': 10.91,\n",
       "    'isin_code': 'BRSTNCLTN806',\n",
       "    'sell_price': 575.88,\n",
       "    'sell_price_unit': 5.76,\n",
       "    'buy_price': 579.45,\n",
       "    'buy_price_unit': 34.76,\n",
       "    'extended_description': 'Título prefixado, ou seja, no momento da compra, você já sabe exatamente quanto irá receber no futuro (sempre R$ 1.000 por unidade de título). É mais interessante para quem pode deixar o seu dinheiro render até o vencimento do investimento, pois não paga juro semestrais. Em caso de resgate antecipado, o Tesouro Nacional garante sua recompra pelos seus valores de mercado.'},\n",
       "   {'bond_name': 'Tesouro Prefixado com Juros Semestrais 2029',\n",
       "    'due_date': datetime.datetime(2029, 1, 1, 0, 0),\n",
       "    'financial_indexer': 'PREFIXADO',\n",
       "    'annual_investment_rate': 0.0,\n",
       "    'annual_redemption_rate': 10.84,\n",
       "    'isin_code': 'BRSTNCNTF1Q6',\n",
       "    'sell_price': 983.99,\n",
       "    'sell_price_unit': 9.84,\n",
       "    'buy_price': 0.0,\n",
       "    'buy_price_unit': 0.0,\n",
       "    'extended_description': 'Título prefixado, ou seja, no momento da compra, você já sabe exatamente quanto irá receber no futuro (sempre R$ 1.000 por unidade de título + último pagamento de juros semestrais). É mais interessante para quem precisa dos seus rendimentos para complementar sua renda, pois paga juros a cada semestre (cupons de juros). Em caso de resgate antecipado, o Tesouro Nacional garante sua recompra pelo seu valor de mercado.'},\n",
       "   {'bond_name': 'Tesouro Prefixado com Juros Semestrais 2031',\n",
       "    'due_date': datetime.datetime(2031, 1, 1, 0, 0),\n",
       "    'financial_indexer': 'PREFIXADO',\n",
       "    'annual_investment_rate': 0.0,\n",
       "    'annual_redemption_rate': 11.03,\n",
       "    'isin_code': 'BRSTNCNTF204',\n",
       "    'sell_price': 967.38,\n",
       "    'sell_price_unit': 9.67,\n",
       "    'buy_price': 0.0,\n",
       "    'buy_price_unit': 0.0,\n",
       "    'extended_description': 'Título prefixado, ou seja, no momento da compra, você já sabe exatamente quanto irá receber no futuro (sempre R$ 1.000 por unidade de título + último pagamento de juros semestrais). É mais interessante para quem precisa dos seus rendimentos para complementar sua renda, pois paga juros a cada semestre (cupons de juros). Em caso de resgate antecipado, o Tesouro Nacional garante sua recompra pelo seu valor de mercado.'},\n",
       "   {'bond_name': 'Tesouro Prefixado com Juros Semestrais 2033',\n",
       "    'due_date': datetime.datetime(2033, 1, 1, 0, 0),\n",
       "    'financial_indexer': 'PREFIXADO',\n",
       "    'annual_investment_rate': 11.07,\n",
       "    'annual_redemption_rate': 11.19,\n",
       "    'isin_code': 'BRSTNCNTF212',\n",
       "    'sell_price': 950.83,\n",
       "    'sell_price_unit': 9.51,\n",
       "    'buy_price': 957.54,\n",
       "    'buy_price_unit': 38.3,\n",
       "    'extended_description': 'Título prefixado, ou seja, no momento da compra, você já sabe exatamente quanto irá receber no futuro (sempre R$ 1.000 por unidade de título + último pagamento de juros semestrais). É mais interessante para quem precisa dos seus rendimentos para complementar sua renda, pois paga juros a cada semestre (cupons de juros). Em caso de resgate antecipado, o Tesouro Nacional garante sua recompra pelo seu valor de mercado.'},\n",
       "   {'bond_name': 'Tesouro IPCA+ 2024',\n",
       "    'due_date': datetime.datetime(2024, 8, 15, 0, 0),\n",
       "    'financial_indexer': 'IPCA',\n",
       "    'annual_investment_rate': 0.0,\n",
       "    'annual_redemption_rate': 6.77,\n",
       "    'isin_code': 'BRSTNCNTB0K5',\n",
       "    'sell_price': 3878.8,\n",
       "    'sell_price_unit': 38.79,\n",
       "    'buy_price': 0.0,\n",
       "    'buy_price_unit': 0.0,\n",
       "    'extended_description': 'Título pós-fixado, uma vez que parte do seu rendimento acompanha a variação da taxa de inflação (IPCA). Aumenta o poder de compra do seu dinheiro, pois seu rendimento é compostos por uma taxa de juros + a variação da inflação (IPCA). É mais interessante para quem pode deixar o dinheiro render até o vencimento do investimento, pois não paga juros semestrais. Em caso de resgate antecipado, o Tesouro Nacional garante sua recompra pelo seu valor de mercado.'},\n",
       "   {'bond_name': 'Tesouro IPCA+ com Juros Semestrais 2024',\n",
       "    'due_date': datetime.datetime(2024, 8, 15, 0, 0),\n",
       "    'financial_indexer': 'IPCA',\n",
       "    'annual_investment_rate': 0.0,\n",
       "    'annual_redemption_rate': 6.77,\n",
       "    'isin_code': 'BRSTNCNTB096',\n",
       "    'sell_price': 4111.99,\n",
       "    'sell_price_unit': 41.12,\n",
       "    'buy_price': 0.0,\n",
       "    'buy_price_unit': 0.0,\n",
       "    'extended_description': 'Título pós-fixado, uma vez que parte do seu rendimento acompanha a variação da taxa de inflação (IPCA). Aumenta o poder de compra do seu dinheiro, pois seu rendimento é composto por uma taxa de juros + a variação da inflação (IPCA). É mais interessante para quem precisa do seu rendimento para complementar sua renda, pois paga juros a cada semestre (cupons de juros). Em caso de resgate antecipado, o Tesouro Nacional garante sua recompra pelo seu valor de mercado.\\xa0'},\n",
       "   {'bond_name': 'Tesouro IPCA+ 2026',\n",
       "    'due_date': datetime.datetime(2026, 8, 15, 0, 0),\n",
       "    'financial_indexer': 'IPCA',\n",
       "    'annual_investment_rate': 0.0,\n",
       "    'annual_redemption_rate': 5.08,\n",
       "    'isin_code': 'BRSTNCNTB4W2',\n",
       "    'sell_price': 3566.59,\n",
       "    'sell_price_unit': 35.67,\n",
       "    'buy_price': 0.0,\n",
       "    'buy_price_unit': 0.0,\n",
       "    'extended_description': 'Título pós-fixado, uma vez que parte do seu rendimento acompanha a variação da taxa de inflação (IPCA). Aumenta o poder de compra do seu dinheiro, pois seu rendimento é composto por uma taxa de juros + a variação da inflação (IPCA). É mais interessante para quem pode deixar o dinheiro render até o vencimento do investimento, pois não paga juros semestrais. Em caso de resgate antecipado, o Tesouro Nacional garante sua recompra pelo seu valor de mercado.'},\n",
       "   {'bond_name': 'Tesouro IPCA+ com Juros Semestrais 2026',\n",
       "    'due_date': datetime.datetime(2026, 8, 15, 0, 0),\n",
       "    'financial_indexer': 'IPCA',\n",
       "    'annual_investment_rate': 0.0,\n",
       "    'annual_redemption_rate': 5.13,\n",
       "    'isin_code': 'BRSTNCNTB4U6',\n",
       "    'sell_price': 4234.69,\n",
       "    'sell_price_unit': 42.35,\n",
       "    'buy_price': 0.0,\n",
       "    'buy_price_unit': 0.0,\n",
       "    'extended_description': 'Título pós-fixado, uma vez que parte do seu rendimento acompanha a variação da taxa de inflação (IPCA). Aumenta o poder de compra do seu dinheiro, pois seu rendimento é composto por uma taxa de juros + a variação da inflação (IPCA). É mais interessante para quem precisa do seu rendimento para complementar sua renda, pois paga juros a cada semestre (cupons de juros). Em caso de resgate antecipado, o Tesouro Nacional garante sua recompra pelo seu valor de mercado.'},\n",
       "   {'bond_name': 'Tesouro IPCA+ 2029',\n",
       "    'due_date': datetime.datetime(2029, 5, 15, 0, 0),\n",
       "    'financial_indexer': 'IPCA',\n",
       "    'annual_investment_rate': 5.02,\n",
       "    'annual_redemption_rate': 5.14,\n",
       "    'isin_code': 'BRSTNCNTB6A3',\n",
       "    'sell_price': 3106.42,\n",
       "    'sell_price_unit': 31.06,\n",
       "    'buy_price': 3127.73,\n",
       "    'buy_price_unit': 31.27,\n",
       "    'extended_description': 'Título pós-fixado, uma vez que parte do seu rendimento acompanha a variação da taxa de inflação (IPCA). Aumenta o poder de compra do seu dinheiro, pois seu rendimento é composto por uma taxa de juros + a variação da inflação (IPCA). É mais interessante para quem pode deixar o dinheiro render até o vencimento do investimento, pois não paga juros semestrais. Em caso de resgate antecipado, o Tesouro Nacional garante sua recompra pelo seu valor de mercado.'},\n",
       "   {'bond_name': 'Tesouro IPCA+ com Juros Semestrais 2030',\n",
       "    'due_date': datetime.datetime(2030, 8, 15, 0, 0),\n",
       "    'financial_indexer': 'IPCA',\n",
       "    'annual_investment_rate': 0.0,\n",
       "    'annual_redemption_rate': 5.15,\n",
       "    'isin_code': 'BRSTNCNTB3B8',\n",
       "    'sell_price': 4342.47,\n",
       "    'sell_price_unit': 43.42,\n",
       "    'buy_price': 0.0,\n",
       "    'buy_price_unit': 0.0,\n",
       "    'extended_description': 'Título pós-fixado, uma vez que parte do seu rendimento acompanha a variação da taxa de inflação (IPCA). Aumenta o poder de compra do seu dinheiro, pois seu rendimento é composto por uma taxa de juros + a variação da inflação (IPCA). É mais interessante para quem precisa do seu rendimento para complementar sua renda, pois paga juros a cada semestre (cupons de juros). Em caso de resgate antecipado, o Tesouro Nacional garante sua recompra pelo seu valor de mercado.\\xa0'},\n",
       "   {'bond_name': 'Tesouro Educa+ 2026',\n",
       "    'due_date': datetime.datetime(2030, 12, 15, 0, 0),\n",
       "    'financial_indexer': 'IPCA',\n",
       "    'annual_investment_rate': 5.02,\n",
       "    'annual_redemption_rate': 5.14,\n",
       "    'isin_code': 'BRSTNCNAP0G8',\n",
       "    'sell_price': 3251.96,\n",
       "    'sell_price_unit': 32.52,\n",
       "    'buy_price': 3270.67,\n",
       "    'buy_price_unit': 32.7,\n",
       "    'extended_description': 'Titulo com pagamento de rendas mensais a partir da data de conversão que acontece 60 meses antes da data de vencimento. Incluindo a própria data de vencimento. Com o Tesouro Educa+, você tem diversas possibilidades para planejar financeiramente o futuro educacional de maneira rápida e fácil.'},\n",
       "   {'bond_name': 'Tesouro Educa+ 2027',\n",
       "    'due_date': datetime.datetime(2031, 12, 15, 0, 0),\n",
       "    'financial_indexer': 'IPCA',\n",
       "    'annual_investment_rate': 5.04,\n",
       "    'annual_redemption_rate': 5.16,\n",
       "    'isin_code': 'BRSTNCNAP0P9',\n",
       "    'sell_price': 3090.36,\n",
       "    'sell_price_unit': 30.9,\n",
       "    'buy_price': 3111.67,\n",
       "    'buy_price_unit': 31.11,\n",
       "    'extended_description': 'Titulo com pagamento de rendas mensais a partir da data de conversão que acontece 60 meses antes da data de vencimento. Incluindo a própria data de vencimento. Com o Tesouro Educa+, você tem diversas possibilidades para planejar financeiramente o futuro educacional de maneira rápida e fácil.'},\n",
       "   {'bond_name': 'Tesouro IPCA+ com Juros Semestrais 2032',\n",
       "    'due_date': datetime.datetime(2032, 8, 15, 0, 0),\n",
       "    'financial_indexer': 'IPCA',\n",
       "    'annual_investment_rate': 5.17,\n",
       "    'annual_redemption_rate': 5.29,\n",
       "    'isin_code': 'BRSTNCNTB674',\n",
       "    'sell_price': 4345.3,\n",
       "    'sell_price_unit': 43.45,\n",
       "    'buy_price': 4382.23,\n",
       "    'buy_price_unit': 43.82,\n",
       "    'extended_description': 'Título pós-fixado, uma vez que parte do seu rendimento acompanha a variação da taxa de inflação (IPCA). Aumenta o poder de compra do seu dinheiro, pois seu rendimento é composto por uma taxa de juros + a variação da inflação (IPCA). É mais interessante para quem precisa do seu rendimento para complementar sua renda, pois paga juros a cada semestre (cupons de juros). Em caso de resgate antecipado, o Tesouro Nacional garante sua recompra pelo seu valor de mercado. '},\n",
       "   {'bond_name': 'Tesouro Educa+ 2028',\n",
       "    'due_date': datetime.datetime(2032, 12, 15, 0, 0),\n",
       "    'financial_indexer': 'IPCA',\n",
       "    'annual_investment_rate': 5.08,\n",
       "    'annual_redemption_rate': 5.2,\n",
       "    'isin_code': 'BRSTNCNAP0H6',\n",
       "    'sell_price': 2931.61,\n",
       "    'sell_price_unit': 29.32,\n",
       "    'buy_price': 2955.18,\n",
       "    'buy_price_unit': 59.1,\n",
       "    'extended_description': 'Titulo com pagamento de rendas mensais a partir da data de conversão que acontece 60 meses antes da data de vencimento. Incluindo a própria data de vencimento. Com o Tesouro Educa+, você tem diversas possibilidades para planejar financeiramente o futuro educacional de maneira rápida e fácil.'},\n",
       "   {'bond_name': 'Tesouro Educa+ 2029',\n",
       "    'due_date': datetime.datetime(2033, 12, 15, 0, 0),\n",
       "    'financial_indexer': 'IPCA',\n",
       "    'annual_investment_rate': 5.13,\n",
       "    'annual_redemption_rate': 5.25,\n",
       "    'isin_code': 'BRSTNCNAP0I4',\n",
       "    'sell_price': 2776.88,\n",
       "    'sell_price_unit': 27.77,\n",
       "    'buy_price': 2802.39,\n",
       "    'buy_price_unit': 56.04,\n",
       "    'extended_description': 'Titulo com pagamento de rendas mensais a partir da data de conversão que acontece 60 meses antes da data de vencimento. Incluindo a própria data de vencimento. Com o Tesouro Educa+, você tem diversas possibilidades para planejar financeiramente o futuro educacional de maneira rápida e fácil.'},\n",
       "   {'bond_name': 'Tesouro Educa+ 2030',\n",
       "    'due_date': datetime.datetime(2034, 12, 15, 0, 0),\n",
       "    'financial_indexer': 'IPCA',\n",
       "    'annual_investment_rate': 5.19,\n",
       "    'annual_redemption_rate': 5.31,\n",
       "    'isin_code': 'BRSTNCNAP0J2',\n",
       "    'sell_price': 2625.43,\n",
       "    'sell_price_unit': 26.25,\n",
       "    'buy_price': 2652.55,\n",
       "    'buy_price_unit': 53.05,\n",
       "    'extended_description': 'Titulo com pagamento de rendas mensais a partir da data de conversão que acontece 60 meses antes da data de vencimento. Incluindo a própria data de vencimento. Com o Tesouro Educa+, você tem diversas possibilidades para planejar financeiramente o futuro educacional de maneira rápida e fácil.'},\n",
       "   {'bond_name': 'Tesouro IPCA+ 2035',\n",
       "    'due_date': datetime.datetime(2035, 5, 15, 0, 0),\n",
       "    'financial_indexer': 'IPCA',\n",
       "    'annual_investment_rate': 5.3,\n",
       "    'annual_redemption_rate': 5.42,\n",
       "    'isin_code': 'BRSTNCNTB3E2',\n",
       "    'sell_price': 2231.07,\n",
       "    'sell_price_unit': 22.31,\n",
       "    'buy_price': 2261.72,\n",
       "    'buy_price_unit': 45.23,\n",
       "    'extended_description': 'Título pós-fixado, uma vez que parte do seu rendimento acompanha a variação da taxa de inflação (IPCA). Aumenta o poder de compra do seu dinheiro, pois seu rendimento é compostos por uma taxa de juros + a variação da inflação (IPCA). É mais interessante para quem pode deixar o dinheiro render até o vencimento do investimento, pois não paga juros semestrais. Em caso de resgate antecipado, o Tesouro Nacional garante sua recompra pelo seu valor de mercado.'},\n",
       "   {'bond_name': 'Tesouro IPCA+ com Juros Semestrais 2035',\n",
       "    'due_date': datetime.datetime(2035, 5, 15, 0, 0),\n",
       "    'financial_indexer': 'IPCA',\n",
       "    'annual_investment_rate': 0.0,\n",
       "    'annual_redemption_rate': 5.38,\n",
       "    'isin_code': 'BRSTNCNTB0O7',\n",
       "    'sell_price': 4422.45,\n",
       "    'sell_price_unit': 44.22,\n",
       "    'buy_price': 0.0,\n",
       "    'buy_price_unit': 0.0,\n",
       "    'extended_description': 'Título pós-fixado, uma vez que parte do seu rendimento acompanha a variação da taxa de inflação (IPCA). Aumenta o poder de compra do seu dinheiro, pois seu rendimento é composto por uma taxa de juros + a variação da inflação (IPCA). É mais interessante para quem precisa do seu rendimento para complementar sua renda, pois paga juros a cada semestre (cupons de juros). Em caso de resgate antecipado, o Tesouro Nacional garante sua recompra pelo seu valor de mercado.\\xa0'},\n",
       "   {'bond_name': 'Tesouro Educa+ 2031',\n",
       "    'due_date': datetime.datetime(2035, 12, 15, 0, 0),\n",
       "    'financial_indexer': 'IPCA',\n",
       "    'annual_investment_rate': 5.24,\n",
       "    'annual_redemption_rate': 5.36,\n",
       "    'isin_code': 'BRSTNCNAP0K0',\n",
       "    'sell_price': 2481.83,\n",
       "    'sell_price_unit': 24.82,\n",
       "    'buy_price': 2510.31,\n",
       "    'buy_price_unit': 50.2,\n",
       "    'extended_description': 'Titulo com pagamento de rendas mensais a partir da data de conversão que acontece 60 meses antes da data de vencimento. Incluindo a própria data de vencimento. Com o Tesouro Educa+, você tem diversas possibilidades para planejar financeiramente o futuro educacional de maneira rápida e fácil.'},\n",
       "   {'bond_name': 'Tesouro Educa+ 2032',\n",
       "    'due_date': datetime.datetime(2036, 12, 15, 0, 0),\n",
       "    'financial_indexer': 'IPCA',\n",
       "    'annual_investment_rate': 5.28,\n",
       "    'annual_redemption_rate': 5.4,\n",
       "    'isin_code': 'BRSTNCNAP0Q7',\n",
       "    'sell_price': 2346.38,\n",
       "    'sell_price_unit': 23.46,\n",
       "    'buy_price': 2376.0,\n",
       "    'buy_price_unit': 47.52,\n",
       "    'extended_description': 'Titulo com pagamento de rendas mensais a partir da data de conversão que acontece 60 meses antes da data de vencimento. Incluindo a própria data de vencimento. Com o Tesouro Educa+, você tem diversas possibilidades para planejar financeiramente o futuro educacional de maneira rápida e fácil.'},\n",
       "   {'bond_name': 'Tesouro Educa+ 2033',\n",
       "    'due_date': datetime.datetime(2037, 12, 15, 0, 0),\n",
       "    'financial_indexer': 'IPCA',\n",
       "    'annual_investment_rate': 5.32,\n",
       "    'annual_redemption_rate': 5.44,\n",
       "    'isin_code': 'BRSTNCNAP0R5',\n",
       "    'sell_price': 2216.76,\n",
       "    'sell_price_unit': 22.17,\n",
       "    'buy_price': 2247.28,\n",
       "    'buy_price_unit': 44.94,\n",
       "    'extended_description': 'Titulo com pagamento de rendas mensais a partir da data de conversão que acontece 60 meses antes da data de vencimento. Incluindo a própria data de vencimento. Com o Tesouro Educa+, você tem diversas possibilidades para planejar financeiramente o futuro educacional de maneira rápida e fácil.'},\n",
       "   {'bond_name': 'Tesouro Educa+ 2034',\n",
       "    'due_date': datetime.datetime(2038, 12, 15, 0, 0),\n",
       "    'financial_indexer': 'IPCA',\n",
       "    'annual_investment_rate': 5.34,\n",
       "    'annual_redemption_rate': 5.46,\n",
       "    'isin_code': 'BRSTNCNAP0L8',\n",
       "    'sell_price': 2097.95,\n",
       "    'sell_price_unit': 20.98,\n",
       "    'buy_price': 2129.24,\n",
       "    'buy_price_unit': 42.58,\n",
       "    'extended_description': 'Titulo com pagamento de rendas mensais a partir da data de conversão que acontece 60 meses antes da data de vencimento. Incluindo a própria data de vencimento. Com o Tesouro Educa+, você tem diversas possibilidades para planejar financeiramente o futuro educacional de maneira rápida e fácil.'},\n",
       "   {'bond_name': 'Tesouro Educa+ 2035',\n",
       "    'due_date': datetime.datetime(2039, 12, 15, 0, 0),\n",
       "    'financial_indexer': 'IPCA',\n",
       "    'annual_investment_rate': 5.36,\n",
       "    'annual_redemption_rate': 5.48,\n",
       "    'isin_code': 'BRSTNCNAP0M6',\n",
       "    'sell_price': 1984.71,\n",
       "    'sell_price_unit': 19.85,\n",
       "    'buy_price': 2016.59,\n",
       "    'buy_price_unit': 40.33,\n",
       "    'extended_description': 'Titulo com pagamento de rendas mensais a partir da data de conversão que acontece 60 meses antes da data de vencimento. Incluindo a própria data de vencimento. Com o Tesouro Educa+, você tem diversas possibilidades para planejar financeiramente o futuro educacional de maneira rápida e fácil.'},\n",
       "   {'bond_name': 'Tesouro IPCA+ com Juros Semestrais 2040',\n",
       "    'due_date': datetime.datetime(2040, 8, 15, 0, 0),\n",
       "    'financial_indexer': 'IPCA',\n",
       "    'annual_investment_rate': 5.36,\n",
       "    'annual_redemption_rate': 5.48,\n",
       "    'isin_code': 'BRSTNCNTB3C6',\n",
       "    'sell_price': 4376.59,\n",
       "    'sell_price_unit': 43.77,\n",
       "    'buy_price': 4433.73,\n",
       "    'buy_price_unit': 44.33,\n",
       "    'extended_description': 'Título pós-fixado, uma vez que parte do seu rendimento acompanha a variação da taxa de inflação (IPCA). Aumenta o poder de compra do seu dinheiro, pois seu rendimento é composto por uma taxa de juros + a variação da inflação (IPCA). É mais interessante para quem precisa do seu rendimento para complementar sua renda, pois paga juros a cada semestre (cupons de juros). Em caso de resgate antecipado, o Tesouro Nacional garante sua recompra pelo seu valor de mercado.\\xa0'},\n",
       "   {'bond_name': 'Tesouro Educa+ 2036',\n",
       "    'due_date': datetime.datetime(2040, 12, 15, 0, 0),\n",
       "    'financial_indexer': 'IPCA',\n",
       "    'annual_investment_rate': 5.39,\n",
       "    'annual_redemption_rate': 5.51,\n",
       "    'isin_code': 'BRSTNCNAP0N4',\n",
       "    'sell_price': 1874.01,\n",
       "    'sell_price_unit': 18.74,\n",
       "    'buy_price': 1906.26,\n",
       "    'buy_price_unit': 38.12,\n",
       "    'extended_description': 'Titulo com pagamento de rendas mensais a partir da data de conversão que acontece 60 meses antes da data de vencimento. Incluindo a própria data de vencimento. Com o Tesouro Educa+, você tem diversas possibilidades para planejar financeiramente o futuro educacional de maneira rápida e fácil.'},\n",
       "   {'bond_name': 'Tesouro Educa+ 2037',\n",
       "    'due_date': datetime.datetime(2041, 12, 15, 0, 0),\n",
       "    'financial_indexer': 'IPCA',\n",
       "    'annual_investment_rate': 5.41,\n",
       "    'annual_redemption_rate': 5.53,\n",
       "    'isin_code': 'BRSTNCNAP0O2',\n",
       "    'sell_price': 1771.08,\n",
       "    'sell_price_unit': 17.71,\n",
       "    'buy_price': 1803.61,\n",
       "    'buy_price_unit': 36.07,\n",
       "    'extended_description': 'Titulo com pagamento de rendas mensais a partir da data de conversão que acontece 60 meses antes da data de vencimento. Incluindo a própria data de vencimento. Com o Tesouro Educa+, você tem diversas possibilidades para planejar financeiramente o futuro educacional de maneira rápida e fácil.'},\n",
       "   {'bond_name': 'Tesouro Educa+ 2038',\n",
       "    'due_date': datetime.datetime(2042, 12, 15, 0, 0),\n",
       "    'financial_indexer': 'IPCA',\n",
       "    'annual_investment_rate': 5.44,\n",
       "    'annual_redemption_rate': 5.56,\n",
       "    'isin_code': 'BRSTNCNAP0S3',\n",
       "    'sell_price': 1670.55,\n",
       "    'sell_price_unit': 16.71,\n",
       "    'buy_price': 1703.16,\n",
       "    'buy_price_unit': 34.06,\n",
       "    'extended_description': 'Titulo com pagamento de rendas mensais a partir da data de conversão que acontece 60 meses antes da data de vencimento. Incluindo a própria data de vencimento. Com o Tesouro Educa+, você tem diversas possibilidades para planejar financeiramente o futuro educacional de maneira rápida e fácil.'},\n",
       "   {'bond_name': 'Tesouro Educa+ 2039',\n",
       "    'due_date': datetime.datetime(2043, 12, 15, 0, 0),\n",
       "    'financial_indexer': 'IPCA',\n",
       "    'annual_investment_rate': 5.47,\n",
       "    'annual_redemption_rate': 5.59,\n",
       "    'isin_code': 'BRSTNCNAP0T1',\n",
       "    'sell_price': 1574.74,\n",
       "    'sell_price_unit': 15.75,\n",
       "    'buy_price': 1607.29,\n",
       "    'buy_price_unit': 32.14,\n",
       "    'extended_description': 'Titulo com pagamento de rendas mensais a partir da data de conversão que acontece 60 meses antes da data de vencimento. Incluindo a própria data de vencimento. Com o Tesouro Educa+, você tem diversas possibilidades para planejar financeiramente o futuro educacional de maneira rápida e fácil.'},\n",
       "   {'bond_name': 'Tesouro Educa+ 2040',\n",
       "    'due_date': datetime.datetime(2044, 12, 15, 0, 0),\n",
       "    'financial_indexer': 'IPCA',\n",
       "    'annual_investment_rate': 5.51,\n",
       "    'annual_redemption_rate': 5.63,\n",
       "    'isin_code': 'BRSTNCNAP0U9',\n",
       "    'sell_price': 1480.98,\n",
       "    'sell_price_unit': 14.81,\n",
       "    'buy_price': 1513.3,\n",
       "    'buy_price_unit': 30.26,\n",
       "    'extended_description': 'Titulo com pagamento de rendas mensais a partir da data de conversão que acontece 60 meses antes da data de vencimento. Incluindo a própria data de vencimento. Com o Tesouro Educa+, você tem diversas possibilidades para planejar financeiramente o futuro educacional de maneira rápida e fácil.'},\n",
       "   {'bond_name': 'Tesouro IPCA+ 2045',\n",
       "    'due_date': datetime.datetime(2045, 5, 15, 0, 0),\n",
       "    'financial_indexer': 'IPCA',\n",
       "    'annual_investment_rate': 5.6,\n",
       "    'annual_redemption_rate': 5.72,\n",
       "    'isin_code': 'BRSTNCNTB2U0',\n",
       "    'sell_price': 1239.38,\n",
       "    'sell_price_unit': 12.39,\n",
       "    'buy_price': 1270.68,\n",
       "    'buy_price_unit': 38.12,\n",
       "    'extended_description': 'Título pós-fixado, uma vez que parte do seu rendimento acompanha a variação da taxa de inflação (IPCA). Aumenta o poder de compra do seu dinheiro, pois seu rendimento é composto por uma taxa de juros + a variação da inflação (IPCA). É mais interessante para quem pode deixar o dinheiro render até o vencimento do investimento, pois não paga juros semestrais. Em caso de resgate antecipado, o Tesouro Nacional garante sua recompra pelo seu valor de mercado.'},\n",
       "   {'bond_name': 'Tesouro IPCA+ com Juros Semestrais 2045',\n",
       "    'due_date': datetime.datetime(2045, 5, 15, 0, 0),\n",
       "    'financial_indexer': 'IPCA',\n",
       "    'annual_investment_rate': 0.0,\n",
       "    'annual_redemption_rate': 5.59,\n",
       "    'isin_code': 'BRSTNCNTB0A6',\n",
       "    'sell_price': 4416.73,\n",
       "    'sell_price_unit': 44.17,\n",
       "    'buy_price': 0.0,\n",
       "    'buy_price_unit': 0.0,\n",
       "    'extended_description': 'Título pós-fixado, uma vez que parte do seu rendimento acompanha a variação da taxa de inflação (IPCA). Aumenta o poder de compra do seu dinheiro, pois seu rendimento é composto por uma taxa de juros + a variação da inflação (IPCA). É mais interessante para quem precisa do seu rendimento para complementar sua renda, pois paga juros a cada semestre (cupons de juros). Em caso de resgate antecipado, o Tesouro Nacional garante sua recompra pelo seu valor de mercado.\\xa0'},\n",
       "   {'bond_name': 'Tesouro Educa+ 2041',\n",
       "    'due_date': datetime.datetime(2045, 12, 15, 0, 0),\n",
       "    'financial_indexer': 'IPCA',\n",
       "    'annual_investment_rate': 5.54,\n",
       "    'annual_redemption_rate': 5.66,\n",
       "    'isin_code': 'BRSTNCNAP0V7',\n",
       "    'sell_price': 1394.42,\n",
       "    'sell_price_unit': 13.94,\n",
       "    'buy_price': 1426.46,\n",
       "    'buy_price_unit': 42.79,\n",
       "    'extended_description': 'Titulo com pagamento de rendas mensais a partir da data de conversão que acontece 60 meses antes da data de vencimento. Incluindo a própria data de vencimento. Com o Tesouro Educa+, você tem diversas possibilidades para planejar financeiramente o futuro educacional de maneira rápida e fácil.'},\n",
       "   {'bond_name': 'Tesouro Renda+ Aposentadoria Extra 2030',\n",
       "    'due_date': datetime.datetime(2049, 12, 15, 0, 0),\n",
       "    'financial_indexer': 'IPCA',\n",
       "    'annual_investment_rate': 5.43,\n",
       "    'annual_redemption_rate': 5.55,\n",
       "    'isin_code': 'BRSTNCNAP0E3',\n",
       "    'sell_price': 1797.65,\n",
       "    'sell_price_unit': 17.98,\n",
       "    'buy_price': 1828.31,\n",
       "    'buy_price_unit': 36.56,\n",
       "    'extended_description': 'Titulo com pagamento de rendas mensais a partir da data de conversão que acontece 240 meses antes da data de vencimento. Incluindo a própria data de vencimento.   O Título vai servir como um complemento da aposentadoria pública para o investidor. Ajudando o mesmo a se aposentar com qualidade.'},\n",
       "   {'bond_name': 'Tesouro IPCA+ com Juros Semestrais 2050',\n",
       "    'due_date': datetime.datetime(2050, 8, 15, 0, 0),\n",
       "    'financial_indexer': 'IPCA',\n",
       "    'annual_investment_rate': 0.0,\n",
       "    'annual_redemption_rate': 5.62,\n",
       "    'isin_code': 'BRSTNCNTB3D4',\n",
       "    'sell_price': 4361.62,\n",
       "    'sell_price_unit': 43.62,\n",
       "    'buy_price': 0.0,\n",
       "    'buy_price_unit': 0.0,\n",
       "    'extended_description': 'Título pós-fixado, uma vez que parte do seu rendimento acompanha a variação da taxa de inflação (IPCA). Aumenta o poder de compra do seu dinheiro, pois seu rendimento é composto por uma taxa de juros + a variação da inflação (IPCA). É mais interessante para quem precisa do seu rendimento para complementar sua renda, pois paga juros a cada semestre (cupons de juros). Em caso de resgate antecipado, o Tesouro Nacional garante sua recompra pelo seu valor de mercado.\\xa0'},\n",
       "   {'bond_name': 'Tesouro Renda+ Aposentadoria Extra 2035',\n",
       "    'due_date': datetime.datetime(2054, 12, 15, 0, 0),\n",
       "    'financial_indexer': 'IPCA',\n",
       "    'annual_investment_rate': 5.52,\n",
       "    'annual_redemption_rate': 5.64,\n",
       "    'isin_code': 'BRSTNCNAP096',\n",
       "    'sell_price': 1350.78,\n",
       "    'sell_price_unit': 13.51,\n",
       "    'buy_price': 1381.56,\n",
       "    'buy_price_unit': 41.44,\n",
       "    'extended_description': 'Titulo com pagamento de rendas mensais a partir da data de conversão que acontece 240 meses antes da data de vencimento. Incluindo a própria data de vencimento. O Título vai servir como um complemento da aposentadoria pública para o investidor. Ajudando o mesmo a se aposentar com qualidade.'},\n",
       "   {'bond_name': 'Tesouro IPCA+ com Juros Semestrais 2055',\n",
       "    'due_date': datetime.datetime(2055, 5, 15, 0, 0),\n",
       "    'financial_indexer': 'IPCA',\n",
       "    'annual_investment_rate': 5.48,\n",
       "    'annual_redemption_rate': 5.6,\n",
       "    'isin_code': 'BRSTNCNTB4Q4',\n",
       "    'sell_price': 4450.8,\n",
       "    'sell_price_unit': 44.51,\n",
       "    'buy_price': 4528.53,\n",
       "    'buy_price_unit': 45.28,\n",
       "    'extended_description': 'Título pós-fixado, uma vez que parte do seu rendimento acompanha a variação da taxa de inflação (IPCA). Aumenta o poder de compra do seu dinheiro, pois seu rendimento é composto por uma taxa de juros + a variação da inflação (IPCA). É mais interessante para quem precisa do seu rendimento para complementar sua renda, pois paga juros a cada semestre (cupons de juros). Em caso de resgate antecipado, o Tesouro Nacional garante sua recompra pelo seu valor de mercado.\\xa0'},\n",
       "   {'bond_name': 'Tesouro Renda+ Aposentadoria Extra 2040',\n",
       "    'due_date': datetime.datetime(2059, 12, 15, 0, 0),\n",
       "    'financial_indexer': 'IPCA',\n",
       "    'annual_investment_rate': 5.57,\n",
       "    'annual_redemption_rate': 5.69,\n",
       "    'isin_code': 'BRSTNCNAP0A1',\n",
       "    'sell_price': 1015.75,\n",
       "    'sell_price_unit': 10.16,\n",
       "    'buy_price': 1044.77,\n",
       "    'buy_price_unit': 31.34,\n",
       "    'extended_description': 'Titulo com pagamento de rendas mensais a partir da data de conversão que acontece 240 meses antes da data de vencimento. Incluindo a própria data de vencimento. O Título vai servir como um complemento da aposentadoria pública para o investidor. Ajudando o mesmo a se aposentar com qualidade.'},\n",
       "   {'bond_name': 'Tesouro Renda+ Aposentadoria Extra 2045',\n",
       "    'due_date': datetime.datetime(2064, 12, 15, 0, 0),\n",
       "    'financial_indexer': 'IPCA',\n",
       "    'annual_investment_rate': 5.59,\n",
       "    'annual_redemption_rate': 5.71,\n",
       "    'isin_code': 'BRSTNCNAP0F0',\n",
       "    'sell_price': 766.69,\n",
       "    'sell_price_unit': 7.67,\n",
       "    'buy_price': 793.06,\n",
       "    'buy_price_unit': 31.72,\n",
       "    'extended_description': 'Titulo com pagamento de rendas mensais a partir da data de conversão que acontece 240 meses antes da data de vencimento. Incluindo a própria data de vencimento. O Título vai servir como um complemento da aposentadoria pública para o investidor. Ajudando o mesmo a se aposentar com qualidade.'},\n",
       "   {'bond_name': 'Tesouro Renda+ Aposentadoria Extra 2050',\n",
       "    'due_date': datetime.datetime(2069, 12, 15, 0, 0),\n",
       "    'financial_indexer': 'IPCA',\n",
       "    'annual_investment_rate': 5.57,\n",
       "    'annual_redemption_rate': 5.69,\n",
       "    'isin_code': 'BRSTNCNAP0D5',\n",
       "    'sell_price': 585.14,\n",
       "    'sell_price_unit': 5.85,\n",
       "    'buy_price': 608.71,\n",
       "    'buy_price_unit': 30.43,\n",
       "    'extended_description': 'Titulo com pagamento de rendas mensais a partir da data de conversão que acontece 240 meses antes da data de vencimento. Incluindo a própria data de vencimento. O Título vai servir como um complemento da aposentadoria pública para o investidor. Ajudando o mesmo a se aposentar com qualidade.'},\n",
       "   {'bond_name': 'Tesouro Renda+ Aposentadoria Extra 2055',\n",
       "    'due_date': datetime.datetime(2074, 12, 15, 0, 0),\n",
       "    'financial_indexer': 'IPCA',\n",
       "    'annual_investment_rate': 5.55,\n",
       "    'annual_redemption_rate': 5.67,\n",
       "    'isin_code': 'BRSTNCNAP0B9',\n",
       "    'sell_price': 447.4,\n",
       "    'sell_price_unit': 4.47,\n",
       "    'buy_price': 468.08,\n",
       "    'buy_price_unit': 32.76,\n",
       "    'extended_description': 'Titulo com pagamento de rendas mensais a partir da data de conversão que acontece 240 meses antes da data de vencimento. Incluindo a própria data de vencimento. O Título vai servir como um complemento da aposentadoria pública para o investidor. Ajudando o mesmo a se aposentar com qualidade.'},\n",
       "   {'bond_name': 'Tesouro Renda+ Aposentadoria Extra 2060',\n",
       "    'due_date': datetime.datetime(2079, 12, 15, 0, 0),\n",
       "    'financial_indexer': 'IPCA',\n",
       "    'annual_investment_rate': 5.55,\n",
       "    'annual_redemption_rate': 5.67,\n",
       "    'isin_code': 'BRSTNCNAP0C7',\n",
       "    'sell_price': 339.86,\n",
       "    'sell_price_unit': 3.4,\n",
       "    'buy_price': 357.59,\n",
       "    'buy_price_unit': 32.18,\n",
       "    'extended_description': 'Titulo com pagamento de rendas mensais a partir da data de conversão que acontece 240 meses antes da data de vencimento. Incluindo a própria data de vencimento. O Título vai servir como um complemento da aposentadoria pública para o investidor. Ajudando o mesmo a se aposentar com qualidade.'},\n",
       "   {'bond_name': 'Tesouro Renda+ Aposentadoria Extra 2065',\n",
       "    'due_date': datetime.datetime(2084, 12, 15, 0, 0),\n",
       "    'financial_indexer': 'IPCA',\n",
       "    'annual_investment_rate': 5.55,\n",
       "    'annual_redemption_rate': 5.67,\n",
       "    'isin_code': 'BRSTNCNAP088',\n",
       "    'sell_price': 258.19,\n",
       "    'sell_price_unit': 2.58,\n",
       "    'buy_price': 273.2,\n",
       "    'buy_price_unit': 30.05,\n",
       "    'extended_description': 'Titulo com pagamento de rendas mensais a partir da data de conversão que acontece 240 meses antes da data de vencimento. Incluindo a própria data de vencimento. O Título vai servir como um complemento da aposentadoria pública para o investidor. Ajudando o mesmo a se aposentar com qualidade.'},\n",
       "   {'bond_name': 'Tesouro IGPM+ com Juros Semestrais 2031',\n",
       "    'due_date': datetime.datetime(2031, 1, 1, 0, 0),\n",
       "    'financial_indexer': 'IGP-M',\n",
       "    'annual_investment_rate': 0.0,\n",
       "    'annual_redemption_rate': 5.51,\n",
       "    'isin_code': 'BRSTNCNTC0K4',\n",
       "    'sell_price': 8341.94,\n",
       "    'sell_price_unit': 83.42,\n",
       "    'buy_price': 0.0,\n",
       "    'buy_price_unit': 0.0,\n",
       "    'extended_description': 'Título pós-fixado, uma vez que parte do seu rendimento acompanha a variação da taxa de inflação (IGP-M). None'}]}}"
      ]
     },
     "execution_count": 8,
     "metadata": {},
     "output_type": "execute_result"
    }
   ],
   "source": [
    "td_list"
   ]
  },
  {
   "cell_type": "code",
   "execution_count": 9,
   "metadata": {},
   "outputs": [
    {
     "data": {
      "text/plain": [
       "['Tesouro Selic 2024',\n",
       " 'Tesouro Selic 2025',\n",
       " 'Tesouro Selic 2026',\n",
       " 'Tesouro Selic 2027',\n",
       " 'Tesouro Selic 2029',\n",
       " 'Tesouro Prefixado 2024',\n",
       " 'Tesouro Prefixado 2025',\n",
       " 'Tesouro Prefixado com Juros Semestrais 2025',\n",
       " 'Tesouro Prefixado 2026',\n",
       " 'Tesouro Prefixado com Juros Semestrais 2027',\n",
       " 'Tesouro Prefixado 2029',\n",
       " 'Tesouro Prefixado com Juros Semestrais 2029',\n",
       " 'Tesouro Prefixado com Juros Semestrais 2031',\n",
       " 'Tesouro Prefixado com Juros Semestrais 2033',\n",
       " 'Tesouro IPCA+ 2024',\n",
       " 'Tesouro IPCA+ com Juros Semestrais 2024',\n",
       " 'Tesouro IPCA+ 2026',\n",
       " 'Tesouro IPCA+ com Juros Semestrais 2026',\n",
       " 'Tesouro IPCA+ 2029',\n",
       " 'Tesouro IPCA+ com Juros Semestrais 2030',\n",
       " 'Tesouro Educa+ 2026',\n",
       " 'Tesouro Educa+ 2027',\n",
       " 'Tesouro IPCA+ com Juros Semestrais 2032',\n",
       " 'Tesouro Educa+ 2028',\n",
       " 'Tesouro Educa+ 2029',\n",
       " 'Tesouro Educa+ 2030',\n",
       " 'Tesouro IPCA+ 2035',\n",
       " 'Tesouro IPCA+ com Juros Semestrais 2035',\n",
       " 'Tesouro Educa+ 2031',\n",
       " 'Tesouro Educa+ 2032',\n",
       " 'Tesouro Educa+ 2033',\n",
       " 'Tesouro Educa+ 2034',\n",
       " 'Tesouro Educa+ 2035',\n",
       " 'Tesouro IPCA+ com Juros Semestrais 2040',\n",
       " 'Tesouro Educa+ 2036',\n",
       " 'Tesouro Educa+ 2037',\n",
       " 'Tesouro Educa+ 2038',\n",
       " 'Tesouro Educa+ 2039',\n",
       " 'Tesouro Educa+ 2040',\n",
       " 'Tesouro IPCA+ 2045',\n",
       " 'Tesouro IPCA+ com Juros Semestrais 2045',\n",
       " 'Tesouro Educa+ 2041',\n",
       " 'Tesouro Renda+ Aposentadoria Extra 2030',\n",
       " 'Tesouro IPCA+ com Juros Semestrais 2050',\n",
       " 'Tesouro Renda+ Aposentadoria Extra 2035',\n",
       " 'Tesouro IPCA+ com Juros Semestrais 2055',\n",
       " 'Tesouro Renda+ Aposentadoria Extra 2040',\n",
       " 'Tesouro Renda+ Aposentadoria Extra 2045',\n",
       " 'Tesouro Renda+ Aposentadoria Extra 2050',\n",
       " 'Tesouro Renda+ Aposentadoria Extra 2055',\n",
       " 'Tesouro Renda+ Aposentadoria Extra 2060',\n",
       " 'Tesouro Renda+ Aposentadoria Extra 2065',\n",
       " 'Tesouro IGPM+ com Juros Semestrais 2031']"
      ]
     },
     "execution_count": 9,
     "metadata": {},
     "output_type": "execute_result"
    }
   ],
   "source": [
    "[(b['bond_name']) for b in td_list['details']['bonds']]"
   ]
  },
  {
   "cell_type": "code",
   "execution_count": 10,
   "metadata": {},
   "outputs": [],
   "source": [
    "bond = TD.treasury_bonds(x='Tesouro Prefixado com Juros Semestrais 2029')"
   ]
  },
  {
   "cell_type": "code",
   "execution_count": 11,
   "metadata": {},
   "outputs": [
    {
     "data": {
      "text/plain": [
       "{'info': 'TREASURY BOND',\n",
       " 'source': 'TESOURO DIRETO',\n",
       " 'status': 'SUCCESS',\n",
       " 'details': {'market': {'status': 'OPEN',\n",
       "   'closing_time': datetime.datetime(2023, 8, 28, 5, 0, tzinfo=<DstTzInfo 'America/Sao_Paulo' LMT-1 day, 20:54:00 STD>),\n",
       "   'opening_time': datetime.datetime(2023, 8, 25, 9, 25, tzinfo=<DstTzInfo 'America/Sao_Paulo' LMT-1 day, 20:54:00 STD>),\n",
       "   'position_time': datetime.datetime(2023, 8, 25, 11, 46, 1, 747000, tzinfo=<DstTzInfo 'America/Sao_Paulo' LMT-1 day, 20:54:00 STD>)},\n",
       "  'matches': 1,\n",
       "  'bonds': [{'bond_name': 'Tesouro Prefixado com Juros Semestrais 2029',\n",
       "    'due_date': datetime.datetime(2029, 1, 1, 0, 0),\n",
       "    'financial_indexer': 'PREFIXADO',\n",
       "    'annual_investment_rate': 0.0,\n",
       "    'annual_redemption_rate': 10.84,\n",
       "    'isin_code': 'BRSTNCNTF1Q6',\n",
       "    'sell_price': 983.99,\n",
       "    'sell_price_unit': 9.84,\n",
       "    'buy_price': 0.0,\n",
       "    'buy_price_unit': 0.0,\n",
       "    'extended_description': 'Título prefixado, ou seja, no momento da compra, você já sabe exatamente quanto irá receber no futuro (sempre R$ 1.000 por unidade de título + último pagamento de juros semestrais). É mais interessante para quem precisa dos seus rendimentos para complementar sua renda, pois paga juros a cada semestre (cupons de juros). Em caso de resgate antecipado, o Tesouro Nacional garante sua recompra pelo seu valor de mercado.'}]}}"
      ]
     },
     "execution_count": 11,
     "metadata": {},
     "output_type": "execute_result"
    }
   ],
   "source": [
    "bond"
   ]
  },
  {
   "cell_type": "markdown",
   "metadata": {},
   "source": [
    "from fbpyutils_finance import investidor10 as INV10"
   ]
  },
  {
   "cell_type": "markdown",
   "metadata": {},
   "source": [
    "fiis = INV10.get_fii_daily_position(parallelize=True)"
   ]
  },
  {
   "cell_type": "markdown",
   "metadata": {},
   "source": [
    "fiis.shape"
   ]
  },
  {
   "cell_type": "markdown",
   "metadata": {},
   "source": [
    "fiis.head(3)"
   ]
  },
  {
   "cell_type": "markdown",
   "metadata": {},
   "source": [
    "from fbpyutils_finance import google as G"
   ]
  },
  {
   "cell_type": "markdown",
   "metadata": {},
   "source": [
    "G.exchange_rate('USD', 'BRL')"
   ]
  },
  {
   "cell_type": "markdown",
   "metadata": {},
   "source": [
    "G.stock_price('CACR11')"
   ]
  },
  {
   "cell_type": "markdown",
   "metadata": {},
   "source": [
    "from fbpyutils_finance import cvm\n",
    "from fbpyutils_finance.cvm import *"
   ]
  },
  {
   "cell_type": "markdown",
   "metadata": {},
   "source": [
    "history_folder = '/mnt/c/Users/fcjbispo/Dados/InfoBR/Series/cvm'"
   ]
  },
  {
   "cell_type": "markdown",
   "metadata": {},
   "source": [
    "self = CVM(history_folder=history_folder)"
   ]
  },
  {
   "cell_type": "markdown",
   "metadata": {},
   "source": [
    "# r = self.update_cvm_catalog()"
   ]
  },
  {
   "cell_type": "markdown",
   "metadata": {},
   "source": [
    "cvm_files = self.get_cvm_files(kind='IF_REGISTER')"
   ]
  },
  {
   "cell_type": "markdown",
   "metadata": {},
   "source": [
    "cvm_files"
   ]
  },
  {
   "cell_type": "markdown",
   "metadata": {},
   "source": [
    "from fbpyutils_finance import cei as CEI\n",
    "from fbpyutils_finance.cei import schemas as CEI_SCHEMAS"
   ]
  },
  {
   "cell_type": "markdown",
   "metadata": {},
   "source": [
    "input_folder= '/home/fcjbispo/Meu Drive/Finanças/Extratos & Faturas/CEI/aa_input'\n",
    "output_folder= '/home/fcjbispo/Meu Drive/Finanças/Extratos & Faturas/CEI/zz_output'"
   ]
  },
  {
   "cell_type": "markdown",
   "metadata": {},
   "source": [
    "r = CEI.get_cei_data(input_folder, with_pos_operations=True)"
   ]
  },
  {
   "cell_type": "markdown",
   "metadata": {},
   "source": [
    "set([o[0] for o in r])"
   ]
  },
  {
   "cell_type": "markdown",
   "metadata": {},
   "source": [
    "for op, size, data in r:\n",
    "    if op == 'posicao_fundos_investimento':\n",
    "        break"
   ]
  },
  {
   "cell_type": "markdown",
   "metadata": {},
   "source": [
    "data.dtypes"
   ]
  },
  {
   "cell_type": "code",
   "execution_count": 12,
   "metadata": {},
   "outputs": [],
   "source": [
    "from fbpyutils_finance import google as G\n",
    "from fbpyutils_finance.google import _googlesearch\n",
    "\n",
    "from fbpyutils import debug\n",
    "\n",
    "from fbpyutils.datetime import apply_timezone\n",
    "\n",
    "from typing import Dict\n",
    "import requests \n",
    "import datetime\n",
    "from bs4 import BeautifulSoup"
   ]
  },
  {
   "cell_type": "code",
   "execution_count": 13,
   "metadata": {},
   "outputs": [
    {
     "data": {
      "text/plain": [
       "{'info': 'STOCK PRICE',\n",
       " 'source': 'GOOGLE',\n",
       " 'status': 'SUCCESS',\n",
       " 'details': {'market': 'NYSEARCA',\n",
       "  'ticker': 'XYLD',\n",
       "  'name': 'Global X S&P 500 Covered Call ETF',\n",
       "  'currency': 'USD',\n",
       "  'price': 39.83,\n",
       "  'variation': -0.01,\n",
       "  'variation_percent': 0.0,\n",
       "  'trend': 'DOWN',\n",
       "  'position_time': datetime.datetime(2023, 8, 25, 10, 46, tzinfo=<DstTzInfo 'America/New_York' LMT-1 day, 19:04:00 STD>)}}"
      ]
     },
     "execution_count": 13,
     "metadata": {},
     "output_type": "execute_result"
    }
   ],
   "source": [
    "G.stock_price('XYLD')"
   ]
  },
  {
   "cell_type": "code",
   "execution_count": null,
   "metadata": {},
   "outputs": [],
   "source": []
  }
 ],
 "metadata": {
  "kernelspec": {
   "display_name": "Python 3.9.10 ('fbpyutils-finance-_LfGj1KF')",
   "language": "python",
   "name": "python3"
  },
  "language_info": {
   "codemirror_mode": {
    "name": "ipython",
    "version": 3
   },
   "file_extension": ".py",
   "mimetype": "text/x-python",
   "name": "python",
   "nbconvert_exporter": "python",
   "pygments_lexer": "ipython3",
   "version": "3.10.12"
  },
  "orig_nbformat": 4,
  "vscode": {
   "interpreter": {
    "hash": "e7f24432d049c1b18e987ee934c8db217ea4e1ba4f03ab69f7655027a0e5228d"
   }
  }
 },
 "nbformat": 4,
 "nbformat_minor": 2
}
