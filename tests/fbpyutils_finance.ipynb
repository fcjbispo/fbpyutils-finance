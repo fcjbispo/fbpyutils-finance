{
 "cells": [
  {
   "cell_type": "code",
   "execution_count": null,
   "metadata": {},
   "outputs": [],
   "source": [
    "import sys\n",
    "sys.path.insert(0, '..')"
   ]
  },
  {
   "cell_type": "code",
   "execution_count": null,
   "metadata": {},
   "outputs": [],
   "source": [
    "import fbpyutils_finance as FI"
   ]
  },
  {
   "cell_type": "code",
   "execution_count": 37,
   "metadata": {},
   "outputs": [],
   "source": [
    "import os\n",
    "import sqlite3\n",
    "import pandas as pd"
   ]
  },
  {
   "cell_type": "markdown",
   "metadata": {},
   "source": [
    "db = sqlite3.connect(':memory:')"
   ]
  },
  {
   "cell_type": "markdown",
   "metadata": {},
   "source": [
    "FI.APP_FOLDER"
   ]
  },
  {
   "cell_type": "markdown",
   "metadata": {},
   "source": [
    "FI.CERTIFICATES"
   ]
  },
  {
   "cell_type": "markdown",
   "metadata": {},
   "source": [
    "from fbpyutils_finance import bovespa as BOV"
   ]
  },
  {
   "cell_type": "markdown",
   "metadata": {},
   "source": [
    "bovespa_series_folder = '/mnt/c/Users/fcjbispo/Dados/InfoBR/Series/bovespa'"
   ]
  },
  {
   "cell_type": "markdown",
   "metadata": {},
   "source": [
    "stock_history = BOV.StockHistory(download_folder=bovespa_series_folder)"
   ]
  },
  {
   "cell_type": "markdown",
   "metadata": {},
   "source": [
    "data = stock_history.get_stock_history(\n",
    "    period='A', \n",
    "    period_data=None, \n",
    "    fetch_mode=BOV.FetchModes.LOCAL_OR_DOWNLOAD, \n",
    "    compact=False, \n",
    "    original_names=False\n",
    ")"
   ]
  },
  {
   "cell_type": "markdown",
   "metadata": {},
   "source": [
    "data.to_sql('cotahist', index=False, con=db, if_exists='append')"
   ]
  },
  {
   "cell_type": "markdown",
   "metadata": {},
   "source": [
    "data.columns"
   ]
  },
  {
   "cell_type": "markdown",
   "metadata": {},
   "source": [
    "pd.read_sql('''\n",
    "select distinct market_type, bdi_code\n",
    "  from cotahist\n",
    " order by market_type, bdi_code\n",
    "''', con=db).head(3)"
   ]
  },
  {
   "cell_type": "markdown",
   "metadata": {},
   "source": [
    "from fbpyutils_finance import tesourodireto as TD\n",
    "from pprint import pprint"
   ]
  },
  {
   "cell_type": "markdown",
   "metadata": {},
   "source": [
    "td_list = TD.treasury_bonds()"
   ]
  },
  {
   "cell_type": "markdown",
   "metadata": {},
   "source": [
    "[(b['bond_name']) for b in td_list['details']['bonds']]"
   ]
  },
  {
   "cell_type": "markdown",
   "metadata": {},
   "source": [
    "bond = TD.treasury_bonds(x='Tesouro Prefixado com Juros Semestrais 2029')"
   ]
  },
  {
   "cell_type": "markdown",
   "metadata": {},
   "source": [
    "bond"
   ]
  },
  {
   "cell_type": "markdown",
   "metadata": {},
   "source": [
    "from fbpyutils_finance import investidor10 as INV10"
   ]
  },
  {
   "cell_type": "markdown",
   "metadata": {},
   "source": [
    "fiis = INV10.get_fii_daily_position(parallelize=True)"
   ]
  },
  {
   "cell_type": "markdown",
   "metadata": {},
   "source": [
    "fiis.shape"
   ]
  },
  {
   "cell_type": "markdown",
   "metadata": {},
   "source": [
    "fiis.head(3)"
   ]
  },
  {
   "cell_type": "markdown",
   "metadata": {},
   "source": [
    "from fbpyutils_finance import google as G"
   ]
  },
  {
   "cell_type": "markdown",
   "metadata": {},
   "source": [
    "G.exchange_rate('USD', 'BRL')"
   ]
  },
  {
   "cell_type": "markdown",
   "metadata": {},
   "source": [
    "G.stock_price('CACR11')"
   ]
  },
  {
   "cell_type": "code",
   "execution_count": null,
   "metadata": {},
   "outputs": [],
   "source": [
    "from fbpyutils_finance.cvm import CVM"
   ]
  },
  {
   "cell_type": "code",
   "execution_count": null,
   "metadata": {},
   "outputs": [],
   "source": [
    "history_folder = '/mnt/c/Users/fcjbispo/Dados/InfoBR/Series/cvm'"
   ]
  },
  {
   "cell_type": "code",
   "execution_count": null,
   "metadata": {},
   "outputs": [],
   "source": [
    "cvm = CVM(history_folder=history_folder)"
   ]
  },
  {
   "cell_type": "code",
   "execution_count": null,
   "metadata": {},
   "outputs": [],
   "source": [
    "catalog_data = cvm.get_cvm_catalog()\n",
    "catalog_data.head(3)"
   ]
  },
  {
   "cell_type": "code",
   "execution_count": null,
   "metadata": {},
   "outputs": [],
   "source": [
    "r = cvm.update_cvm_catalog(parallelize=True)"
   ]
  },
  {
   "cell_type": "code",
   "execution_count": 58,
   "metadata": {},
   "outputs": [],
   "source": [
    "cvm.CATALOG.close()"
   ]
  },
  {
   "cell_type": "code",
   "execution_count": null,
   "metadata": {},
   "outputs": [],
   "source": []
  }
 ],
 "metadata": {
  "kernelspec": {
   "display_name": "Python 3.9.10 ('fbpyutils-finance-_LfGj1KF')",
   "language": "python",
   "name": "python3"
  },
  "language_info": {
   "codemirror_mode": {
    "name": "ipython",
    "version": 3
   },
   "file_extension": ".py",
   "mimetype": "text/x-python",
   "name": "python",
   "nbconvert_exporter": "python",
   "pygments_lexer": "ipython3",
   "version": "3.10.12"
  },
  "orig_nbformat": 4,
  "vscode": {
   "interpreter": {
    "hash": "e7f24432d049c1b18e987ee934c8db217ea4e1ba4f03ab69f7655027a0e5228d"
   }
  }
 },
 "nbformat": 4,
 "nbformat_minor": 2
}
