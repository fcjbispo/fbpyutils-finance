{
 "cells": [
  {
   "cell_type": "code",
   "execution_count": 1,
   "metadata": {},
   "outputs": [],
   "source": [
    "import sys\n",
    "sys.path.insert(0, '..')"
   ]
  },
  {
   "cell_type": "code",
   "execution_count": 2,
   "metadata": {},
   "outputs": [],
   "source": [
    "from fbpyutils import xlsx as XL\n",
    "import fbpyutils_finance as FI"
   ]
  },
  {
   "cell_type": "code",
   "execution_count": 3,
   "metadata": {},
   "outputs": [],
   "source": [
    "import os\n",
    "import sqlite3\n",
    "import pandas as pd"
   ]
  },
  {
   "cell_type": "code",
   "execution_count": 4,
   "metadata": {},
   "outputs": [
    {
     "data": {
      "text/plain": [
       "'/mnt/c/Users/fcjbispo/Projetos/fbpyutils-finance/fbpyutils_finance'"
      ]
     },
     "execution_count": 4,
     "metadata": {},
     "output_type": "execute_result"
    }
   ],
   "source": [
    "FI.APP_FOLDER"
   ]
  },
  {
   "cell_type": "code",
   "execution_count": 5,
   "metadata": {},
   "outputs": [
    {
     "data": {
      "text/plain": [
       "{'bvmf-bmfbovespa-com-br': '/mnt/c/Users/fcjbispo/Projetos/fbpyutils-finance/fbpyutils_finance/certificates/bvmf-bmfbovespa-com-br.pem'}"
      ]
     },
     "execution_count": 5,
     "metadata": {},
     "output_type": "execute_result"
    }
   ],
   "source": [
    "FI.CERTIFICATES"
   ]
  },
  {
   "cell_type": "code",
   "execution_count": 6,
   "metadata": {},
   "outputs": [],
   "source": [
    "from fbpyutils_finance import bovespa as BOV"
   ]
  },
  {
   "cell_type": "code",
   "execution_count": 7,
   "metadata": {},
   "outputs": [],
   "source": [
    "bovespa_series_folder = '/mnt/c/Users/fcjbispo/Dados/InfoBR/Series/bovespa'"
   ]
  },
  {
   "cell_type": "code",
   "execution_count": 8,
   "metadata": {},
   "outputs": [],
   "source": [
    "# db = sqlite3.connect(':memory:')\n",
    "db = sqlite3.connect(os.path.sep.join([bovespa_series_folder, 'bovespa.db']))"
   ]
  },
  {
   "cell_type": "code",
   "execution_count": 9,
   "metadata": {},
   "outputs": [],
   "source": [
    "stock_history = BOV.StockHistory(download_folder=bovespa_series_folder)"
   ]
  },
  {
   "cell_type": "code",
   "execution_count": 10,
   "metadata": {},
   "outputs": [],
   "source": [
    "# data = stock_history.get_stock_history(\n",
    "#     period='A', \n",
    "#     period_data=None, \n",
    "#     fetch_mode=BOV.FetchModes.DOWNLOAD, \n",
    "#     compact=False, \n",
    "#     original_names=False\n",
    "# )"
   ]
  },
  {
   "cell_type": "code",
   "execution_count": 11,
   "metadata": {},
   "outputs": [],
   "source": [
    "# data.to_sql('cotahist', index=False, con=db, if_exists='replace')"
   ]
  },
  {
   "cell_type": "code",
   "execution_count": 12,
   "metadata": {},
   "outputs": [],
   "source": [
    "# data.columns"
   ]
  },
  {
   "cell_type": "code",
   "execution_count": 13,
   "metadata": {},
   "outputs": [],
   "source": [
    "# tickers = ('QUAL3F', 'SDIL11', 'QUAL3', 'CACR13', 'NUBR33')\n",
    "# market_types = ('10', '20')\n",
    "# bdi_codes = ('02', '12', '35', '96')\n",
    "# pd.read_sql(f'''\n",
    "# select ticker, market_type, bdi_code, min(trade_date), max(trade_date)\n",
    "#   from cotahist\n",
    "#  where ticker in  {str(tickers)}\n",
    "#  group by ticker, market_type, bdi_code\n",
    "#  order by market_type, bdi_code\n",
    "# ''', con=db).head()"
   ]
  },
  {
   "cell_type": "code",
   "execution_count": 15,
   "metadata": {},
   "outputs": [],
   "source": [
    "info_tables = BOV.StockHistory.get_info_tables()"
   ]
  },
  {
   "cell_type": "code",
   "execution_count": 16,
   "metadata": {},
   "outputs": [
    {
     "data": {
      "text/plain": [
       "'OK'"
      ]
     },
     "execution_count": 16,
     "metadata": {},
     "output_type": "execute_result"
    }
   ],
   "source": [
    "info_tables['status']"
   ]
  },
  {
   "cell_type": "code",
   "execution_count": 18,
   "metadata": {},
   "outputs": [
    {
     "data": {
      "text/plain": [
       "dict_keys(['BDI', 'ESPECI', 'INDOPC', 'TPMERC'])"
      ]
     },
     "execution_count": 18,
     "metadata": {},
     "output_type": "execute_result"
    }
   ],
   "source": [
    "info_tables['tables'].keys()"
   ]
  },
  {
   "cell_type": "code",
   "execution_count": null,
   "metadata": {},
   "outputs": [],
   "source": []
  },
  {
   "cell_type": "markdown",
   "metadata": {},
   "source": [
    "from fbpyutils_finance import tesourodireto as TD\n",
    "from pprint import pprint"
   ]
  },
  {
   "cell_type": "markdown",
   "metadata": {},
   "source": [
    "td_list = TD.treasury_bonds()"
   ]
  },
  {
   "cell_type": "markdown",
   "metadata": {},
   "source": [
    "[(b['bond_name']) for b in td_list['details']['bonds']]"
   ]
  },
  {
   "cell_type": "markdown",
   "metadata": {},
   "source": [
    "bond = TD.treasury_bonds(x='Tesouro Prefixado com Juros Semestrais 2029')"
   ]
  },
  {
   "cell_type": "markdown",
   "metadata": {},
   "source": [
    "bond"
   ]
  },
  {
   "cell_type": "markdown",
   "metadata": {},
   "source": [
    "from fbpyutils_finance import investidor10 as INV10"
   ]
  },
  {
   "cell_type": "markdown",
   "metadata": {},
   "source": [
    "fiis = INV10.get_fii_daily_position(parallelize=True)"
   ]
  },
  {
   "cell_type": "markdown",
   "metadata": {},
   "source": [
    "fiis.shape"
   ]
  },
  {
   "cell_type": "markdown",
   "metadata": {},
   "source": [
    "fiis.head(3)"
   ]
  },
  {
   "cell_type": "markdown",
   "metadata": {},
   "source": [
    "from fbpyutils_finance import google as G"
   ]
  },
  {
   "cell_type": "markdown",
   "metadata": {},
   "source": [
    "G.exchange_rate('USD', 'BRL')"
   ]
  },
  {
   "cell_type": "markdown",
   "metadata": {},
   "source": [
    "G.stock_price('CACR11')"
   ]
  },
  {
   "cell_type": "markdown",
   "metadata": {},
   "source": [
    "from fbpyutils_finance import cvm\n",
    "from fbpyutils_finance.cvm import *"
   ]
  },
  {
   "cell_type": "markdown",
   "metadata": {},
   "source": [
    "history_folder = '/mnt/c/Users/fcjbispo/Dados/InfoBR/Series/cvm'"
   ]
  },
  {
   "cell_type": "markdown",
   "metadata": {},
   "source": [
    "self = CVM(history_folder=history_folder)"
   ]
  },
  {
   "cell_type": "markdown",
   "metadata": {},
   "source": [
    "# r = self.update_cvm_catalog()"
   ]
  },
  {
   "cell_type": "markdown",
   "metadata": {},
   "source": [
    "cvm_files = self.get_cvm_files(kind='IF_REGISTER')"
   ]
  },
  {
   "cell_type": "markdown",
   "metadata": {},
   "source": [
    "cvm_files"
   ]
  },
  {
   "cell_type": "markdown",
   "metadata": {},
   "source": [
    "from fbpyutils_finance.cei import *"
   ]
  },
  {
   "cell_type": "markdown",
   "metadata": {},
   "source": [
    "input_folder= '/home/fcjbispo/Meu Drive/Finanças/Extratos & Faturas/CEI/aa_input'\n",
    "output_folder= '/home/fcjbispo/Meu Drive/Finanças/Extratos & Faturas/CEI/zz_output'"
   ]
  },
  {
   "cell_type": "markdown",
   "metadata": {},
   "source": [
    "r = get_cei_data(input_folder)"
   ]
  },
  {
   "cell_type": "markdown",
   "metadata": {},
   "source": [
    "set([o[0] for o in r])"
   ]
  },
  {
   "cell_type": "markdown",
   "metadata": {},
   "source": [
    "for op, size, data in r:\n",
    "    if op == 'posicao_etf':\n",
    "        break"
   ]
  },
  {
   "cell_type": "markdown",
   "metadata": {},
   "source": [
    "data.head(3)"
   ]
  },
  {
   "cell_type": "markdown",
   "metadata": {},
   "source": [
    "data.to_csv(f\"{output_folder}/tb_stg_produtos.csv\", sep='|', index=False)"
   ]
  }
 ],
 "metadata": {
  "kernelspec": {
   "display_name": "Python 3.9.10 ('fbpyutils-finance-_LfGj1KF')",
   "language": "python",
   "name": "python3"
  },
  "language_info": {
   "codemirror_mode": {
    "name": "ipython",
    "version": 3
   },
   "file_extension": ".py",
   "mimetype": "text/x-python",
   "name": "python",
   "nbconvert_exporter": "python",
   "pygments_lexer": "ipython3",
   "version": "3.10.12"
  },
  "orig_nbformat": 4,
  "vscode": {
   "interpreter": {
    "hash": "e7f24432d049c1b18e987ee934c8db217ea4e1ba4f03ab69f7655027a0e5228d"
   }
  }
 },
 "nbformat": 4,
 "nbformat_minor": 2
}
