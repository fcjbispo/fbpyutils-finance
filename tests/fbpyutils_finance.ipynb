{
 "cells": [
  {
   "cell_type": "code",
   "execution_count": 1,
   "metadata": {},
   "outputs": [],
   "source": [
    "import sys\n",
    "sys.path.insert(0, '..')"
   ]
  },
  {
   "cell_type": "code",
   "execution_count": 2,
   "metadata": {},
   "outputs": [],
   "source": [
    "from fbpyutils import xlsx as XL, file as FU, string as SU\n",
    "import fbpyutils_finance as FI"
   ]
  },
  {
   "cell_type": "code",
   "execution_count": 3,
   "metadata": {},
   "outputs": [],
   "source": [
    "import os\n",
    "import sqlite3\n",
    "import pandas as pd"
   ]
  },
  {
   "cell_type": "code",
   "execution_count": 4,
   "metadata": {},
   "outputs": [
    {
     "data": {
      "text/plain": [
       "'/mnt/c/Users/fcjbispo/Projetos/fbpyutils-finance/fbpyutils_finance'"
      ]
     },
     "execution_count": 4,
     "metadata": {},
     "output_type": "execute_result"
    }
   ],
   "source": [
    "FI.APP_FOLDER"
   ]
  },
  {
   "cell_type": "code",
   "execution_count": 5,
   "metadata": {},
   "outputs": [
    {
     "data": {
      "text/plain": [
       "{'bvmf-bmfbovespa-com-br': '/mnt/c/Users/fcjbispo/Projetos/fbpyutils-finance/fbpyutils_finance/certificates/bvmf-bmfbovespa-com-br.pem'}"
      ]
     },
     "execution_count": 5,
     "metadata": {},
     "output_type": "execute_result"
    }
   ],
   "source": [
    "FI.CERTIFICATES"
   ]
  },
  {
   "cell_type": "markdown",
   "metadata": {},
   "source": [
    "from fbpyutils_finance import bovespa as BOV"
   ]
  },
  {
   "cell_type": "markdown",
   "metadata": {},
   "source": [
    "bovespa_series_folder = '/mnt/c/Users/fcjbispo/Dados/InfoBR/Series/bovespa'"
   ]
  },
  {
   "cell_type": "markdown",
   "metadata": {},
   "source": [
    "# db = sqlite3.connect(':memory:')\n",
    "db = sqlite3.connect(os.path.sep.join([bovespa_series_folder, 'bovespa.db']))"
   ]
  },
  {
   "cell_type": "markdown",
   "metadata": {},
   "source": [
    "stock_history = BOV.StockHistory(download_folder=bovespa_series_folder)"
   ]
  },
  {
   "cell_type": "markdown",
   "metadata": {},
   "source": [
    "# data = stock_history.get_stock_history(\n",
    "#     period='A', \n",
    "#     period_data=None, \n",
    "#     fetch_mode=BOV.FetchModes.DOWNLOAD, \n",
    "#     compact=False, \n",
    "#     original_names=False\n",
    "# )"
   ]
  },
  {
   "cell_type": "markdown",
   "metadata": {},
   "source": [
    "# data.to_sql('cotahist', index=False, con=db, if_exists='replace')"
   ]
  },
  {
   "cell_type": "markdown",
   "metadata": {},
   "source": [
    "# data.columns"
   ]
  },
  {
   "cell_type": "markdown",
   "metadata": {},
   "source": [
    "# tickers = ('QUAL3F', 'SDIL11', 'QUAL3', 'CACR13', 'NUBR33')\n",
    "# market_types = ('10', '20')\n",
    "# bdi_codes = ('02', '12', '35', '96')\n",
    "# pd.read_sql(f'''\n",
    "# select ticker, market_type, bdi_code, min(trade_date), max(trade_date)\n",
    "#   from cotahist\n",
    "#  where ticker in  {str(tickers)}\n",
    "#  group by ticker, market_type, bdi_code\n",
    "#  order by market_type, bdi_code\n",
    "# ''', con=db).head()"
   ]
  },
  {
   "cell_type": "markdown",
   "metadata": {},
   "source": [
    "info_tables = BOV.StockHistory.get_info_tables()"
   ]
  },
  {
   "cell_type": "markdown",
   "metadata": {},
   "source": [
    "info_tables['status']"
   ]
  },
  {
   "cell_type": "markdown",
   "metadata": {},
   "source": [
    "info_tables['tables'].keys()"
   ]
  },
  {
   "cell_type": "code",
   "execution_count": 6,
   "metadata": {},
   "outputs": [],
   "source": [
    "from fbpyutils_finance import tesourodireto as TD\n",
    "from pprint import pprint"
   ]
  },
  {
   "cell_type": "code",
   "execution_count": 7,
   "metadata": {},
   "outputs": [],
   "source": [
    "td_list = TD.treasury_bonds()"
   ]
  },
  {
   "cell_type": "code",
   "execution_count": 8,
   "metadata": {},
   "outputs": [
    {
     "data": {
      "text/plain": [
       "{'info': 'TREASURY BOND',\n",
       " 'source': 'TESOURO DIRETO',\n",
       " 'status': 'SUCCESS',\n",
       " 'details': {'market': {'status': 'CLOSED',\n",
       "   'closing_time': datetime.datetime(2023, 8, 28, 5, 0, tzinfo=<DstTzInfo 'America/Sao_Paulo' LMT-1 day, 20:54:00 STD>),\n",
       "   'opening_time': datetime.datetime(2023, 8, 25, 9, 25, tzinfo=<DstTzInfo 'America/Sao_Paulo' LMT-1 day, 20:54:00 STD>),\n",
       "   'position_time': datetime.datetime(2023, 8, 26, 16, 48, 1, 429000, tzinfo=<DstTzInfo 'America/Sao_Paulo' LMT-1 day, 20:54:00 STD>)},\n",
       "  'matches': 53,\n",
       "  'bonds': [{'bond_name': 'Tesouro Selic 2024',\n",
       "    'due_date': datetime.datetime(2024, 9, 1, 0, 0),\n",
       "    'financial_indexer': 'SELIC',\n",
       "    'annual_investment_rate': 0.0,\n",
       "    'annual_redemption_rate': 0.011,\n",
       "    'isin_code': 'BRSTNCLF0008',\n",
       "    'sell_price': 13720.13,\n",
       "    'sell_price_unit': 137.2,\n",
       "    'buy_price': 0.0,\n",
       "    'buy_price_unit': 0.0,\n",
       "    'extended_description': 'Título com rentabilidade diária vinculada à taxa de juros da economia (taxa Selic). Isso significa que se a taxa Selic aumentar a sua rentabilidade aumenta e se a taxa Selic diminuir, sua rentabilidade diminui. Como não paga juros semestrais, é mais interessante para quem pode deixar o dinheiro render até o vencimento do investimento'},\n",
       "   {'bond_name': 'Tesouro Selic 2025',\n",
       "    'due_date': datetime.datetime(2025, 3, 1, 0, 0),\n",
       "    'financial_indexer': 'SELIC',\n",
       "    'annual_investment_rate': 0.0,\n",
       "    'annual_redemption_rate': 0.023,\n",
       "    'isin_code': 'BRSTNCLF1RC4',\n",
       "    'sell_price': 13716.88,\n",
       "    'sell_price_unit': 137.17,\n",
       "    'buy_price': 0.0,\n",
       "    'buy_price_unit': 0.0,\n",
       "    'extended_description': 'Título com rentabilidade diária vinculada à taxa de juros da economia (taxa Selic). Isso significa que se a taxa Selic aumentar a sua rentabilidade aumenta e se a taxa Selic diminuir, sua rentabilidade diminui. Como não paga juros semestrais, é mais interessante para quem pode deixar o dinheiro render até o vencimento do investimento'},\n",
       "   {'bond_name': 'Tesouro Selic 2026',\n",
       "    'due_date': datetime.datetime(2026, 3, 1, 0, 0),\n",
       "    'financial_indexer': 'SELIC',\n",
       "    'annual_investment_rate': 0.0545,\n",
       "    'annual_redemption_rate': 0.0645,\n",
       "    'isin_code': 'BRSTNCLF1RE0',\n",
       "    'sell_price': 13699.51,\n",
       "    'sell_price_unit': 137.0,\n",
       "    'buy_price': 13702.94,\n",
       "    'buy_price_unit': 137.02,\n",
       "    'extended_description': 'Título com rentabilidade diária vinculada à taxa de juros da economia (taxa Selic). Isso significa que se a taxa Selic aumentar a sua rentabilidade aumenta e se a taxa Selic diminuir, sua rentabilidade diminui. Como não paga juros semestrais, é mais interessante para quem pode deixar o dinheiro render até o vencimento do investimento'},\n",
       "   {'bond_name': 'Tesouro Selic 2027',\n",
       "    'due_date': datetime.datetime(2027, 3, 1, 0, 0),\n",
       "    'financial_indexer': 'SELIC',\n",
       "    'annual_investment_rate': 0.0,\n",
       "    'annual_redemption_rate': 0.1352,\n",
       "    'isin_code': 'BRSTNCLF1RG5',\n",
       "    'sell_price': 13657.07,\n",
       "    'sell_price_unit': 136.57,\n",
       "    'buy_price': 0.0,\n",
       "    'buy_price_unit': 0.0,\n",
       "    'extended_description': 'Título com rentabilidade diária vinculada à taxa de juros da economia (taxa Selic). Isso significa que se a taxa Selic aumentar a sua rentabilidade aumenta e se a taxa Selic diminuir, sua rentabilidade diminui. Como não paga juros semestrais, é mais interessante para quem pode deixar o dinheiro render até o vencimento do investimento'},\n",
       "   {'bond_name': 'Tesouro Selic 2029',\n",
       "    'due_date': datetime.datetime(2029, 3, 1, 0, 0),\n",
       "    'financial_indexer': 'SELIC',\n",
       "    'annual_investment_rate': 0.1624,\n",
       "    'annual_redemption_rate': 0.1724,\n",
       "    'isin_code': 'BRSTNCLF1RL5',\n",
       "    'sell_price': 13592.63,\n",
       "    'sell_price_unit': 135.93,\n",
       "    'buy_price': 13600.08,\n",
       "    'buy_price_unit': 136.0,\n",
       "    'extended_description': 'Título com rentabilidade diária vinculada à taxa de juros da economia (taxa Selic). Isso significa que se a taxa Selic aumentar a sua rentabilidade aumenta e se a taxa Selic diminuir, sua rentabilidade diminui. Como não paga juros semestrais, é mais interessante para quem pode deixar o dinheiro render até o vencimento do investimento'},\n",
       "   {'bond_name': 'Tesouro Prefixado 2024',\n",
       "    'due_date': datetime.datetime(2024, 7, 1, 0, 0),\n",
       "    'financial_indexer': 'PREFIXADO',\n",
       "    'annual_investment_rate': 0.0,\n",
       "    'annual_redemption_rate': 11.37,\n",
       "    'isin_code': 'BRSTNCLTN7W3',\n",
       "    'sell_price': 914.55,\n",
       "    'sell_price_unit': 9.15,\n",
       "    'buy_price': 0.0,\n",
       "    'buy_price_unit': 0.0,\n",
       "    'extended_description': 'Título prefixado, ou seja, no momento da compra, você já sabe exatamente quanto irá receber no futuro (sempre R$ 1.000 por unidade de título). É mais interessante para quem pode deixar o seu dinheiro render até o vencimento do investimento, pois não paga juro semestrais. Em caso de resgate antecipado, o Tesouro Nacional garante sua recompra pelos seus valores de mercado.'},\n",
       "   {'bond_name': 'Tesouro Prefixado 2025',\n",
       "    'due_date': datetime.datetime(2025, 1, 1, 0, 0),\n",
       "    'financial_indexer': 'PREFIXADO',\n",
       "    'annual_investment_rate': 0.0,\n",
       "    'annual_redemption_rate': 10.58,\n",
       "    'isin_code': 'BRSTNCLTN7N2',\n",
       "    'sell_price': 873.46,\n",
       "    'sell_price_unit': 8.73,\n",
       "    'buy_price': 0.0,\n",
       "    'buy_price_unit': 0.0,\n",
       "    'extended_description': 'Título prefixado, ou seja, no momento da compra, você já sabe exatamente quanto irá receber no futuro (sempre R$ 1.000 por unidade de título). É mais interessante para quem pode deixar o seu dinheiro render até o vencimento do investimento, pois não paga juro semestrais. Em caso de resgate antecipado, o Tesouro Nacional garante sua recompra pelos seus valores de mercado.'},\n",
       "   {'bond_name': 'Tesouro Prefixado com Juros Semestrais 2025',\n",
       "    'due_date': datetime.datetime(2025, 1, 1, 0, 0),\n",
       "    'financial_indexer': 'PREFIXADO',\n",
       "    'annual_investment_rate': 0.0,\n",
       "    'annual_redemption_rate': 10.68,\n",
       "    'isin_code': 'BRSTNCNTF170',\n",
       "    'sell_price': 1007.01,\n",
       "    'sell_price_unit': 10.07,\n",
       "    'buy_price': 0.0,\n",
       "    'buy_price_unit': 0.0,\n",
       "    'extended_description': 'Título prefixado, ou seja, no momento da compra, você já sabe exatamente quanto irá receber no futuro (sempre R$ 1.000 por unidade de título + último pagamento de  juros semestrais). É mais interessante para quem precisa dos seus rendimentos para complementar sua renda, pois paga juros a cada semestre (cupons de juros) Em caso de resgate antecipado, o Tesouro Nacional garante sua recompra pelo seu valor de mercado.'},\n",
       "   {'bond_name': 'Tesouro Prefixado 2026',\n",
       "    'due_date': datetime.datetime(2026, 1, 1, 0, 0),\n",
       "    'financial_indexer': 'PREFIXADO',\n",
       "    'annual_investment_rate': 10.12,\n",
       "    'annual_redemption_rate': 10.24,\n",
       "    'isin_code': 'BRSTNCLTN7U7',\n",
       "    'sell_price': 795.31,\n",
       "    'sell_price_unit': 7.95,\n",
       "    'buy_price': 797.34,\n",
       "    'buy_price_unit': 31.89,\n",
       "    'extended_description': 'Título prefixado, ou seja, no momento da compra, você já sabe exatamente quanto irá receber no futuro (sempre R$ 1.000 por unidade de título). É mais interessante para quem pode deixar o seu dinheiro render até o vencimento do investimento, pois não paga juro semestrais. Em caso de resgate antecipado, o Tesouro Nacional garante sua recompra pelos seus valores de mercado.'},\n",
       "   {'bond_name': 'Tesouro Prefixado com Juros Semestrais 2027',\n",
       "    'due_date': datetime.datetime(2027, 1, 1, 0, 0),\n",
       "    'financial_indexer': 'PREFIXADO',\n",
       "    'annual_investment_rate': 0.0,\n",
       "    'annual_redemption_rate': 10.41,\n",
       "    'isin_code': 'BRSTNCNTF1P8',\n",
       "    'sell_price': 1004.49,\n",
       "    'sell_price_unit': 10.04,\n",
       "    'buy_price': 0.0,\n",
       "    'buy_price_unit': 0.0,\n",
       "    'extended_description': 'Título prefixado, ou seja, no momento da compra, você já sabe exatamente quanto irá receber no futuro (sempre R$ 1.000 por unidade de título + último pagamento de juros semestrais). É mais interessante para quem precisa dos seus rendimentos para complementar sua renda, pois paga juros a cada semestre (cupons de juros). Em caso de resgate antecipado, o Tesouro Nacional garante sua recompra pelo seu valor de mercado.'},\n",
       "   {'bond_name': 'Tesouro Prefixado 2029',\n",
       "    'due_date': datetime.datetime(2029, 1, 1, 0, 0),\n",
       "    'financial_indexer': 'PREFIXADO',\n",
       "    'annual_investment_rate': 10.81,\n",
       "    'annual_redemption_rate': 10.93,\n",
       "    'isin_code': 'BRSTNCLTN806',\n",
       "    'sell_price': 575.56,\n",
       "    'sell_price_unit': 5.76,\n",
       "    'buy_price': 578.89,\n",
       "    'buy_price_unit': 34.73,\n",
       "    'extended_description': 'Título prefixado, ou seja, no momento da compra, você já sabe exatamente quanto irá receber no futuro (sempre R$ 1.000 por unidade de título). É mais interessante para quem pode deixar o seu dinheiro render até o vencimento do investimento, pois não paga juro semestrais. Em caso de resgate antecipado, o Tesouro Nacional garante sua recompra pelos seus valores de mercado.'},\n",
       "   {'bond_name': 'Tesouro Prefixado com Juros Semestrais 2029',\n",
       "    'due_date': datetime.datetime(2029, 1, 1, 0, 0),\n",
       "    'financial_indexer': 'PREFIXADO',\n",
       "    'annual_investment_rate': 0.0,\n",
       "    'annual_redemption_rate': 10.87,\n",
       "    'isin_code': 'BRSTNCNTF1Q6',\n",
       "    'sell_price': 983.28,\n",
       "    'sell_price_unit': 9.83,\n",
       "    'buy_price': 0.0,\n",
       "    'buy_price_unit': 0.0,\n",
       "    'extended_description': 'Título prefixado, ou seja, no momento da compra, você já sabe exatamente quanto irá receber no futuro (sempre R$ 1.000 por unidade de título + último pagamento de juros semestrais). É mais interessante para quem precisa dos seus rendimentos para complementar sua renda, pois paga juros a cada semestre (cupons de juros). Em caso de resgate antecipado, o Tesouro Nacional garante sua recompra pelo seu valor de mercado.'},\n",
       "   {'bond_name': 'Tesouro Prefixado com Juros Semestrais 2031',\n",
       "    'due_date': datetime.datetime(2031, 1, 1, 0, 0),\n",
       "    'financial_indexer': 'PREFIXADO',\n",
       "    'annual_investment_rate': 0.0,\n",
       "    'annual_redemption_rate': 11.05,\n",
       "    'isin_code': 'BRSTNCNTF204',\n",
       "    'sell_price': 966.87,\n",
       "    'sell_price_unit': 9.67,\n",
       "    'buy_price': 0.0,\n",
       "    'buy_price_unit': 0.0,\n",
       "    'extended_description': 'Título prefixado, ou seja, no momento da compra, você já sabe exatamente quanto irá receber no futuro (sempre R$ 1.000 por unidade de título + último pagamento de juros semestrais). É mais interessante para quem precisa dos seus rendimentos para complementar sua renda, pois paga juros a cada semestre (cupons de juros). Em caso de resgate antecipado, o Tesouro Nacional garante sua recompra pelo seu valor de mercado.'},\n",
       "   {'bond_name': 'Tesouro Prefixado com Juros Semestrais 2033',\n",
       "    'due_date': datetime.datetime(2033, 1, 1, 0, 0),\n",
       "    'financial_indexer': 'PREFIXADO',\n",
       "    'annual_investment_rate': 11.07,\n",
       "    'annual_redemption_rate': 11.19,\n",
       "    'isin_code': 'BRSTNCNTF212',\n",
       "    'sell_price': 951.23,\n",
       "    'sell_price_unit': 9.51,\n",
       "    'buy_price': 957.54,\n",
       "    'buy_price_unit': 38.3,\n",
       "    'extended_description': 'Título prefixado, ou seja, no momento da compra, você já sabe exatamente quanto irá receber no futuro (sempre R$ 1.000 por unidade de título + último pagamento de juros semestrais). É mais interessante para quem precisa dos seus rendimentos para complementar sua renda, pois paga juros a cada semestre (cupons de juros). Em caso de resgate antecipado, o Tesouro Nacional garante sua recompra pelo seu valor de mercado.'},\n",
       "   {'bond_name': 'Tesouro IPCA+ 2024',\n",
       "    'due_date': datetime.datetime(2024, 8, 15, 0, 0),\n",
       "    'financial_indexer': 'IPCA',\n",
       "    'annual_investment_rate': 0.0,\n",
       "    'annual_redemption_rate': 6.73,\n",
       "    'isin_code': 'BRSTNCNTB0K5',\n",
       "    'sell_price': 3881.77,\n",
       "    'sell_price_unit': 38.82,\n",
       "    'buy_price': 0.0,\n",
       "    'buy_price_unit': 0.0,\n",
       "    'extended_description': 'Título pós-fixado, uma vez que parte do seu rendimento acompanha a variação da taxa de inflação (IPCA). Aumenta o poder de compra do seu dinheiro, pois seu rendimento é compostos por uma taxa de juros + a variação da inflação (IPCA). É mais interessante para quem pode deixar o dinheiro render até o vencimento do investimento, pois não paga juros semestrais. Em caso de resgate antecipado, o Tesouro Nacional garante sua recompra pelo seu valor de mercado.'},\n",
       "   {'bond_name': 'Tesouro IPCA+ com Juros Semestrais 2024',\n",
       "    'due_date': datetime.datetime(2024, 8, 15, 0, 0),\n",
       "    'financial_indexer': 'IPCA',\n",
       "    'annual_investment_rate': 0.0,\n",
       "    'annual_redemption_rate': 6.73,\n",
       "    'isin_code': 'BRSTNCNTB096',\n",
       "    'sell_price': 4115.11,\n",
       "    'sell_price_unit': 41.15,\n",
       "    'buy_price': 0.0,\n",
       "    'buy_price_unit': 0.0,\n",
       "    'extended_description': 'Título pós-fixado, uma vez que parte do seu rendimento acompanha a variação da taxa de inflação (IPCA). Aumenta o poder de compra do seu dinheiro, pois seu rendimento é composto por uma taxa de juros + a variação da inflação (IPCA). É mais interessante para quem precisa do seu rendimento para complementar sua renda, pois paga juros a cada semestre (cupons de juros). Em caso de resgate antecipado, o Tesouro Nacional garante sua recompra pelo seu valor de mercado.\\xa0'},\n",
       "   {'bond_name': 'Tesouro IPCA+ 2026',\n",
       "    'due_date': datetime.datetime(2026, 8, 15, 0, 0),\n",
       "    'financial_indexer': 'IPCA',\n",
       "    'annual_investment_rate': 0.0,\n",
       "    'annual_redemption_rate': 5.1,\n",
       "    'isin_code': 'BRSTNCNTB4W2',\n",
       "    'sell_price': 3565.8,\n",
       "    'sell_price_unit': 35.66,\n",
       "    'buy_price': 0.0,\n",
       "    'buy_price_unit': 0.0,\n",
       "    'extended_description': 'Título pós-fixado, uma vez que parte do seu rendimento acompanha a variação da taxa de inflação (IPCA). Aumenta o poder de compra do seu dinheiro, pois seu rendimento é composto por uma taxa de juros + a variação da inflação (IPCA). É mais interessante para quem pode deixar o dinheiro render até o vencimento do investimento, pois não paga juros semestrais. Em caso de resgate antecipado, o Tesouro Nacional garante sua recompra pelo seu valor de mercado.'},\n",
       "   {'bond_name': 'Tesouro IPCA+ com Juros Semestrais 2026',\n",
       "    'due_date': datetime.datetime(2026, 8, 15, 0, 0),\n",
       "    'financial_indexer': 'IPCA',\n",
       "    'annual_investment_rate': 0.0,\n",
       "    'annual_redemption_rate': 5.14,\n",
       "    'isin_code': 'BRSTNCNTB4U6',\n",
       "    'sell_price': 4235.03,\n",
       "    'sell_price_unit': 42.35,\n",
       "    'buy_price': 0.0,\n",
       "    'buy_price_unit': 0.0,\n",
       "    'extended_description': 'Título pós-fixado, uma vez que parte do seu rendimento acompanha a variação da taxa de inflação (IPCA). Aumenta o poder de compra do seu dinheiro, pois seu rendimento é composto por uma taxa de juros + a variação da inflação (IPCA). É mais interessante para quem precisa do seu rendimento para complementar sua renda, pois paga juros a cada semestre (cupons de juros). Em caso de resgate antecipado, o Tesouro Nacional garante sua recompra pelo seu valor de mercado.'},\n",
       "   {'bond_name': 'Tesouro IPCA+ 2029',\n",
       "    'due_date': datetime.datetime(2029, 5, 15, 0, 0),\n",
       "    'financial_indexer': 'IPCA',\n",
       "    'annual_investment_rate': 5.03,\n",
       "    'annual_redemption_rate': 5.15,\n",
       "    'isin_code': 'BRSTNCNTB6A3',\n",
       "    'sell_price': 3105.81,\n",
       "    'sell_price_unit': 31.06,\n",
       "    'buy_price': 3126.04,\n",
       "    'buy_price_unit': 31.26,\n",
       "    'extended_description': 'Título pós-fixado, uma vez que parte do seu rendimento acompanha a variação da taxa de inflação (IPCA). Aumenta o poder de compra do seu dinheiro, pois seu rendimento é composto por uma taxa de juros + a variação da inflação (IPCA). É mais interessante para quem pode deixar o dinheiro render até o vencimento do investimento, pois não paga juros semestrais. Em caso de resgate antecipado, o Tesouro Nacional garante sua recompra pelo seu valor de mercado.'},\n",
       "   {'bond_name': 'Tesouro IPCA+ com Juros Semestrais 2030',\n",
       "    'due_date': datetime.datetime(2030, 8, 15, 0, 0),\n",
       "    'financial_indexer': 'IPCA',\n",
       "    'annual_investment_rate': 0.0,\n",
       "    'annual_redemption_rate': 5.16,\n",
       "    'isin_code': 'BRSTNCNTB3B8',\n",
       "    'sell_price': 4341.57,\n",
       "    'sell_price_unit': 43.42,\n",
       "    'buy_price': 0.0,\n",
       "    'buy_price_unit': 0.0,\n",
       "    'extended_description': 'Título pós-fixado, uma vez que parte do seu rendimento acompanha a variação da taxa de inflação (IPCA). Aumenta o poder de compra do seu dinheiro, pois seu rendimento é composto por uma taxa de juros + a variação da inflação (IPCA). É mais interessante para quem precisa do seu rendimento para complementar sua renda, pois paga juros a cada semestre (cupons de juros). Em caso de resgate antecipado, o Tesouro Nacional garante sua recompra pelo seu valor de mercado.\\xa0'},\n",
       "   {'bond_name': 'Tesouro Educa+ 2026',\n",
       "    'due_date': datetime.datetime(2030, 12, 15, 0, 0),\n",
       "    'financial_indexer': 'IPCA',\n",
       "    'annual_investment_rate': 5.03,\n",
       "    'annual_redemption_rate': 5.15,\n",
       "    'isin_code': 'BRSTNCNAP0G8',\n",
       "    'sell_price': 3251.62,\n",
       "    'sell_price_unit': 32.52,\n",
       "    'buy_price': 3269.2,\n",
       "    'buy_price_unit': 32.69,\n",
       "    'extended_description': 'Titulo com pagamento de rendas mensais a partir da data de conversão que acontece 60 meses antes da data de vencimento. Incluindo a própria data de vencimento. Com o Tesouro Educa+, você tem diversas possibilidades para planejar financeiramente o futuro educacional de maneira rápida e fácil.'},\n",
       "   {'bond_name': 'Tesouro Educa+ 2027',\n",
       "    'due_date': datetime.datetime(2031, 12, 15, 0, 0),\n",
       "    'financial_indexer': 'IPCA',\n",
       "    'annual_investment_rate': 5.05,\n",
       "    'annual_redemption_rate': 5.17,\n",
       "    'isin_code': 'BRSTNCNAP0P9',\n",
       "    'sell_price': 3089.75,\n",
       "    'sell_price_unit': 30.9,\n",
       "    'buy_price': 3109.98,\n",
       "    'buy_price_unit': 31.09,\n",
       "    'extended_description': 'Titulo com pagamento de rendas mensais a partir da data de conversão que acontece 60 meses antes da data de vencimento. Incluindo a própria data de vencimento. Com o Tesouro Educa+, você tem diversas possibilidades para planejar financeiramente o futuro educacional de maneira rápida e fácil.'},\n",
       "   {'bond_name': 'Tesouro IPCA+ com Juros Semestrais 2032',\n",
       "    'due_date': datetime.datetime(2032, 8, 15, 0, 0),\n",
       "    'financial_indexer': 'IPCA',\n",
       "    'annual_investment_rate': 5.17,\n",
       "    'annual_redemption_rate': 5.29,\n",
       "    'isin_code': 'BRSTNCNTB674',\n",
       "    'sell_price': 4346.82,\n",
       "    'sell_price_unit': 43.47,\n",
       "    'buy_price': 4382.23,\n",
       "    'buy_price_unit': 43.82,\n",
       "    'extended_description': 'Título pós-fixado, uma vez que parte do seu rendimento acompanha a variação da taxa de inflação (IPCA). Aumenta o poder de compra do seu dinheiro, pois seu rendimento é composto por uma taxa de juros + a variação da inflação (IPCA). É mais interessante para quem precisa do seu rendimento para complementar sua renda, pois paga juros a cada semestre (cupons de juros). Em caso de resgate antecipado, o Tesouro Nacional garante sua recompra pelo seu valor de mercado. '},\n",
       "   {'bond_name': 'Tesouro Educa+ 2028',\n",
       "    'due_date': datetime.datetime(2032, 12, 15, 0, 0),\n",
       "    'financial_indexer': 'IPCA',\n",
       "    'annual_investment_rate': 5.08,\n",
       "    'annual_redemption_rate': 5.2,\n",
       "    'isin_code': 'BRSTNCNAP0H6',\n",
       "    'sell_price': 2932.63,\n",
       "    'sell_price_unit': 29.33,\n",
       "    'buy_price': 2955.18,\n",
       "    'buy_price_unit': 59.1,\n",
       "    'extended_description': 'Titulo com pagamento de rendas mensais a partir da data de conversão que acontece 60 meses antes da data de vencimento. Incluindo a própria data de vencimento. Com o Tesouro Educa+, você tem diversas possibilidades para planejar financeiramente o futuro educacional de maneira rápida e fácil.'},\n",
       "   {'bond_name': 'Tesouro Educa+ 2029',\n",
       "    'due_date': datetime.datetime(2033, 12, 15, 0, 0),\n",
       "    'financial_indexer': 'IPCA',\n",
       "    'annual_investment_rate': 5.14,\n",
       "    'annual_redemption_rate': 5.26,\n",
       "    'isin_code': 'BRSTNCNAP0I4',\n",
       "    'sell_price': 2775.81,\n",
       "    'sell_price_unit': 27.76,\n",
       "    'buy_price': 2800.33,\n",
       "    'buy_price_unit': 56.0,\n",
       "    'extended_description': 'Titulo com pagamento de rendas mensais a partir da data de conversão que acontece 60 meses antes da data de vencimento. Incluindo a própria data de vencimento. Com o Tesouro Educa+, você tem diversas possibilidades para planejar financeiramente o futuro educacional de maneira rápida e fácil.'},\n",
       "   {'bond_name': 'Tesouro Educa+ 2030',\n",
       "    'due_date': datetime.datetime(2034, 12, 15, 0, 0),\n",
       "    'financial_indexer': 'IPCA',\n",
       "    'annual_investment_rate': 5.19,\n",
       "    'annual_redemption_rate': 5.31,\n",
       "    'isin_code': 'BRSTNCNAP0J2',\n",
       "    'sell_price': 2626.35,\n",
       "    'sell_price_unit': 26.26,\n",
       "    'buy_price': 2652.55,\n",
       "    'buy_price_unit': 53.05,\n",
       "    'extended_description': 'Titulo com pagamento de rendas mensais a partir da data de conversão que acontece 60 meses antes da data de vencimento. Incluindo a própria data de vencimento. Com o Tesouro Educa+, você tem diversas possibilidades para planejar financeiramente o futuro educacional de maneira rápida e fácil.'},\n",
       "   {'bond_name': 'Tesouro IPCA+ 2035',\n",
       "    'due_date': datetime.datetime(2035, 5, 15, 0, 0),\n",
       "    'financial_indexer': 'IPCA',\n",
       "    'annual_investment_rate': 5.29,\n",
       "    'annual_redemption_rate': 5.41,\n",
       "    'isin_code': 'BRSTNCNTB3E2',\n",
       "    'sell_price': 2234.33,\n",
       "    'sell_price_unit': 22.34,\n",
       "    'buy_price': 2264.23,\n",
       "    'buy_price_unit': 45.28,\n",
       "    'extended_description': 'Título pós-fixado, uma vez que parte do seu rendimento acompanha a variação da taxa de inflação (IPCA). Aumenta o poder de compra do seu dinheiro, pois seu rendimento é compostos por uma taxa de juros + a variação da inflação (IPCA). É mais interessante para quem pode deixar o dinheiro render até o vencimento do investimento, pois não paga juros semestrais. Em caso de resgate antecipado, o Tesouro Nacional garante sua recompra pelo seu valor de mercado.'},\n",
       "   {'bond_name': 'Tesouro IPCA+ com Juros Semestrais 2035',\n",
       "    'due_date': datetime.datetime(2035, 5, 15, 0, 0),\n",
       "    'financial_indexer': 'IPCA',\n",
       "    'annual_investment_rate': 0.0,\n",
       "    'annual_redemption_rate': 5.38,\n",
       "    'isin_code': 'BRSTNCNTB0O7',\n",
       "    'sell_price': 4424.01,\n",
       "    'sell_price_unit': 44.24,\n",
       "    'buy_price': 0.0,\n",
       "    'buy_price_unit': 0.0,\n",
       "    'extended_description': 'Título pós-fixado, uma vez que parte do seu rendimento acompanha a variação da taxa de inflação (IPCA). Aumenta o poder de compra do seu dinheiro, pois seu rendimento é composto por uma taxa de juros + a variação da inflação (IPCA). É mais interessante para quem precisa do seu rendimento para complementar sua renda, pois paga juros a cada semestre (cupons de juros). Em caso de resgate antecipado, o Tesouro Nacional garante sua recompra pelo seu valor de mercado.\\xa0'},\n",
       "   {'bond_name': 'Tesouro Educa+ 2031',\n",
       "    'due_date': datetime.datetime(2035, 12, 15, 0, 0),\n",
       "    'financial_indexer': 'IPCA',\n",
       "    'annual_investment_rate': 5.24,\n",
       "    'annual_redemption_rate': 5.36,\n",
       "    'isin_code': 'BRSTNCNAP0K0',\n",
       "    'sell_price': 2482.7,\n",
       "    'sell_price_unit': 24.83,\n",
       "    'buy_price': 2510.31,\n",
       "    'buy_price_unit': 50.2,\n",
       "    'extended_description': 'Titulo com pagamento de rendas mensais a partir da data de conversão que acontece 60 meses antes da data de vencimento. Incluindo a própria data de vencimento. Com o Tesouro Educa+, você tem diversas possibilidades para planejar financeiramente o futuro educacional de maneira rápida e fácil.'},\n",
       "   {'bond_name': 'Tesouro Educa+ 2032',\n",
       "    'due_date': datetime.datetime(2036, 12, 15, 0, 0),\n",
       "    'financial_indexer': 'IPCA',\n",
       "    'annual_investment_rate': 5.28,\n",
       "    'annual_redemption_rate': 5.4,\n",
       "    'isin_code': 'BRSTNCNAP0Q7',\n",
       "    'sell_price': 2347.21,\n",
       "    'sell_price_unit': 23.47,\n",
       "    'buy_price': 2376.0,\n",
       "    'buy_price_unit': 47.52,\n",
       "    'extended_description': 'Titulo com pagamento de rendas mensais a partir da data de conversão que acontece 60 meses antes da data de vencimento. Incluindo a própria data de vencimento. Com o Tesouro Educa+, você tem diversas possibilidades para planejar financeiramente o futuro educacional de maneira rápida e fácil.'},\n",
       "   {'bond_name': 'Tesouro Educa+ 2033',\n",
       "    'due_date': datetime.datetime(2037, 12, 15, 0, 0),\n",
       "    'financial_indexer': 'IPCA',\n",
       "    'annual_investment_rate': 5.32,\n",
       "    'annual_redemption_rate': 5.44,\n",
       "    'isin_code': 'BRSTNCNAP0R5',\n",
       "    'sell_price': 2217.55,\n",
       "    'sell_price_unit': 22.18,\n",
       "    'buy_price': 2247.28,\n",
       "    'buy_price_unit': 44.94,\n",
       "    'extended_description': 'Titulo com pagamento de rendas mensais a partir da data de conversão que acontece 60 meses antes da data de vencimento. Incluindo a própria data de vencimento. Com o Tesouro Educa+, você tem diversas possibilidades para planejar financeiramente o futuro educacional de maneira rápida e fácil.'},\n",
       "   {'bond_name': 'Tesouro Educa+ 2034',\n",
       "    'due_date': datetime.datetime(2038, 12, 15, 0, 0),\n",
       "    'financial_indexer': 'IPCA',\n",
       "    'annual_investment_rate': 5.34,\n",
       "    'annual_redemption_rate': 5.46,\n",
       "    'isin_code': 'BRSTNCNAP0L8',\n",
       "    'sell_price': 2098.69,\n",
       "    'sell_price_unit': 20.99,\n",
       "    'buy_price': 2129.24,\n",
       "    'buy_price_unit': 42.58,\n",
       "    'extended_description': 'Titulo com pagamento de rendas mensais a partir da data de conversão que acontece 60 meses antes da data de vencimento. Incluindo a própria data de vencimento. Com o Tesouro Educa+, você tem diversas possibilidades para planejar financeiramente o futuro educacional de maneira rápida e fácil.'},\n",
       "   {'bond_name': 'Tesouro Educa+ 2035',\n",
       "    'due_date': datetime.datetime(2039, 12, 15, 0, 0),\n",
       "    'financial_indexer': 'IPCA',\n",
       "    'annual_investment_rate': 5.36,\n",
       "    'annual_redemption_rate': 5.48,\n",
       "    'isin_code': 'BRSTNCNAP0M6',\n",
       "    'sell_price': 1985.42,\n",
       "    'sell_price_unit': 19.85,\n",
       "    'buy_price': 2016.59,\n",
       "    'buy_price_unit': 40.33,\n",
       "    'extended_description': 'Titulo com pagamento de rendas mensais a partir da data de conversão que acontece 60 meses antes da data de vencimento. Incluindo a própria data de vencimento. Com o Tesouro Educa+, você tem diversas possibilidades para planejar financeiramente o futuro educacional de maneira rápida e fácil.'},\n",
       "   {'bond_name': 'Tesouro IPCA+ com Juros Semestrais 2040',\n",
       "    'due_date': datetime.datetime(2040, 8, 15, 0, 0),\n",
       "    'financial_indexer': 'IPCA',\n",
       "    'annual_investment_rate': 5.36,\n",
       "    'annual_redemption_rate': 5.48,\n",
       "    'isin_code': 'BRSTNCNTB3C6',\n",
       "    'sell_price': 4378.15,\n",
       "    'sell_price_unit': 43.78,\n",
       "    'buy_price': 4433.73,\n",
       "    'buy_price_unit': 44.33,\n",
       "    'extended_description': 'Título pós-fixado, uma vez que parte do seu rendimento acompanha a variação da taxa de inflação (IPCA). Aumenta o poder de compra do seu dinheiro, pois seu rendimento é composto por uma taxa de juros + a variação da inflação (IPCA). É mais interessante para quem precisa do seu rendimento para complementar sua renda, pois paga juros a cada semestre (cupons de juros). Em caso de resgate antecipado, o Tesouro Nacional garante sua recompra pelo seu valor de mercado.\\xa0'},\n",
       "   {'bond_name': 'Tesouro Educa+ 2036',\n",
       "    'due_date': datetime.datetime(2040, 12, 15, 0, 0),\n",
       "    'financial_indexer': 'IPCA',\n",
       "    'annual_investment_rate': 5.38,\n",
       "    'annual_redemption_rate': 5.5,\n",
       "    'isin_code': 'BRSTNCNAP0N4',\n",
       "    'sell_price': 1877.29,\n",
       "    'sell_price_unit': 18.77,\n",
       "    'buy_price': 1908.92,\n",
       "    'buy_price_unit': 38.17,\n",
       "    'extended_description': 'Titulo com pagamento de rendas mensais a partir da data de conversão que acontece 60 meses antes da data de vencimento. Incluindo a própria data de vencimento. Com o Tesouro Educa+, você tem diversas possibilidades para planejar financeiramente o futuro educacional de maneira rápida e fácil.'},\n",
       "   {'bond_name': 'Tesouro Educa+ 2037',\n",
       "    'due_date': datetime.datetime(2041, 12, 15, 0, 0),\n",
       "    'financial_indexer': 'IPCA',\n",
       "    'annual_investment_rate': 5.41,\n",
       "    'annual_redemption_rate': 5.53,\n",
       "    'isin_code': 'BRSTNCNAP0O2',\n",
       "    'sell_price': 1771.72,\n",
       "    'sell_price_unit': 17.72,\n",
       "    'buy_price': 1803.61,\n",
       "    'buy_price_unit': 36.07,\n",
       "    'extended_description': 'Titulo com pagamento de rendas mensais a partir da data de conversão que acontece 60 meses antes da data de vencimento. Incluindo a própria data de vencimento. Com o Tesouro Educa+, você tem diversas possibilidades para planejar financeiramente o futuro educacional de maneira rápida e fácil.'},\n",
       "   {'bond_name': 'Tesouro Educa+ 2038',\n",
       "    'due_date': datetime.datetime(2042, 12, 15, 0, 0),\n",
       "    'financial_indexer': 'IPCA',\n",
       "    'annual_investment_rate': 5.44,\n",
       "    'annual_redemption_rate': 5.56,\n",
       "    'isin_code': 'BRSTNCNAP0S3',\n",
       "    'sell_price': 1671.15,\n",
       "    'sell_price_unit': 16.71,\n",
       "    'buy_price': 1703.16,\n",
       "    'buy_price_unit': 34.06,\n",
       "    'extended_description': 'Titulo com pagamento de rendas mensais a partir da data de conversão que acontece 60 meses antes da data de vencimento. Incluindo a própria data de vencimento. Com o Tesouro Educa+, você tem diversas possibilidades para planejar financeiramente o futuro educacional de maneira rápida e fácil.'},\n",
       "   {'bond_name': 'Tesouro Educa+ 2039',\n",
       "    'due_date': datetime.datetime(2043, 12, 15, 0, 0),\n",
       "    'financial_indexer': 'IPCA',\n",
       "    'annual_investment_rate': 5.47,\n",
       "    'annual_redemption_rate': 5.59,\n",
       "    'isin_code': 'BRSTNCNAP0T1',\n",
       "    'sell_price': 1575.31,\n",
       "    'sell_price_unit': 15.75,\n",
       "    'buy_price': 1607.29,\n",
       "    'buy_price_unit': 32.14,\n",
       "    'extended_description': 'Titulo com pagamento de rendas mensais a partir da data de conversão que acontece 60 meses antes da data de vencimento. Incluindo a própria data de vencimento. Com o Tesouro Educa+, você tem diversas possibilidades para planejar financeiramente o futuro educacional de maneira rápida e fácil.'},\n",
       "   {'bond_name': 'Tesouro Educa+ 2040',\n",
       "    'due_date': datetime.datetime(2044, 12, 15, 0, 0),\n",
       "    'financial_indexer': 'IPCA',\n",
       "    'annual_investment_rate': 5.5,\n",
       "    'annual_redemption_rate': 5.62,\n",
       "    'isin_code': 'BRSTNCNAP0U9',\n",
       "    'sell_price': 1484.14,\n",
       "    'sell_price_unit': 14.84,\n",
       "    'buy_price': 1515.98,\n",
       "    'buy_price_unit': 30.31,\n",
       "    'extended_description': 'Titulo com pagamento de rendas mensais a partir da data de conversão que acontece 60 meses antes da data de vencimento. Incluindo a própria data de vencimento. Com o Tesouro Educa+, você tem diversas possibilidades para planejar financeiramente o futuro educacional de maneira rápida e fácil.'},\n",
       "   {'bond_name': 'Tesouro IPCA+ 2045',\n",
       "    'due_date': datetime.datetime(2045, 5, 15, 0, 0),\n",
       "    'financial_indexer': 'IPCA',\n",
       "    'annual_investment_rate': 5.59,\n",
       "    'annual_redemption_rate': 5.71,\n",
       "    'isin_code': 'BRSTNCNTB2U0',\n",
       "    'sell_price': 1242.37,\n",
       "    'sell_price_unit': 12.42,\n",
       "    'buy_price': 1273.29,\n",
       "    'buy_price_unit': 38.19,\n",
       "    'extended_description': 'Título pós-fixado, uma vez que parte do seu rendimento acompanha a variação da taxa de inflação (IPCA). Aumenta o poder de compra do seu dinheiro, pois seu rendimento é composto por uma taxa de juros + a variação da inflação (IPCA). É mais interessante para quem pode deixar o dinheiro render até o vencimento do investimento, pois não paga juros semestrais. Em caso de resgate antecipado, o Tesouro Nacional garante sua recompra pelo seu valor de mercado.'},\n",
       "   {'bond_name': 'Tesouro IPCA+ com Juros Semestrais 2045',\n",
       "    'due_date': datetime.datetime(2045, 5, 15, 0, 0),\n",
       "    'financial_indexer': 'IPCA',\n",
       "    'annual_investment_rate': 0.0,\n",
       "    'annual_redemption_rate': 5.58,\n",
       "    'isin_code': 'BRSTNCNTB0A6',\n",
       "    'sell_price': 4423.56,\n",
       "    'sell_price_unit': 44.24,\n",
       "    'buy_price': 0.0,\n",
       "    'buy_price_unit': 0.0,\n",
       "    'extended_description': 'Título pós-fixado, uma vez que parte do seu rendimento acompanha a variação da taxa de inflação (IPCA). Aumenta o poder de compra do seu dinheiro, pois seu rendimento é composto por uma taxa de juros + a variação da inflação (IPCA). É mais interessante para quem precisa do seu rendimento para complementar sua renda, pois paga juros a cada semestre (cupons de juros). Em caso de resgate antecipado, o Tesouro Nacional garante sua recompra pelo seu valor de mercado.\\xa0'},\n",
       "   {'bond_name': 'Tesouro Educa+ 2041',\n",
       "    'due_date': datetime.datetime(2045, 12, 15, 0, 0),\n",
       "    'financial_indexer': 'IPCA',\n",
       "    'annual_investment_rate': 5.53,\n",
       "    'annual_redemption_rate': 5.65,\n",
       "    'isin_code': 'BRSTNCNAP0V7',\n",
       "    'sell_price': 1397.53,\n",
       "    'sell_price_unit': 13.98,\n",
       "    'buy_price': 1429.12,\n",
       "    'buy_price_unit': 42.87,\n",
       "    'extended_description': 'Titulo com pagamento de rendas mensais a partir da data de conversão que acontece 60 meses antes da data de vencimento. Incluindo a própria data de vencimento. Com o Tesouro Educa+, você tem diversas possibilidades para planejar financeiramente o futuro educacional de maneira rápida e fácil.'},\n",
       "   {'bond_name': 'Tesouro Renda+ Aposentadoria Extra 2030',\n",
       "    'due_date': datetime.datetime(2049, 12, 15, 0, 0),\n",
       "    'financial_indexer': 'IPCA',\n",
       "    'annual_investment_rate': 5.42,\n",
       "    'annual_redemption_rate': 5.54,\n",
       "    'isin_code': 'BRSTNCNAP0E3',\n",
       "    'sell_price': 1800.77,\n",
       "    'sell_price_unit': 18.01,\n",
       "    'buy_price': 1830.84,\n",
       "    'buy_price_unit': 36.61,\n",
       "    'extended_description': 'Titulo com pagamento de rendas mensais a partir da data de conversão que acontece 240 meses antes da data de vencimento. Incluindo a própria data de vencimento.   O Título vai servir como um complemento da aposentadoria pública para o investidor. Ajudando o mesmo a se aposentar com qualidade.'},\n",
       "   {'bond_name': 'Tesouro IPCA+ com Juros Semestrais 2050',\n",
       "    'due_date': datetime.datetime(2050, 8, 15, 0, 0),\n",
       "    'financial_indexer': 'IPCA',\n",
       "    'annual_investment_rate': 0.0,\n",
       "    'annual_redemption_rate': 5.61,\n",
       "    'isin_code': 'BRSTNCNTB3D4',\n",
       "    'sell_price': 4369.01,\n",
       "    'sell_price_unit': 43.69,\n",
       "    'buy_price': 0.0,\n",
       "    'buy_price_unit': 0.0,\n",
       "    'extended_description': 'Título pós-fixado, uma vez que parte do seu rendimento acompanha a variação da taxa de inflação (IPCA). Aumenta o poder de compra do seu dinheiro, pois seu rendimento é composto por uma taxa de juros + a variação da inflação (IPCA). É mais interessante para quem precisa do seu rendimento para complementar sua renda, pois paga juros a cada semestre (cupons de juros). Em caso de resgate antecipado, o Tesouro Nacional garante sua recompra pelo seu valor de mercado.\\xa0'},\n",
       "   {'bond_name': 'Tesouro Renda+ Aposentadoria Extra 2035',\n",
       "    'due_date': datetime.datetime(2054, 12, 15, 0, 0),\n",
       "    'financial_indexer': 'IPCA',\n",
       "    'annual_investment_rate': 5.51,\n",
       "    'annual_redemption_rate': 5.63,\n",
       "    'isin_code': 'BRSTNCNAP096',\n",
       "    'sell_price': 1353.76,\n",
       "    'sell_price_unit': 13.54,\n",
       "    'buy_price': 1384.13,\n",
       "    'buy_price_unit': 41.52,\n",
       "    'extended_description': 'Titulo com pagamento de rendas mensais a partir da data de conversão que acontece 240 meses antes da data de vencimento. Incluindo a própria data de vencimento. O Título vai servir como um complemento da aposentadoria pública para o investidor. Ajudando o mesmo a se aposentar com qualidade.'},\n",
       "   {'bond_name': 'Tesouro IPCA+ com Juros Semestrais 2055',\n",
       "    'due_date': datetime.datetime(2055, 5, 15, 0, 0),\n",
       "    'financial_indexer': 'IPCA',\n",
       "    'annual_investment_rate': 5.47,\n",
       "    'annual_redemption_rate': 5.59,\n",
       "    'isin_code': 'BRSTNCNTB4Q4',\n",
       "    'sell_price': 4458.67,\n",
       "    'sell_price_unit': 44.59,\n",
       "    'buy_price': 4534.97,\n",
       "    'buy_price_unit': 45.34,\n",
       "    'extended_description': 'Título pós-fixado, uma vez que parte do seu rendimento acompanha a variação da taxa de inflação (IPCA). Aumenta o poder de compra do seu dinheiro, pois seu rendimento é composto por uma taxa de juros + a variação da inflação (IPCA). É mais interessante para quem precisa do seu rendimento para complementar sua renda, pois paga juros a cada semestre (cupons de juros). Em caso de resgate antecipado, o Tesouro Nacional garante sua recompra pelo seu valor de mercado.\\xa0'},\n",
       "   {'bond_name': 'Tesouro Renda+ Aposentadoria Extra 2040',\n",
       "    'due_date': datetime.datetime(2059, 12, 15, 0, 0),\n",
       "    'financial_indexer': 'IPCA',\n",
       "    'annual_investment_rate': 5.56,\n",
       "    'annual_redemption_rate': 5.68,\n",
       "    'isin_code': 'BRSTNCNAP0A1',\n",
       "    'sell_price': 1018.47,\n",
       "    'sell_price_unit': 10.18,\n",
       "    'buy_price': 1047.2,\n",
       "    'buy_price_unit': 31.41,\n",
       "    'extended_description': 'Titulo com pagamento de rendas mensais a partir da data de conversão que acontece 240 meses antes da data de vencimento. Incluindo a própria data de vencimento. O Título vai servir como um complemento da aposentadoria pública para o investidor. Ajudando o mesmo a se aposentar com qualidade.'},\n",
       "   {'bond_name': 'Tesouro Renda+ Aposentadoria Extra 2045',\n",
       "    'due_date': datetime.datetime(2064, 12, 15, 0, 0),\n",
       "    'financial_indexer': 'IPCA',\n",
       "    'annual_investment_rate': 5.57,\n",
       "    'annual_redemption_rate': 5.69,\n",
       "    'isin_code': 'BRSTNCNAP0F0',\n",
       "    'sell_price': 771.25,\n",
       "    'sell_price_unit': 7.71,\n",
       "    'buy_price': 797.5,\n",
       "    'buy_price_unit': 31.9,\n",
       "    'extended_description': 'Titulo com pagamento de rendas mensais a partir da data de conversão que acontece 240 meses antes da data de vencimento. Incluindo a própria data de vencimento. O Título vai servir como um complemento da aposentadoria pública para o investidor. Ajudando o mesmo a se aposentar com qualidade.'},\n",
       "   {'bond_name': 'Tesouro Renda+ Aposentadoria Extra 2050',\n",
       "    'due_date': datetime.datetime(2069, 12, 15, 0, 0),\n",
       "    'financial_indexer': 'IPCA',\n",
       "    'annual_investment_rate': 5.55,\n",
       "    'annual_redemption_rate': 5.67,\n",
       "    'isin_code': 'BRSTNCNAP0D5',\n",
       "    'sell_price': 589.18,\n",
       "    'sell_price_unit': 5.89,\n",
       "    'buy_price': 612.7,\n",
       "    'buy_price_unit': 30.63,\n",
       "    'extended_description': 'Titulo com pagamento de rendas mensais a partir da data de conversão que acontece 240 meses antes da data de vencimento. Incluindo a própria data de vencimento. O Título vai servir como um complemento da aposentadoria pública para o investidor. Ajudando o mesmo a se aposentar com qualidade.'},\n",
       "   {'bond_name': 'Tesouro Renda+ Aposentadoria Extra 2055',\n",
       "    'due_date': datetime.datetime(2074, 12, 15, 0, 0),\n",
       "    'financial_indexer': 'IPCA',\n",
       "    'annual_investment_rate': 5.54,\n",
       "    'annual_redemption_rate': 5.66,\n",
       "    'isin_code': 'BRSTNCNAP0B9',\n",
       "    'sell_price': 449.24,\n",
       "    'sell_price_unit': 4.49,\n",
       "    'buy_price': 469.83,\n",
       "    'buy_price_unit': 32.88,\n",
       "    'extended_description': 'Titulo com pagamento de rendas mensais a partir da data de conversão que acontece 240 meses antes da data de vencimento. Incluindo a própria data de vencimento. O Título vai servir como um complemento da aposentadoria pública para o investidor. Ajudando o mesmo a se aposentar com qualidade.'},\n",
       "   {'bond_name': 'Tesouro Renda+ Aposentadoria Extra 2060',\n",
       "    'due_date': datetime.datetime(2079, 12, 15, 0, 0),\n",
       "    'financial_indexer': 'IPCA',\n",
       "    'annual_investment_rate': 5.54,\n",
       "    'annual_redemption_rate': 5.66,\n",
       "    'isin_code': 'BRSTNCNAP0C7',\n",
       "    'sell_price': 341.42,\n",
       "    'sell_price_unit': 3.41,\n",
       "    'buy_price': 359.09,\n",
       "    'buy_price_unit': 32.31,\n",
       "    'extended_description': 'Titulo com pagamento de rendas mensais a partir da data de conversão que acontece 240 meses antes da data de vencimento. Incluindo a própria data de vencimento. O Título vai servir como um complemento da aposentadoria pública para o investidor. Ajudando o mesmo a se aposentar com qualidade.'},\n",
       "   {'bond_name': 'Tesouro Renda+ Aposentadoria Extra 2065',\n",
       "    'due_date': datetime.datetime(2084, 12, 15, 0, 0),\n",
       "    'financial_indexer': 'IPCA',\n",
       "    'annual_investment_rate': 5.54,\n",
       "    'annual_redemption_rate': 5.66,\n",
       "    'isin_code': 'BRSTNCNAP088',\n",
       "    'sell_price': 259.49,\n",
       "    'sell_price_unit': 2.59,\n",
       "    'buy_price': 274.48,\n",
       "    'buy_price_unit': 30.19,\n",
       "    'extended_description': 'Titulo com pagamento de rendas mensais a partir da data de conversão que acontece 240 meses antes da data de vencimento. Incluindo a própria data de vencimento. O Título vai servir como um complemento da aposentadoria pública para o investidor. Ajudando o mesmo a se aposentar com qualidade.'},\n",
       "   {'bond_name': 'Tesouro IGPM+ com Juros Semestrais 2031',\n",
       "    'due_date': datetime.datetime(2031, 1, 1, 0, 0),\n",
       "    'financial_indexer': 'IGP-M',\n",
       "    'annual_investment_rate': 0.0,\n",
       "    'annual_redemption_rate': 5.51,\n",
       "    'isin_code': 'BRSTNCNTC0K4',\n",
       "    'sell_price': 8343.79,\n",
       "    'sell_price_unit': 83.44,\n",
       "    'buy_price': 0.0,\n",
       "    'buy_price_unit': 0.0,\n",
       "    'extended_description': 'Título pós-fixado, uma vez que parte do seu rendimento acompanha a variação da taxa de inflação (IGP-M). None'}]}}"
      ]
     },
     "execution_count": 8,
     "metadata": {},
     "output_type": "execute_result"
    }
   ],
   "source": [
    "td_list"
   ]
  },
  {
   "cell_type": "code",
   "execution_count": 9,
   "metadata": {},
   "outputs": [
    {
     "data": {
      "text/plain": [
       "['Tesouro Selic 2024',\n",
       " 'Tesouro Selic 2025',\n",
       " 'Tesouro Selic 2026',\n",
       " 'Tesouro Selic 2027',\n",
       " 'Tesouro Selic 2029',\n",
       " 'Tesouro Prefixado 2024',\n",
       " 'Tesouro Prefixado 2025',\n",
       " 'Tesouro Prefixado com Juros Semestrais 2025',\n",
       " 'Tesouro Prefixado 2026',\n",
       " 'Tesouro Prefixado com Juros Semestrais 2027',\n",
       " 'Tesouro Prefixado 2029',\n",
       " 'Tesouro Prefixado com Juros Semestrais 2029',\n",
       " 'Tesouro Prefixado com Juros Semestrais 2031',\n",
       " 'Tesouro Prefixado com Juros Semestrais 2033',\n",
       " 'Tesouro IPCA+ 2024',\n",
       " 'Tesouro IPCA+ com Juros Semestrais 2024',\n",
       " 'Tesouro IPCA+ 2026',\n",
       " 'Tesouro IPCA+ com Juros Semestrais 2026',\n",
       " 'Tesouro IPCA+ 2029',\n",
       " 'Tesouro IPCA+ com Juros Semestrais 2030',\n",
       " 'Tesouro Educa+ 2026',\n",
       " 'Tesouro Educa+ 2027',\n",
       " 'Tesouro IPCA+ com Juros Semestrais 2032',\n",
       " 'Tesouro Educa+ 2028',\n",
       " 'Tesouro Educa+ 2029',\n",
       " 'Tesouro Educa+ 2030',\n",
       " 'Tesouro IPCA+ 2035',\n",
       " 'Tesouro IPCA+ com Juros Semestrais 2035',\n",
       " 'Tesouro Educa+ 2031',\n",
       " 'Tesouro Educa+ 2032',\n",
       " 'Tesouro Educa+ 2033',\n",
       " 'Tesouro Educa+ 2034',\n",
       " 'Tesouro Educa+ 2035',\n",
       " 'Tesouro IPCA+ com Juros Semestrais 2040',\n",
       " 'Tesouro Educa+ 2036',\n",
       " 'Tesouro Educa+ 2037',\n",
       " 'Tesouro Educa+ 2038',\n",
       " 'Tesouro Educa+ 2039',\n",
       " 'Tesouro Educa+ 2040',\n",
       " 'Tesouro IPCA+ 2045',\n",
       " 'Tesouro IPCA+ com Juros Semestrais 2045',\n",
       " 'Tesouro Educa+ 2041',\n",
       " 'Tesouro Renda+ Aposentadoria Extra 2030',\n",
       " 'Tesouro IPCA+ com Juros Semestrais 2050',\n",
       " 'Tesouro Renda+ Aposentadoria Extra 2035',\n",
       " 'Tesouro IPCA+ com Juros Semestrais 2055',\n",
       " 'Tesouro Renda+ Aposentadoria Extra 2040',\n",
       " 'Tesouro Renda+ Aposentadoria Extra 2045',\n",
       " 'Tesouro Renda+ Aposentadoria Extra 2050',\n",
       " 'Tesouro Renda+ Aposentadoria Extra 2055',\n",
       " 'Tesouro Renda+ Aposentadoria Extra 2060',\n",
       " 'Tesouro Renda+ Aposentadoria Extra 2065',\n",
       " 'Tesouro IGPM+ com Juros Semestrais 2031']"
      ]
     },
     "execution_count": 9,
     "metadata": {},
     "output_type": "execute_result"
    }
   ],
   "source": [
    "[(b['bond_name']) for b in td_list['details']['bonds']]"
   ]
  },
  {
   "cell_type": "code",
   "execution_count": 10,
   "metadata": {},
   "outputs": [],
   "source": [
    "bond = TD.treasury_bonds(x='Tesouro Prefixado com Juros Semestrais 2029')"
   ]
  },
  {
   "cell_type": "code",
   "execution_count": 11,
   "metadata": {},
   "outputs": [
    {
     "data": {
      "text/plain": [
       "{'info': 'TREASURY BOND',\n",
       " 'source': 'TESOURO DIRETO',\n",
       " 'status': 'SUCCESS',\n",
       " 'details': {'market': {'status': 'CLOSED',\n",
       "   'closing_time': datetime.datetime(2023, 8, 28, 5, 0, tzinfo=<DstTzInfo 'America/Sao_Paulo' LMT-1 day, 20:54:00 STD>),\n",
       "   'opening_time': datetime.datetime(2023, 8, 25, 9, 25, tzinfo=<DstTzInfo 'America/Sao_Paulo' LMT-1 day, 20:54:00 STD>),\n",
       "   'position_time': datetime.datetime(2023, 8, 26, 16, 48, 1, 429000, tzinfo=<DstTzInfo 'America/Sao_Paulo' LMT-1 day, 20:54:00 STD>)},\n",
       "  'matches': 1,\n",
       "  'bonds': [{'bond_name': 'Tesouro Prefixado com Juros Semestrais 2029',\n",
       "    'due_date': datetime.datetime(2029, 1, 1, 0, 0),\n",
       "    'financial_indexer': 'PREFIXADO',\n",
       "    'annual_investment_rate': 0.0,\n",
       "    'annual_redemption_rate': 10.87,\n",
       "    'isin_code': 'BRSTNCNTF1Q6',\n",
       "    'sell_price': 983.28,\n",
       "    'sell_price_unit': 9.83,\n",
       "    'buy_price': 0.0,\n",
       "    'buy_price_unit': 0.0,\n",
       "    'extended_description': 'Título prefixado, ou seja, no momento da compra, você já sabe exatamente quanto irá receber no futuro (sempre R$ 1.000 por unidade de título + último pagamento de juros semestrais). É mais interessante para quem precisa dos seus rendimentos para complementar sua renda, pois paga juros a cada semestre (cupons de juros). Em caso de resgate antecipado, o Tesouro Nacional garante sua recompra pelo seu valor de mercado.'}]}}"
      ]
     },
     "execution_count": 11,
     "metadata": {},
     "output_type": "execute_result"
    }
   ],
   "source": [
    "bond"
   ]
  },
  {
   "cell_type": "markdown",
   "metadata": {},
   "source": [
    "from fbpyutils_finance import investidor10 as INV10"
   ]
  },
  {
   "cell_type": "markdown",
   "metadata": {},
   "source": [
    "fiis = INV10.get_fii_daily_position(parallelize=True)"
   ]
  },
  {
   "cell_type": "markdown",
   "metadata": {},
   "source": [
    "fiis.shape"
   ]
  },
  {
   "cell_type": "markdown",
   "metadata": {},
   "source": [
    "fiis.head(3)"
   ]
  },
  {
   "cell_type": "markdown",
   "metadata": {},
   "source": [
    "from fbpyutils_finance import google as G"
   ]
  },
  {
   "cell_type": "markdown",
   "metadata": {},
   "source": [
    "G.exchange_rate('USD', 'BRL')"
   ]
  },
  {
   "cell_type": "markdown",
   "metadata": {},
   "source": [
    "G.stock_price('CACR11')"
   ]
  },
  {
   "cell_type": "markdown",
   "metadata": {},
   "source": [
    "from fbpyutils_finance import cvm\n",
    "from fbpyutils_finance.cvm import *"
   ]
  },
  {
   "cell_type": "markdown",
   "metadata": {},
   "source": [
    "history_folder = '/mnt/c/Users/fcjbispo/Dados/InfoBR/Series/cvm'"
   ]
  },
  {
   "cell_type": "markdown",
   "metadata": {},
   "source": [
    "self = CVM(history_folder=history_folder)"
   ]
  },
  {
   "cell_type": "markdown",
   "metadata": {},
   "source": [
    "# r = self.update_cvm_catalog()"
   ]
  },
  {
   "cell_type": "markdown",
   "metadata": {},
   "source": [
    "cvm_files = self.get_cvm_files(kind='IF_REGISTER')"
   ]
  },
  {
   "cell_type": "markdown",
   "metadata": {},
   "source": [
    "cvm_files"
   ]
  },
  {
   "cell_type": "markdown",
   "metadata": {},
   "source": [
    "from fbpyutils_finance import cei as CEI\n",
    "from fbpyutils_finance.cei import schemas as CEI_SCHEMAS"
   ]
  },
  {
   "cell_type": "markdown",
   "metadata": {},
   "source": [
    "input_folder= '/home/fcjbispo/Meu Drive/Finanças/Extratos & Faturas/CEI/aa_input'\n",
    "output_folder= '/home/fcjbispo/Meu Drive/Finanças/Extratos & Faturas/CEI/zz_output'"
   ]
  },
  {
   "cell_type": "markdown",
   "metadata": {},
   "source": [
    "r = CEI.get_cei_data(input_folder, with_pos_operations=True)"
   ]
  },
  {
   "cell_type": "markdown",
   "metadata": {},
   "source": [
    "set([o[0] for o in r])"
   ]
  },
  {
   "cell_type": "markdown",
   "metadata": {},
   "source": [
    "for op, size, data in r:\n",
    "    if op == 'posicao_fundos_investimento':\n",
    "        break"
   ]
  },
  {
   "cell_type": "markdown",
   "metadata": {},
   "source": [
    "data.dtypes"
   ]
  },
  {
   "cell_type": "code",
   "execution_count": 12,
   "metadata": {},
   "outputs": [],
   "source": [
    "from fbpyutils_finance import google as G\n",
    "from fbpyutils_finance.google import _googlesearch\n",
    "\n",
    "from fbpyutils import debug\n",
    "\n",
    "from fbpyutils.datetime import apply_timezone\n",
    "\n",
    "from typing import Dict\n",
    "import requests \n",
    "import datetime\n",
    "from bs4 import BeautifulSoup"
   ]
  },
  {
   "cell_type": "code",
   "execution_count": 14,
   "metadata": {},
   "outputs": [
    {
     "data": {
      "text/plain": [
       "{'info': 'STOCK PRICE',\n",
       " 'source': 'GOOGLE',\n",
       " 'status': 'ERROR',\n",
       " 'details': {'error_message': 'Unable to parse info: Market Timezone: Traceback (most recent call last):\\n  File \"/mnt/c/Users/fcjbispo/Projetos/fbpyutils-finance/tests/../fbpyutils_finance/google/__init__.py\", line 250, in stock_price\\n    raise ValueError(\\'Unable to parse info: {}\\'.format(\\'Market Timezone\\'))\\nValueError: Unable to parse info: Market Timezone\\n.'}}"
      ]
     },
     "execution_count": 14,
     "metadata": {},
     "output_type": "execute_result"
    }
   ],
   "source": [
    "G.stock_price('NOBL')"
   ]
  },
  {
   "cell_type": "code",
   "execution_count": null,
   "metadata": {},
   "outputs": [],
   "source": []
  }
 ],
 "metadata": {
  "kernelspec": {
   "display_name": "Python 3.9.10 ('fbpyutils-finance-_LfGj1KF')",
   "language": "python",
   "name": "python3"
  },
  "language_info": {
   "codemirror_mode": {
    "name": "ipython",
    "version": 3
   },
   "file_extension": ".py",
   "mimetype": "text/x-python",
   "name": "python",
   "nbconvert_exporter": "python",
   "pygments_lexer": "ipython3",
   "version": "3.10.12"
  },
  "orig_nbformat": 4,
  "vscode": {
   "interpreter": {
    "hash": "e7f24432d049c1b18e987ee934c8db217ea4e1ba4f03ab69f7655027a0e5228d"
   }
  }
 },
 "nbformat": 4,
 "nbformat_minor": 2
}
