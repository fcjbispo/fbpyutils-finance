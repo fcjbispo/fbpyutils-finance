{
 "cells": [
  {
   "cell_type": "code",
   "execution_count": 1,
   "metadata": {},
   "outputs": [],
   "source": [
    "import sys\n",
    "sys.path.insert(0, '..')"
   ]
  },
  {
   "cell_type": "code",
   "execution_count": 2,
   "metadata": {},
   "outputs": [],
   "source": [
    "from fbpyutils import xlsx as XL, file as FU, string as SU\n",
    "import fbpyutils_finance as FI"
   ]
  },
  {
   "cell_type": "code",
   "execution_count": 3,
   "metadata": {},
   "outputs": [],
   "source": [
    "import os\n",
    "import sqlite3\n",
    "import pandas as pd"
   ]
  },
  {
   "cell_type": "code",
   "execution_count": 4,
   "metadata": {},
   "outputs": [
    {
     "data": {
      "text/plain": [
       "'C:\\\\Users\\\\fcjbispo\\\\Projetos\\\\fbpyutils-finance\\\\fbpyutils_finance'"
      ]
     },
     "execution_count": 4,
     "metadata": {},
     "output_type": "execute_result"
    }
   ],
   "source": [
    "FI.APP_FOLDER"
   ]
  },
  {
   "cell_type": "code",
   "execution_count": 5,
   "metadata": {},
   "outputs": [
    {
     "data": {
      "text/plain": [
       "{'bvmf-bmfbovespa-com-br': 'C:\\\\Users\\\\fcjbispo\\\\Projetos\\\\fbpyutils-finance\\\\fbpyutils_finance\\\\certificates\\\\bvmf-bmfbovespa-com-br.pem'}"
      ]
     },
     "execution_count": 5,
     "metadata": {},
     "output_type": "execute_result"
    }
   ],
   "source": [
    "FI.CERTIFICATES"
   ]
  },
  {
   "cell_type": "markdown",
   "metadata": {},
   "source": [
    "from fbpyutils_finance import bovespa as BOV"
   ]
  },
  {
   "cell_type": "markdown",
   "metadata": {},
   "source": [
    "bovespa_series_folder = '/mnt/c/Users/fcjbispo/Dados/InfoBR/Series/bovespa'"
   ]
  },
  {
   "cell_type": "markdown",
   "metadata": {},
   "source": [
    "# db = sqlite3.connect(':memory:')\n",
    "db = sqlite3.connect(os.path.sep.join([bovespa_series_folder, 'bovespa.db']))"
   ]
  },
  {
   "cell_type": "markdown",
   "metadata": {},
   "source": [
    "stock_history = BOV.StockHistory(download_folder=bovespa_series_folder)"
   ]
  },
  {
   "cell_type": "markdown",
   "metadata": {},
   "source": [
    "# data = stock_history.get_stock_history(\n",
    "#     period='A', \n",
    "#     period_data=None, \n",
    "#     fetch_mode=BOV.FetchModes.DOWNLOAD, \n",
    "#     compact=False, \n",
    "#     original_names=False\n",
    "# )"
   ]
  },
  {
   "cell_type": "markdown",
   "metadata": {},
   "source": [
    "# data.to_sql('cotahist', index=False, con=db, if_exists='replace')"
   ]
  },
  {
   "cell_type": "markdown",
   "metadata": {},
   "source": [
    "# data.columns"
   ]
  },
  {
   "cell_type": "markdown",
   "metadata": {},
   "source": [
    "# tickers = ('QUAL3F', 'SDIL11', 'QUAL3', 'CACR13', 'NUBR33')\n",
    "# market_types = ('10', '20')\n",
    "# bdi_codes = ('02', '12', '35', '96')\n",
    "# pd.read_sql(f'''\n",
    "# select ticker, market_type, bdi_code, min(trade_date), max(trade_date)\n",
    "#   from cotahist\n",
    "#  where ticker in  {str(tickers)}\n",
    "#  group by ticker, market_type, bdi_code\n",
    "#  order by market_type, bdi_code\n",
    "# ''', con=db).head()"
   ]
  },
  {
   "cell_type": "markdown",
   "metadata": {},
   "source": [
    "info_tables = BOV.StockHistory.get_info_tables()"
   ]
  },
  {
   "cell_type": "markdown",
   "metadata": {},
   "source": [
    "info_tables['status']"
   ]
  },
  {
   "cell_type": "markdown",
   "metadata": {},
   "source": [
    "info_tables['tables'].keys()"
   ]
  },
  {
   "cell_type": "code",
   "execution_count": 6,
   "metadata": {},
   "outputs": [],
   "source": [
    "from fbpyutils_finance import tesourodireto as TD\n",
    "from pprint import pprint"
   ]
  },
  {
   "cell_type": "code",
   "execution_count": 7,
   "metadata": {},
   "outputs": [],
   "source": [
    "td_list = TD.treasury_bonds()"
   ]
  },
  {
   "cell_type": "code",
   "execution_count": 9,
   "metadata": {},
   "outputs": [
    {
     "data": {
      "text/plain": [
       "{'info': 'TREASURY BOND',\n",
       " 'source': 'TESOURO DIRETO',\n",
       " 'status': 'SUCCESS',\n",
       " 'details': {'market': {'status': 'CLOSED',\n",
       "   'closing_time': datetime.datetime(2023, 8, 21, 5, 0, tzinfo=<DstTzInfo 'America/Sao_Paulo' LMT-1 day, 20:54:00 STD>),\n",
       "   'opening_time': datetime.datetime(2023, 8, 18, 9, 25, tzinfo=<DstTzInfo 'America/Sao_Paulo' LMT-1 day, 20:54:00 STD>),\n",
       "   'position_time': datetime.datetime(2023, 8, 19, 16, 48, 1, 492000, tzinfo=<DstTzInfo 'America/Sao_Paulo' LMT-1 day, 20:54:00 STD>)},\n",
       "  'matches': 53,\n",
       "  'bonds': [{'bond_name': 'Tesouro Selic 2024',\n",
       "    'due_date': datetime.datetime(2024, 9, 1, 0, 0),\n",
       "    'financial_indexer': 'SELIC',\n",
       "    'annual_investment_rate': 0.0,\n",
       "    'annual_redemption_rate': 0.0111,\n",
       "    'isin_code': 'BRSTNCLF0008',\n",
       "    'sell_price': 13686.49,\n",
       "    'sell_price_unit': 136.86,\n",
       "    'buy_price': 0.0,\n",
       "    'buy_price_unit': 0.0,\n",
       "    'extended_description': 'Título com rentabilidade diária vinculada à taxa de juros da economia (taxa Selic). Isso significa que se a taxa Selic aumentar a sua rentabilidade aumenta e se a taxa Selic diminuir, sua rentabilidade diminui. Como não paga juros semestrais, é mais interessante para quem pode deixar o dinheiro render até o vencimento do investimento'},\n",
       "   {'bond_name': 'Tesouro Selic 2025',\n",
       "    'due_date': datetime.datetime(2025, 3, 1, 0, 0),\n",
       "    'financial_indexer': 'SELIC',\n",
       "    'annual_investment_rate': 0.0,\n",
       "    'annual_redemption_rate': 0.0259,\n",
       "    'isin_code': 'BRSTNCLF1RC4',\n",
       "    'sell_price': 13682.63,\n",
       "    'sell_price_unit': 136.83,\n",
       "    'buy_price': 0.0,\n",
       "    'buy_price_unit': 0.0,\n",
       "    'extended_description': 'Título com rentabilidade diária vinculada à taxa de juros da economia (taxa Selic). Isso significa que se a taxa Selic aumentar a sua rentabilidade aumenta e se a taxa Selic diminuir, sua rentabilidade diminui. Como não paga juros semestrais, é mais interessante para quem pode deixar o dinheiro render até o vencimento do investimento'},\n",
       "   {'bond_name': 'Tesouro Selic 2026',\n",
       "    'due_date': datetime.datetime(2026, 3, 1, 0, 0),\n",
       "    'financial_indexer': 'SELIC',\n",
       "    'annual_investment_rate': 0.0583,\n",
       "    'annual_redemption_rate': 0.0683,\n",
       "    'isin_code': 'BRSTNCLF1RE0',\n",
       "    'sell_price': 13664.49,\n",
       "    'sell_price_unit': 136.64,\n",
       "    'buy_price': 13667.94,\n",
       "    'buy_price_unit': 136.67,\n",
       "    'extended_description': 'Título com rentabilidade diária vinculada à taxa de juros da economia (taxa Selic). Isso significa que se a taxa Selic aumentar a sua rentabilidade aumenta e se a taxa Selic diminuir, sua rentabilidade diminui. Como não paga juros semestrais, é mais interessante para quem pode deixar o dinheiro render até o vencimento do investimento'},\n",
       "   {'bond_name': 'Tesouro Selic 2027',\n",
       "    'due_date': datetime.datetime(2027, 3, 1, 0, 0),\n",
       "    'financial_indexer': 'SELIC',\n",
       "    'annual_investment_rate': 0.0,\n",
       "    'annual_redemption_rate': 0.1275,\n",
       "    'isin_code': 'BRSTNCLF1RG5',\n",
       "    'sell_price': 13626.95,\n",
       "    'sell_price_unit': 136.27,\n",
       "    'buy_price': 0.0,\n",
       "    'buy_price_unit': 0.0,\n",
       "    'extended_description': 'Título com rentabilidade diária vinculada à taxa de juros da economia (taxa Selic). Isso significa que se a taxa Selic aumentar a sua rentabilidade aumenta e se a taxa Selic diminuir, sua rentabilidade diminui. Como não paga juros semestrais, é mais interessante para quem pode deixar o dinheiro render até o vencimento do investimento'},\n",
       "   {'bond_name': 'Tesouro Selic 2029',\n",
       "    'due_date': datetime.datetime(2029, 3, 1, 0, 0),\n",
       "    'financial_indexer': 'SELIC',\n",
       "    'annual_investment_rate': 0.1582,\n",
       "    'annual_redemption_rate': 0.1682,\n",
       "    'isin_code': 'BRSTNCLF1RL5',\n",
       "    'sell_price': 13562.02,\n",
       "    'sell_price_unit': 135.62,\n",
       "    'buy_price': 13569.48,\n",
       "    'buy_price_unit': 135.69,\n",
       "    'extended_description': 'Título com rentabilidade diária vinculada à taxa de juros da economia (taxa Selic). Isso significa que se a taxa Selic aumentar a sua rentabilidade aumenta e se a taxa Selic diminuir, sua rentabilidade diminui. Como não paga juros semestrais, é mais interessante para quem pode deixar o dinheiro render até o vencimento do investimento'},\n",
       "   {'bond_name': 'Tesouro Prefixado 2024',\n",
       "    'due_date': datetime.datetime(2024, 7, 1, 0, 0),\n",
       "    'financial_indexer': 'PREFIXADO',\n",
       "    'annual_investment_rate': 0.0,\n",
       "    'annual_redemption_rate': 11.37,\n",
       "    'isin_code': 'BRSTNCLTN7W3',\n",
       "    'sell_price': 912.6,\n",
       "    'sell_price_unit': 9.13,\n",
       "    'buy_price': 0.0,\n",
       "    'buy_price_unit': 0.0,\n",
       "    'extended_description': 'Título prefixado, ou seja, no momento da compra, você já sabe exatamente quanto irá receber no futuro (sempre R$ 1.000 por unidade de título). É mais interessante para quem pode deixar o seu dinheiro render até o vencimento do investimento, pois não paga juro semestrais. Em caso de resgate antecipado, o Tesouro Nacional garante sua recompra pelos seus valores de mercado.'},\n",
       "   {'bond_name': 'Tesouro Prefixado 2025',\n",
       "    'due_date': datetime.datetime(2025, 1, 1, 0, 0),\n",
       "    'financial_indexer': 'PREFIXADO',\n",
       "    'annual_investment_rate': 0.0,\n",
       "    'annual_redemption_rate': 10.58,\n",
       "    'isin_code': 'BRSTNCLTN7N2',\n",
       "    'sell_price': 871.72,\n",
       "    'sell_price_unit': 8.72,\n",
       "    'buy_price': 0.0,\n",
       "    'buy_price_unit': 0.0,\n",
       "    'extended_description': 'Título prefixado, ou seja, no momento da compra, você já sabe exatamente quanto irá receber no futuro (sempre R$ 1.000 por unidade de título). É mais interessante para quem pode deixar o seu dinheiro render até o vencimento do investimento, pois não paga juro semestrais. Em caso de resgate antecipado, o Tesouro Nacional garante sua recompra pelos seus valores de mercado.'},\n",
       "   {'bond_name': 'Tesouro Prefixado com Juros Semestrais 2025',\n",
       "    'due_date': datetime.datetime(2025, 1, 1, 0, 0),\n",
       "    'financial_indexer': 'PREFIXADO',\n",
       "    'annual_investment_rate': 0.0,\n",
       "    'annual_redemption_rate': 10.67,\n",
       "    'isin_code': 'BRSTNCNTF170',\n",
       "    'sell_price': 1005.11,\n",
       "    'sell_price_unit': 10.05,\n",
       "    'buy_price': 0.0,\n",
       "    'buy_price_unit': 0.0,\n",
       "    'extended_description': 'Título prefixado, ou seja, no momento da compra, você já sabe exatamente quanto irá receber no futuro (sempre R$ 1.000 por unidade de título + último pagamento de  juros semestrais). É mais interessante para quem precisa dos seus rendimentos para complementar sua renda, pois paga juros a cada semestre (cupons de juros) Em caso de resgate antecipado, o Tesouro Nacional garante sua recompra pelo seu valor de mercado.'},\n",
       "   {'bond_name': 'Tesouro Prefixado 2026',\n",
       "    'due_date': datetime.datetime(2026, 1, 1, 0, 0),\n",
       "    'financial_indexer': 'PREFIXADO',\n",
       "    'annual_investment_rate': 10.16,\n",
       "    'annual_redemption_rate': 10.28,\n",
       "    'isin_code': 'BRSTNCLTN7U7',\n",
       "    'sell_price': 793.09,\n",
       "    'sell_price_unit': 7.93,\n",
       "    'buy_price': 795.13,\n",
       "    'buy_price_unit': 31.8,\n",
       "    'extended_description': 'Título prefixado, ou seja, no momento da compra, você já sabe exatamente quanto irá receber no futuro (sempre R$ 1.000 por unidade de título). É mais interessante para quem pode deixar o seu dinheiro render até o vencimento do investimento, pois não paga juro semestrais. Em caso de resgate antecipado, o Tesouro Nacional garante sua recompra pelos seus valores de mercado.'},\n",
       "   {'bond_name': 'Tesouro Prefixado com Juros Semestrais 2027',\n",
       "    'due_date': datetime.datetime(2027, 1, 1, 0, 0),\n",
       "    'financial_indexer': 'PREFIXADO',\n",
       "    'annual_investment_rate': 0.0,\n",
       "    'annual_redemption_rate': 10.47,\n",
       "    'isin_code': 'BRSTNCNTF1P8',\n",
       "    'sell_price': 1000.94,\n",
       "    'sell_price_unit': 10.01,\n",
       "    'buy_price': 0.0,\n",
       "    'buy_price_unit': 0.0,\n",
       "    'extended_description': 'Título prefixado, ou seja, no momento da compra, você já sabe exatamente quanto irá receber no futuro (sempre R$ 1.000 por unidade de título + último pagamento de juros semestrais). É mais interessante para quem precisa dos seus rendimentos para complementar sua renda, pois paga juros a cada semestre (cupons de juros). Em caso de resgate antecipado, o Tesouro Nacional garante sua recompra pelo seu valor de mercado.'},\n",
       "   {'bond_name': 'Tesouro Prefixado 2029',\n",
       "    'due_date': datetime.datetime(2029, 1, 1, 0, 0),\n",
       "    'financial_indexer': 'PREFIXADO',\n",
       "    'annual_investment_rate': 10.91,\n",
       "    'annual_redemption_rate': 11.03,\n",
       "    'isin_code': 'BRSTNCLTN806',\n",
       "    'sell_price': 571.62,\n",
       "    'sell_price_unit': 5.72,\n",
       "    'buy_price': 574.93,\n",
       "    'buy_price_unit': 34.49,\n",
       "    'extended_description': 'Título prefixado, ou seja, no momento da compra, você já sabe exatamente quanto irá receber no futuro (sempre R$ 1.000 por unidade de título). É mais interessante para quem pode deixar o seu dinheiro render até o vencimento do investimento, pois não paga juro semestrais. Em caso de resgate antecipado, o Tesouro Nacional garante sua recompra pelos seus valores de mercado.'},\n",
       "   {'bond_name': 'Tesouro Prefixado com Juros Semestrais 2029',\n",
       "    'due_date': datetime.datetime(2029, 1, 1, 0, 0),\n",
       "    'financial_indexer': 'PREFIXADO',\n",
       "    'annual_investment_rate': 0.0,\n",
       "    'annual_redemption_rate': 10.97,\n",
       "    'isin_code': 'BRSTNCNTF1Q6',\n",
       "    'sell_price': 977.55,\n",
       "    'sell_price_unit': 9.78,\n",
       "    'buy_price': 0.0,\n",
       "    'buy_price_unit': 0.0,\n",
       "    'extended_description': 'Título prefixado, ou seja, no momento da compra, você já sabe exatamente quanto irá receber no futuro (sempre R$ 1.000 por unidade de título + último pagamento de juros semestrais). É mais interessante para quem precisa dos seus rendimentos para complementar sua renda, pois paga juros a cada semestre (cupons de juros). Em caso de resgate antecipado, o Tesouro Nacional garante sua recompra pelo seu valor de mercado.'},\n",
       "   {'bond_name': 'Tesouro Prefixado com Juros Semestrais 2031',\n",
       "    'due_date': datetime.datetime(2031, 1, 1, 0, 0),\n",
       "    'financial_indexer': 'PREFIXADO',\n",
       "    'annual_investment_rate': 0.0,\n",
       "    'annual_redemption_rate': 11.16,\n",
       "    'isin_code': 'BRSTNCNTF204',\n",
       "    'sell_price': 959.84,\n",
       "    'sell_price_unit': 9.6,\n",
       "    'buy_price': 0.0,\n",
       "    'buy_price_unit': 0.0,\n",
       "    'extended_description': 'Título prefixado, ou seja, no momento da compra, você já sabe exatamente quanto irá receber no futuro (sempre R$ 1.000 por unidade de título + último pagamento de juros semestrais). É mais interessante para quem precisa dos seus rendimentos para complementar sua renda, pois paga juros a cada semestre (cupons de juros). Em caso de resgate antecipado, o Tesouro Nacional garante sua recompra pelo seu valor de mercado.'},\n",
       "   {'bond_name': 'Tesouro Prefixado com Juros Semestrais 2033',\n",
       "    'due_date': datetime.datetime(2033, 1, 1, 0, 0),\n",
       "    'financial_indexer': 'PREFIXADO',\n",
       "    'annual_investment_rate': 11.17,\n",
       "    'annual_redemption_rate': 11.29,\n",
       "    'isin_code': 'BRSTNCNTF212',\n",
       "    'sell_price': 944.02,\n",
       "    'sell_price_unit': 9.44,\n",
       "    'buy_price': 950.28,\n",
       "    'buy_price_unit': 38.01,\n",
       "    'extended_description': 'Título prefixado, ou seja, no momento da compra, você já sabe exatamente quanto irá receber no futuro (sempre R$ 1.000 por unidade de título + último pagamento de juros semestrais). É mais interessante para quem precisa dos seus rendimentos para complementar sua renda, pois paga juros a cada semestre (cupons de juros). Em caso de resgate antecipado, o Tesouro Nacional garante sua recompra pelo seu valor de mercado.'},\n",
       "   {'bond_name': 'Tesouro IPCA+ 2024',\n",
       "    'due_date': datetime.datetime(2024, 8, 15, 0, 0),\n",
       "    'financial_indexer': 'IPCA',\n",
       "    'annual_investment_rate': 0.0,\n",
       "    'annual_redemption_rate': 6.75,\n",
       "    'isin_code': 'BRSTNCNTB0K5',\n",
       "    'sell_price': 3874.73,\n",
       "    'sell_price_unit': 38.75,\n",
       "    'buy_price': 0.0,\n",
       "    'buy_price_unit': 0.0,\n",
       "    'extended_description': 'Título pós-fixado, uma vez que parte do seu rendimento acompanha a variação da taxa de inflação (IPCA). Aumenta o poder de compra do seu dinheiro, pois seu rendimento é compostos por uma taxa de juros + a variação da inflação (IPCA). É mais interessante para quem pode deixar o dinheiro render até o vencimento do investimento, pois não paga juros semestrais. Em caso de resgate antecipado, o Tesouro Nacional garante sua recompra pelo seu valor de mercado.'},\n",
       "   {'bond_name': 'Tesouro IPCA+ com Juros Semestrais 2024',\n",
       "    'due_date': datetime.datetime(2024, 8, 15, 0, 0),\n",
       "    'financial_indexer': 'IPCA',\n",
       "    'annual_investment_rate': 0.0,\n",
       "    'annual_redemption_rate': 6.75,\n",
       "    'isin_code': 'BRSTNCNTB096',\n",
       "    'sell_price': 4107.66,\n",
       "    'sell_price_unit': 41.08,\n",
       "    'buy_price': 0.0,\n",
       "    'buy_price_unit': 0.0,\n",
       "    'extended_description': 'Título pós-fixado, uma vez que parte do seu rendimento acompanha a variação da taxa de inflação (IPCA). Aumenta o poder de compra do seu dinheiro, pois seu rendimento é composto por uma taxa de juros + a variação da inflação (IPCA). É mais interessante para quem precisa do seu rendimento para complementar sua renda, pois paga juros a cada semestre (cupons de juros). Em caso de resgate antecipado, o Tesouro Nacional garante sua recompra pelo seu valor de mercado.\\xa0'},\n",
       "   {'bond_name': 'Tesouro IPCA+ 2026',\n",
       "    'due_date': datetime.datetime(2026, 8, 15, 0, 0),\n",
       "    'financial_indexer': 'IPCA',\n",
       "    'annual_investment_rate': 0.0,\n",
       "    'annual_redemption_rate': 5.04,\n",
       "    'isin_code': 'BRSTNCNTB4W2',\n",
       "    'sell_price': 3567.15,\n",
       "    'sell_price_unit': 35.67,\n",
       "    'buy_price': 0.0,\n",
       "    'buy_price_unit': 0.0,\n",
       "    'extended_description': 'Título pós-fixado, uma vez que parte do seu rendimento acompanha a variação da taxa de inflação (IPCA). Aumenta o poder de compra do seu dinheiro, pois seu rendimento é composto por uma taxa de juros + a variação da inflação (IPCA). É mais interessante para quem pode deixar o dinheiro render até o vencimento do investimento, pois não paga juros semestrais. Em caso de resgate antecipado, o Tesouro Nacional garante sua recompra pelo seu valor de mercado.'},\n",
       "   {'bond_name': 'Tesouro IPCA+ com Juros Semestrais 2026',\n",
       "    'due_date': datetime.datetime(2026, 8, 15, 0, 0),\n",
       "    'financial_indexer': 'IPCA',\n",
       "    'annual_investment_rate': 0.0,\n",
       "    'annual_redemption_rate': 5.09,\n",
       "    'isin_code': 'BRSTNCNTB4U6',\n",
       "    'sell_price': 4234.99,\n",
       "    'sell_price_unit': 42.35,\n",
       "    'buy_price': 0.0,\n",
       "    'buy_price_unit': 0.0,\n",
       "    'extended_description': 'Título pós-fixado, uma vez que parte do seu rendimento acompanha a variação da taxa de inflação (IPCA). Aumenta o poder de compra do seu dinheiro, pois seu rendimento é composto por uma taxa de juros + a variação da inflação (IPCA). É mais interessante para quem precisa do seu rendimento para complementar sua renda, pois paga juros a cada semestre (cupons de juros). Em caso de resgate antecipado, o Tesouro Nacional garante sua recompra pelo seu valor de mercado.'},\n",
       "   {'bond_name': 'Tesouro IPCA+ 2029',\n",
       "    'due_date': datetime.datetime(2029, 5, 15, 0, 0),\n",
       "    'financial_indexer': 'IPCA',\n",
       "    'annual_investment_rate': 4.96,\n",
       "    'annual_redemption_rate': 5.08,\n",
       "    'isin_code': 'BRSTNCNTB6A3',\n",
       "    'sell_price': 3113.47,\n",
       "    'sell_price_unit': 31.13,\n",
       "    'buy_price': 3133.84,\n",
       "    'buy_price_unit': 31.33,\n",
       "    'extended_description': 'Título pós-fixado, uma vez que parte do seu rendimento acompanha a variação da taxa de inflação (IPCA). Aumenta o poder de compra do seu dinheiro, pois seu rendimento é composto por uma taxa de juros + a variação da inflação (IPCA). É mais interessante para quem pode deixar o dinheiro render até o vencimento do investimento, pois não paga juros semestrais. Em caso de resgate antecipado, o Tesouro Nacional garante sua recompra pelo seu valor de mercado.'},\n",
       "   {'bond_name': 'Tesouro IPCA+ com Juros Semestrais 2030',\n",
       "    'due_date': datetime.datetime(2030, 8, 15, 0, 0),\n",
       "    'financial_indexer': 'IPCA',\n",
       "    'annual_investment_rate': 0.0,\n",
       "    'annual_redemption_rate': 5.08,\n",
       "    'isin_code': 'BRSTNCNTB3B8',\n",
       "    'sell_price': 4355.05,\n",
       "    'sell_price_unit': 43.55,\n",
       "    'buy_price': 0.0,\n",
       "    'buy_price_unit': 0.0,\n",
       "    'extended_description': 'Título pós-fixado, uma vez que parte do seu rendimento acompanha a variação da taxa de inflação (IPCA). Aumenta o poder de compra do seu dinheiro, pois seu rendimento é composto por uma taxa de juros + a variação da inflação (IPCA). É mais interessante para quem precisa do seu rendimento para complementar sua renda, pois paga juros a cada semestre (cupons de juros). Em caso de resgate antecipado, o Tesouro Nacional garante sua recompra pelo seu valor de mercado.\\xa0'},\n",
       "   {'bond_name': 'Tesouro Educa+ 2026',\n",
       "    'due_date': datetime.datetime(2030, 12, 15, 0, 0),\n",
       "    'financial_indexer': 'IPCA',\n",
       "    'annual_investment_rate': 4.96,\n",
       "    'annual_redemption_rate': 5.08,\n",
       "    'isin_code': 'BRSTNCNAP0G8',\n",
       "    'sell_price': 3257.55,\n",
       "    'sell_price_unit': 32.58,\n",
       "    'buy_price': 3275.26,\n",
       "    'buy_price_unit': 32.75,\n",
       "    'extended_description': 'Titulo com pagamento de rendas mensais a partir da data de conversão que acontece 60 meses antes da data de vencimento. Incluindo a própria data de vencimento. Com o Tesouro Educa+, você tem diversas possibilidades para planejar financeiramente o futuro educacional de maneira rápida e fácil.'},\n",
       "   {'bond_name': 'Tesouro Educa+ 2027',\n",
       "    'due_date': datetime.datetime(2031, 12, 15, 0, 0),\n",
       "    'financial_indexer': 'IPCA',\n",
       "    'annual_investment_rate': 4.97,\n",
       "    'annual_redemption_rate': 5.09,\n",
       "    'isin_code': 'BRSTNCNAP0P9',\n",
       "    'sell_price': 3099.11,\n",
       "    'sell_price_unit': 30.99,\n",
       "    'buy_price': 3119.5,\n",
       "    'buy_price_unit': 31.19,\n",
       "    'extended_description': 'Titulo com pagamento de rendas mensais a partir da data de conversão que acontece 60 meses antes da data de vencimento. Incluindo a própria data de vencimento. Com o Tesouro Educa+, você tem diversas possibilidades para planejar financeiramente o futuro educacional de maneira rápida e fácil.'},\n",
       "   {'bond_name': 'Tesouro IPCA+ com Juros Semestrais 2032',\n",
       "    'due_date': datetime.datetime(2032, 8, 15, 0, 0),\n",
       "    'financial_indexer': 'IPCA',\n",
       "    'annual_investment_rate': 5.07,\n",
       "    'annual_redemption_rate': 5.19,\n",
       "    'isin_code': 'BRSTNCNTB674',\n",
       "    'sell_price': 4370.43,\n",
       "    'sell_price_unit': 43.7,\n",
       "    'buy_price': 4406.19,\n",
       "    'buy_price_unit': 44.06,\n",
       "    'extended_description': 'Título pós-fixado, uma vez que parte do seu rendimento acompanha a variação da taxa de inflação (IPCA). Aumenta o poder de compra do seu dinheiro, pois seu rendimento é composto por uma taxa de juros + a variação da inflação (IPCA). É mais interessante para quem precisa do seu rendimento para complementar sua renda, pois paga juros a cada semestre (cupons de juros). Em caso de resgate antecipado, o Tesouro Nacional garante sua recompra pelo seu valor de mercado. '},\n",
       "   {'bond_name': 'Tesouro Educa+ 2028',\n",
       "    'due_date': datetime.datetime(2032, 12, 15, 0, 0),\n",
       "    'financial_indexer': 'IPCA',\n",
       "    'annual_investment_rate': 5.0,\n",
       "    'annual_redemption_rate': 5.12,\n",
       "    'isin_code': 'BRSTNCNAP0H6',\n",
       "    'sell_price': 2943.73,\n",
       "    'sell_price_unit': 29.44,\n",
       "    'buy_price': 2966.46,\n",
       "    'buy_price_unit': 59.32,\n",
       "    'extended_description': 'Titulo com pagamento de rendas mensais a partir da data de conversão que acontece 60 meses antes da data de vencimento. Incluindo a própria data de vencimento. Com o Tesouro Educa+, você tem diversas possibilidades para planejar financeiramente o futuro educacional de maneira rápida e fácil.'},\n",
       "   {'bond_name': 'Tesouro Educa+ 2029',\n",
       "    'due_date': datetime.datetime(2033, 12, 15, 0, 0),\n",
       "    'financial_indexer': 'IPCA',\n",
       "    'annual_investment_rate': 5.04,\n",
       "    'annual_redemption_rate': 5.16,\n",
       "    'isin_code': 'BRSTNCNAP0I4',\n",
       "    'sell_price': 2792.5,\n",
       "    'sell_price_unit': 27.93,\n",
       "    'buy_price': 2817.25,\n",
       "    'buy_price_unit': 56.34,\n",
       "    'extended_description': 'Titulo com pagamento de rendas mensais a partir da data de conversão que acontece 60 meses antes da data de vencimento. Incluindo a própria data de vencimento. Com o Tesouro Educa+, você tem diversas possibilidades para planejar financeiramente o futuro educacional de maneira rápida e fácil.'},\n",
       "   {'bond_name': 'Tesouro Educa+ 2030',\n",
       "    'due_date': datetime.datetime(2034, 12, 15, 0, 0),\n",
       "    'financial_indexer': 'IPCA',\n",
       "    'annual_investment_rate': 5.08,\n",
       "    'annual_redemption_rate': 5.2,\n",
       "    'isin_code': 'BRSTNCNAP0J2',\n",
       "    'sell_price': 2646.8,\n",
       "    'sell_price_unit': 26.47,\n",
       "    'buy_price': 2673.3,\n",
       "    'buy_price_unit': 53.46,\n",
       "    'extended_description': 'Titulo com pagamento de rendas mensais a partir da data de conversão que acontece 60 meses antes da data de vencimento. Incluindo a própria data de vencimento. Com o Tesouro Educa+, você tem diversas possibilidades para planejar financeiramente o futuro educacional de maneira rápida e fácil.'},\n",
       "   {'bond_name': 'Tesouro IPCA+ 2035',\n",
       "    'due_date': datetime.datetime(2035, 5, 15, 0, 0),\n",
       "    'financial_indexer': 'IPCA',\n",
       "    'annual_investment_rate': 5.16,\n",
       "    'annual_redemption_rate': 5.28,\n",
       "    'isin_code': 'BRSTNCNTB3E2',\n",
       "    'sell_price': 2263.66,\n",
       "    'sell_price_unit': 22.64,\n",
       "    'buy_price': 2294.05,\n",
       "    'buy_price_unit': 45.88,\n",
       "    'extended_description': 'Título pós-fixado, uma vez que parte do seu rendimento acompanha a variação da taxa de inflação (IPCA). Aumenta o poder de compra do seu dinheiro, pois seu rendimento é compostos por uma taxa de juros + a variação da inflação (IPCA). É mais interessante para quem pode deixar o dinheiro render até o vencimento do investimento, pois não paga juros semestrais. Em caso de resgate antecipado, o Tesouro Nacional garante sua recompra pelo seu valor de mercado.'},\n",
       "   {'bond_name': 'Tesouro IPCA+ com Juros Semestrais 2035',\n",
       "    'due_date': datetime.datetime(2035, 5, 15, 0, 0),\n",
       "    'financial_indexer': 'IPCA',\n",
       "    'annual_investment_rate': 0.0,\n",
       "    'annual_redemption_rate': 5.26,\n",
       "    'isin_code': 'BRSTNCNTB0O7',\n",
       "    'sell_price': 4461.27,\n",
       "    'sell_price_unit': 44.61,\n",
       "    'buy_price': 0.0,\n",
       "    'buy_price_unit': 0.0,\n",
       "    'extended_description': 'Título pós-fixado, uma vez que parte do seu rendimento acompanha a variação da taxa de inflação (IPCA). Aumenta o poder de compra do seu dinheiro, pois seu rendimento é composto por uma taxa de juros + a variação da inflação (IPCA). É mais interessante para quem precisa do seu rendimento para complementar sua renda, pois paga juros a cada semestre (cupons de juros). Em caso de resgate antecipado, o Tesouro Nacional garante sua recompra pelo seu valor de mercado.\\xa0'},\n",
       "   {'bond_name': 'Tesouro Educa+ 2031',\n",
       "    'due_date': datetime.datetime(2035, 12, 15, 0, 0),\n",
       "    'financial_indexer': 'IPCA',\n",
       "    'annual_investment_rate': 5.12,\n",
       "    'annual_redemption_rate': 5.24,\n",
       "    'isin_code': 'BRSTNCNAP0K0',\n",
       "    'sell_price': 2506.92,\n",
       "    'sell_price_unit': 25.07,\n",
       "    'buy_price': 2534.9,\n",
       "    'buy_price_unit': 50.69,\n",
       "    'extended_description': 'Titulo com pagamento de rendas mensais a partir da data de conversão que acontece 60 meses antes da data de vencimento. Incluindo a própria data de vencimento. Com o Tesouro Educa+, você tem diversas possibilidades para planejar financeiramente o futuro educacional de maneira rápida e fácil.'},\n",
       "   {'bond_name': 'Tesouro Educa+ 2032',\n",
       "    'due_date': datetime.datetime(2036, 12, 15, 0, 0),\n",
       "    'financial_indexer': 'IPCA',\n",
       "    'annual_investment_rate': 5.16,\n",
       "    'annual_redemption_rate': 5.28,\n",
       "    'isin_code': 'BRSTNCNAP0Q7',\n",
       "    'sell_price': 2372.77,\n",
       "    'sell_price_unit': 23.73,\n",
       "    'buy_price': 2401.97,\n",
       "    'buy_price_unit': 48.03,\n",
       "    'extended_description': 'Titulo com pagamento de rendas mensais a partir da data de conversão que acontece 60 meses antes da data de vencimento. Incluindo a própria data de vencimento. Com o Tesouro Educa+, você tem diversas possibilidades para planejar financeiramente o futuro educacional de maneira rápida e fácil.'},\n",
       "   {'bond_name': 'Tesouro Educa+ 2033',\n",
       "    'due_date': datetime.datetime(2037, 12, 15, 0, 0),\n",
       "    'financial_indexer': 'IPCA',\n",
       "    'annual_investment_rate': 5.18,\n",
       "    'annual_redemption_rate': 5.3,\n",
       "    'isin_code': 'BRSTNCNAP0R5',\n",
       "    'sell_price': 2249.22,\n",
       "    'sell_price_unit': 22.49,\n",
       "    'buy_price': 2279.47,\n",
       "    'buy_price_unit': 45.58,\n",
       "    'extended_description': 'Titulo com pagamento de rendas mensais a partir da data de conversão que acontece 60 meses antes da data de vencimento. Incluindo a própria data de vencimento. Com o Tesouro Educa+, você tem diversas possibilidades para planejar financeiramente o futuro educacional de maneira rápida e fácil.'},\n",
       "   {'bond_name': 'Tesouro Educa+ 2034',\n",
       "    'due_date': datetime.datetime(2038, 12, 15, 0, 0),\n",
       "    'financial_indexer': 'IPCA',\n",
       "    'annual_investment_rate': 5.19,\n",
       "    'annual_redemption_rate': 5.31,\n",
       "    'isin_code': 'BRSTNCNAP0L8',\n",
       "    'sell_price': 2134.04,\n",
       "    'sell_price_unit': 21.34,\n",
       "    'buy_price': 2165.19,\n",
       "    'buy_price_unit': 43.3,\n",
       "    'extended_description': 'Titulo com pagamento de rendas mensais a partir da data de conversão que acontece 60 meses antes da data de vencimento. Incluindo a própria data de vencimento. Com o Tesouro Educa+, você tem diversas possibilidades para planejar financeiramente o futuro educacional de maneira rápida e fácil.'},\n",
       "   {'bond_name': 'Tesouro Educa+ 2035',\n",
       "    'due_date': datetime.datetime(2039, 12, 15, 0, 0),\n",
       "    'financial_indexer': 'IPCA',\n",
       "    'annual_investment_rate': 5.21,\n",
       "    'annual_redemption_rate': 5.33,\n",
       "    'isin_code': 'BRSTNCNAP0M6',\n",
       "    'sell_price': 2021.69,\n",
       "    'sell_price_unit': 20.22,\n",
       "    'buy_price': 2053.53,\n",
       "    'buy_price_unit': 41.07,\n",
       "    'extended_description': 'Titulo com pagamento de rendas mensais a partir da data de conversão que acontece 60 meses antes da data de vencimento. Incluindo a própria data de vencimento. Com o Tesouro Educa+, você tem diversas possibilidades para planejar financeiramente o futuro educacional de maneira rápida e fácil.'},\n",
       "   {'bond_name': 'Tesouro IPCA+ com Juros Semestrais 2040',\n",
       "    'due_date': datetime.datetime(2040, 8, 15, 0, 0),\n",
       "    'financial_indexer': 'IPCA',\n",
       "    'annual_investment_rate': 5.21,\n",
       "    'annual_redemption_rate': 5.33,\n",
       "    'isin_code': 'BRSTNCNTB3C6',\n",
       "    'sell_price': 4441.7,\n",
       "    'sell_price_unit': 44.42,\n",
       "    'buy_price': 4498.53,\n",
       "    'buy_price_unit': 44.98,\n",
       "    'extended_description': 'Título pós-fixado, uma vez que parte do seu rendimento acompanha a variação da taxa de inflação (IPCA). Aumenta o poder de compra do seu dinheiro, pois seu rendimento é composto por uma taxa de juros + a variação da inflação (IPCA). É mais interessante para quem precisa do seu rendimento para complementar sua renda, pois paga juros a cada semestre (cupons de juros). Em caso de resgate antecipado, o Tesouro Nacional garante sua recompra pelo seu valor de mercado.\\xa0'},\n",
       "   {'bond_name': 'Tesouro Educa+ 2036',\n",
       "    'due_date': datetime.datetime(2040, 12, 15, 0, 0),\n",
       "    'financial_indexer': 'IPCA',\n",
       "    'annual_investment_rate': 5.22,\n",
       "    'annual_redemption_rate': 5.34,\n",
       "    'isin_code': 'BRSTNCNAP0N4',\n",
       "    'sell_price': 1916.96,\n",
       "    'sell_price_unit': 19.17,\n",
       "    'buy_price': 1949.37,\n",
       "    'buy_price_unit': 38.98,\n",
       "    'extended_description': 'Titulo com pagamento de rendas mensais a partir da data de conversão que acontece 60 meses antes da data de vencimento. Incluindo a própria data de vencimento. Com o Tesouro Educa+, você tem diversas possibilidades para planejar financeiramente o futuro educacional de maneira rápida e fácil.'},\n",
       "   {'bond_name': 'Tesouro Educa+ 2037',\n",
       "    'due_date': datetime.datetime(2041, 12, 15, 0, 0),\n",
       "    'financial_indexer': 'IPCA',\n",
       "    'annual_investment_rate': 5.25,\n",
       "    'annual_redemption_rate': 5.37,\n",
       "    'isin_code': 'BRSTNCNAP0O2',\n",
       "    'sell_price': 1811.88,\n",
       "    'sell_price_unit': 18.12,\n",
       "    'buy_price': 1844.59,\n",
       "    'buy_price_unit': 36.89,\n",
       "    'extended_description': 'Titulo com pagamento de rendas mensais a partir da data de conversão que acontece 60 meses antes da data de vencimento. Incluindo a própria data de vencimento. Com o Tesouro Educa+, você tem diversas possibilidades para planejar financeiramente o futuro educacional de maneira rápida e fácil.'},\n",
       "   {'bond_name': 'Tesouro Educa+ 2038',\n",
       "    'due_date': datetime.datetime(2042, 12, 15, 0, 0),\n",
       "    'financial_indexer': 'IPCA',\n",
       "    'annual_investment_rate': 5.27,\n",
       "    'annual_redemption_rate': 5.39,\n",
       "    'isin_code': 'BRSTNCNAP0S3',\n",
       "    'sell_price': 1714.32,\n",
       "    'sell_price_unit': 17.14,\n",
       "    'buy_price': 1747.24,\n",
       "    'buy_price_unit': 34.94,\n",
       "    'extended_description': 'Titulo com pagamento de rendas mensais a partir da data de conversão que acontece 60 meses antes da data de vencimento. Incluindo a própria data de vencimento. Com o Tesouro Educa+, você tem diversas possibilidades para planejar financeiramente o futuro educacional de maneira rápida e fácil.'},\n",
       "   {'bond_name': 'Tesouro Educa+ 2039',\n",
       "    'due_date': datetime.datetime(2043, 12, 15, 0, 0),\n",
       "    'financial_indexer': 'IPCA',\n",
       "    'annual_investment_rate': 5.3,\n",
       "    'annual_redemption_rate': 5.42,\n",
       "    'isin_code': 'BRSTNCNAP0T1',\n",
       "    'sell_price': 1618.57,\n",
       "    'sell_price_unit': 16.19,\n",
       "    'buy_price': 1651.53,\n",
       "    'buy_price_unit': 33.03,\n",
       "    'extended_description': 'Titulo com pagamento de rendas mensais a partir da data de conversão que acontece 60 meses antes da data de vencimento. Incluindo a própria data de vencimento. Com o Tesouro Educa+, você tem diversas possibilidades para planejar financeiramente o futuro educacional de maneira rápida e fácil.'},\n",
       "   {'bond_name': 'Tesouro Educa+ 2040',\n",
       "    'due_date': datetime.datetime(2044, 12, 15, 0, 0),\n",
       "    'financial_indexer': 'IPCA',\n",
       "    'annual_investment_rate': 5.33,\n",
       "    'annual_redemption_rate': 5.45,\n",
       "    'isin_code': 'BRSTNCNAP0U9',\n",
       "    'sell_price': 1527.33,\n",
       "    'sell_price_unit': 15.27,\n",
       "    'buy_price': 1560.2,\n",
       "    'buy_price_unit': 31.2,\n",
       "    'extended_description': 'Titulo com pagamento de rendas mensais a partir da data de conversão que acontece 60 meses antes da data de vencimento. Incluindo a própria data de vencimento. Com o Tesouro Educa+, você tem diversas possibilidades para planejar financeiramente o futuro educacional de maneira rápida e fácil.'},\n",
       "   {'bond_name': 'Tesouro IPCA+ 2045',\n",
       "    'due_date': datetime.datetime(2045, 5, 15, 0, 0),\n",
       "    'financial_indexer': 'IPCA',\n",
       "    'annual_investment_rate': 5.42,\n",
       "    'annual_redemption_rate': 5.54,\n",
       "    'isin_code': 'BRSTNCNTB2U0',\n",
       "    'sell_price': 1284.6,\n",
       "    'sell_price_unit': 12.85,\n",
       "    'buy_price': 1316.65,\n",
       "    'buy_price_unit': 39.49,\n",
       "    'extended_description': 'Título pós-fixado, uma vez que parte do seu rendimento acompanha a variação da taxa de inflação (IPCA). Aumenta o poder de compra do seu dinheiro, pois seu rendimento é composto por uma taxa de juros + a variação da inflação (IPCA). É mais interessante para quem pode deixar o dinheiro render até o vencimento do investimento, pois não paga juros semestrais. Em caso de resgate antecipado, o Tesouro Nacional garante sua recompra pelo seu valor de mercado.'},\n",
       "   {'bond_name': 'Tesouro IPCA+ com Juros Semestrais 2045',\n",
       "    'due_date': datetime.datetime(2045, 5, 15, 0, 0),\n",
       "    'financial_indexer': 'IPCA',\n",
       "    'annual_investment_rate': 0.0,\n",
       "    'annual_redemption_rate': 5.43,\n",
       "    'isin_code': 'BRSTNCNTB0A6',\n",
       "    'sell_price': 4496.95,\n",
       "    'sell_price_unit': 44.97,\n",
       "    'buy_price': 0.0,\n",
       "    'buy_price_unit': 0.0,\n",
       "    'extended_description': 'Título pós-fixado, uma vez que parte do seu rendimento acompanha a variação da taxa de inflação (IPCA). Aumenta o poder de compra do seu dinheiro, pois seu rendimento é composto por uma taxa de juros + a variação da inflação (IPCA). É mais interessante para quem precisa do seu rendimento para complementar sua renda, pois paga juros a cada semestre (cupons de juros). Em caso de resgate antecipado, o Tesouro Nacional garante sua recompra pelo seu valor de mercado.\\xa0'},\n",
       "   {'bond_name': 'Tesouro Educa+ 2041',\n",
       "    'due_date': datetime.datetime(2045, 12, 15, 0, 0),\n",
       "    'financial_indexer': 'IPCA',\n",
       "    'annual_investment_rate': 5.36,\n",
       "    'annual_redemption_rate': 5.48,\n",
       "    'isin_code': 'BRSTNCNAP0V7',\n",
       "    'sell_price': 1440.49,\n",
       "    'sell_price_unit': 14.4,\n",
       "    'buy_price': 1473.15,\n",
       "    'buy_price_unit': 44.19,\n",
       "    'extended_description': 'Titulo com pagamento de rendas mensais a partir da data de conversão que acontece 60 meses antes da data de vencimento. Incluindo a própria data de vencimento. Com o Tesouro Educa+, você tem diversas possibilidades para planejar financeiramente o futuro educacional de maneira rápida e fácil.'},\n",
       "   {'bond_name': 'Tesouro Renda+ Aposentadoria Extra 2030',\n",
       "    'due_date': datetime.datetime(2049, 12, 15, 0, 0),\n",
       "    'financial_indexer': 'IPCA',\n",
       "    'annual_investment_rate': 5.27,\n",
       "    'annual_redemption_rate': 5.39,\n",
       "    'isin_code': 'BRSTNCNAP0E3',\n",
       "    'sell_price': 1835.92,\n",
       "    'sell_price_unit': 18.36,\n",
       "    'buy_price': 1866.75,\n",
       "    'buy_price_unit': 37.33,\n",
       "    'extended_description': 'Titulo com pagamento de rendas mensais a partir da data de conversão que acontece 240 meses antes da data de vencimento. Incluindo a própria data de vencimento.   O Título vai servir como um complemento da aposentadoria pública para o investidor. Ajudando o mesmo a se aposentar com qualidade.'},\n",
       "   {'bond_name': 'Tesouro IPCA+ com Juros Semestrais 2050',\n",
       "    'due_date': datetime.datetime(2050, 8, 15, 0, 0),\n",
       "    'financial_indexer': 'IPCA',\n",
       "    'annual_investment_rate': 0.0,\n",
       "    'annual_redemption_rate': 5.46,\n",
       "    'isin_code': 'BRSTNCNTB3D4',\n",
       "    'sell_price': 4451.44,\n",
       "    'sell_price_unit': 44.51,\n",
       "    'buy_price': 0.0,\n",
       "    'buy_price_unit': 0.0,\n",
       "    'extended_description': 'Título pós-fixado, uma vez que parte do seu rendimento acompanha a variação da taxa de inflação (IPCA). Aumenta o poder de compra do seu dinheiro, pois seu rendimento é composto por uma taxa de juros + a variação da inflação (IPCA). É mais interessante para quem precisa do seu rendimento para complementar sua renda, pois paga juros a cada semestre (cupons de juros). Em caso de resgate antecipado, o Tesouro Nacional garante sua recompra pelo seu valor de mercado.\\xa0'},\n",
       "   {'bond_name': 'Tesouro Renda+ Aposentadoria Extra 2035',\n",
       "    'due_date': datetime.datetime(2054, 12, 15, 0, 0),\n",
       "    'financial_indexer': 'IPCA',\n",
       "    'annual_investment_rate': 5.35,\n",
       "    'annual_redemption_rate': 5.47,\n",
       "    'isin_code': 'BRSTNCNAP096',\n",
       "    'sell_price': 1392.47,\n",
       "    'sell_price_unit': 13.92,\n",
       "    'buy_price': 1423.85,\n",
       "    'buy_price_unit': 42.71,\n",
       "    'extended_description': 'Titulo com pagamento de rendas mensais a partir da data de conversão que acontece 240 meses antes da data de vencimento. Incluindo a própria data de vencimento. O Título vai servir como um complemento da aposentadoria pública para o investidor. Ajudando o mesmo a se aposentar com qualidade.'},\n",
       "   {'bond_name': 'Tesouro IPCA+ com Juros Semestrais 2055',\n",
       "    'due_date': datetime.datetime(2055, 5, 15, 0, 0),\n",
       "    'financial_indexer': 'IPCA',\n",
       "    'annual_investment_rate': 5.32,\n",
       "    'annual_redemption_rate': 5.44,\n",
       "    'isin_code': 'BRSTNCNTB4Q4',\n",
       "    'sell_price': 4548.05,\n",
       "    'sell_price_unit': 45.48,\n",
       "    'buy_price': 4626.98,\n",
       "    'buy_price_unit': 46.26,\n",
       "    'extended_description': 'Título pós-fixado, uma vez que parte do seu rendimento acompanha a variação da taxa de inflação (IPCA). Aumenta o poder de compra do seu dinheiro, pois seu rendimento é composto por uma taxa de juros + a variação da inflação (IPCA). É mais interessante para quem precisa do seu rendimento para complementar sua renda, pois paga juros a cada semestre (cupons de juros). Em caso de resgate antecipado, o Tesouro Nacional garante sua recompra pelo seu valor de mercado.\\xa0'},\n",
       "   {'bond_name': 'Tesouro Renda+ Aposentadoria Extra 2040',\n",
       "    'due_date': datetime.datetime(2059, 12, 15, 0, 0),\n",
       "    'financial_indexer': 'IPCA',\n",
       "    'annual_investment_rate': 5.39,\n",
       "    'annual_redemption_rate': 5.51,\n",
       "    'isin_code': 'BRSTNCNAP0A1',\n",
       "    'sell_price': 1057.94,\n",
       "    'sell_price_unit': 10.58,\n",
       "    'buy_price': 1087.92,\n",
       "    'buy_price_unit': 32.63,\n",
       "    'extended_description': 'Titulo com pagamento de rendas mensais a partir da data de conversão que acontece 240 meses antes da data de vencimento. Incluindo a própria data de vencimento. O Título vai servir como um complemento da aposentadoria pública para o investidor. Ajudando o mesmo a se aposentar com qualidade.'},\n",
       "   {'bond_name': 'Tesouro Renda+ Aposentadoria Extra 2045',\n",
       "    'due_date': datetime.datetime(2064, 12, 15, 0, 0),\n",
       "    'financial_indexer': 'IPCA',\n",
       "    'annual_investment_rate': 5.41,\n",
       "    'annual_redemption_rate': 5.53,\n",
       "    'isin_code': 'BRSTNCNAP0F0',\n",
       "    'sell_price': 805.33,\n",
       "    'sell_price_unit': 8.05,\n",
       "    'buy_price': 832.84,\n",
       "    'buy_price_unit': 33.31,\n",
       "    'extended_description': 'Titulo com pagamento de rendas mensais a partir da data de conversão que acontece 240 meses antes da data de vencimento. Incluindo a própria data de vencimento. O Título vai servir como um complemento da aposentadoria pública para o investidor. Ajudando o mesmo a se aposentar com qualidade.'},\n",
       "   {'bond_name': 'Tesouro Renda+ Aposentadoria Extra 2050',\n",
       "    'due_date': datetime.datetime(2069, 12, 15, 0, 0),\n",
       "    'financial_indexer': 'IPCA',\n",
       "    'annual_investment_rate': 5.39,\n",
       "    'annual_redemption_rate': 5.51,\n",
       "    'isin_code': 'BRSTNCNAP0D5',\n",
       "    'sell_price': 619.89,\n",
       "    'sell_price_unit': 6.2,\n",
       "    'buy_price': 644.72,\n",
       "    'buy_price_unit': 32.23,\n",
       "    'extended_description': 'Titulo com pagamento de rendas mensais a partir da data de conversão que acontece 240 meses antes da data de vencimento. Incluindo a própria data de vencimento. O Título vai servir como um complemento da aposentadoria pública para o investidor. Ajudando o mesmo a se aposentar com qualidade.'},\n",
       "   {'bond_name': 'Tesouro Renda+ Aposentadoria Extra 2055',\n",
       "    'due_date': datetime.datetime(2074, 12, 15, 0, 0),\n",
       "    'financial_indexer': 'IPCA',\n",
       "    'annual_investment_rate': 5.38,\n",
       "    'annual_redemption_rate': 5.5,\n",
       "    'isin_code': 'BRSTNCNAP0B9',\n",
       "    'sell_price': 476.24,\n",
       "    'sell_price_unit': 4.76,\n",
       "    'buy_price': 498.14,\n",
       "    'buy_price_unit': 34.86,\n",
       "    'extended_description': 'Titulo com pagamento de rendas mensais a partir da data de conversão que acontece 240 meses antes da data de vencimento. Incluindo a própria data de vencimento. O Título vai servir como um complemento da aposentadoria pública para o investidor. Ajudando o mesmo a se aposentar com qualidade.'},\n",
       "   {'bond_name': 'Tesouro Renda+ Aposentadoria Extra 2060',\n",
       "    'due_date': datetime.datetime(2079, 12, 15, 0, 0),\n",
       "    'financial_indexer': 'IPCA',\n",
       "    'annual_investment_rate': 5.37,\n",
       "    'annual_redemption_rate': 5.49,\n",
       "    'isin_code': 'BRSTNCNAP0C7',\n",
       "    'sell_price': 366.23,\n",
       "    'sell_price_unit': 3.66,\n",
       "    'buy_price': 385.25,\n",
       "    'buy_price_unit': 30.82,\n",
       "    'extended_description': 'Titulo com pagamento de rendas mensais a partir da data de conversão que acontece 240 meses antes da data de vencimento. Incluindo a própria data de vencimento. O Título vai servir como um complemento da aposentadoria pública para o investidor. Ajudando o mesmo a se aposentar com qualidade.'},\n",
       "   {'bond_name': 'Tesouro Renda+ Aposentadoria Extra 2065',\n",
       "    'due_date': datetime.datetime(2084, 12, 15, 0, 0),\n",
       "    'financial_indexer': 'IPCA',\n",
       "    'annual_investment_rate': 5.37,\n",
       "    'annual_redemption_rate': 5.49,\n",
       "    'isin_code': 'BRSTNCNAP088',\n",
       "    'sell_price': 280.59,\n",
       "    'sell_price_unit': 2.81,\n",
       "    'buy_price': 296.84,\n",
       "    'buy_price_unit': 32.65,\n",
       "    'extended_description': 'Titulo com pagamento de rendas mensais a partir da data de conversão que acontece 240 meses antes da data de vencimento. Incluindo a própria data de vencimento. O Título vai servir como um complemento da aposentadoria pública para o investidor. Ajudando o mesmo a se aposentar com qualidade.'},\n",
       "   {'bond_name': 'Tesouro IGPM+ com Juros Semestrais 2031',\n",
       "    'due_date': datetime.datetime(2031, 1, 1, 0, 0),\n",
       "    'financial_indexer': 'IGP-M',\n",
       "    'annual_investment_rate': 0.0,\n",
       "    'annual_redemption_rate': 5.64,\n",
       "    'isin_code': 'BRSTNCNTC0K4',\n",
       "    'sell_price': 8266.55,\n",
       "    'sell_price_unit': 82.67,\n",
       "    'buy_price': 0.0,\n",
       "    'buy_price_unit': 0.0,\n",
       "    'extended_description': 'Título pós-fixado, uma vez que parte do seu rendimento acompanha a variação da taxa de inflação (IGP-M). None'}]}}"
      ]
     },
     "execution_count": 9,
     "metadata": {},
     "output_type": "execute_result"
    }
   ],
   "source": [
    "td_list"
   ]
  },
  {
   "cell_type": "code",
   "execution_count": null,
   "metadata": {},
   "outputs": [],
   "source": [
    "[(b['bond_name']) for b in td_list['details']['bonds']]"
   ]
  },
  {
   "cell_type": "code",
   "execution_count": null,
   "metadata": {},
   "outputs": [],
   "source": [
    "bond = TD.treasury_bonds(x='Tesouro Prefixado com Juros Semestrais 2029')"
   ]
  },
  {
   "cell_type": "code",
   "execution_count": null,
   "metadata": {},
   "outputs": [],
   "source": [
    "bond"
   ]
  },
  {
   "cell_type": "markdown",
   "metadata": {},
   "source": [
    "from fbpyutils_finance import investidor10 as INV10"
   ]
  },
  {
   "cell_type": "markdown",
   "metadata": {},
   "source": [
    "fiis = INV10.get_fii_daily_position(parallelize=True)"
   ]
  },
  {
   "cell_type": "markdown",
   "metadata": {},
   "source": [
    "fiis.shape"
   ]
  },
  {
   "cell_type": "markdown",
   "metadata": {},
   "source": [
    "fiis.head(3)"
   ]
  },
  {
   "cell_type": "markdown",
   "metadata": {},
   "source": [
    "from fbpyutils_finance import google as G"
   ]
  },
  {
   "cell_type": "markdown",
   "metadata": {},
   "source": [
    "G.exchange_rate('USD', 'BRL')"
   ]
  },
  {
   "cell_type": "markdown",
   "metadata": {},
   "source": [
    "G.stock_price('CACR11')"
   ]
  },
  {
   "cell_type": "markdown",
   "metadata": {},
   "source": [
    "from fbpyutils_finance import cvm\n",
    "from fbpyutils_finance.cvm import *"
   ]
  },
  {
   "cell_type": "markdown",
   "metadata": {},
   "source": [
    "history_folder = '/mnt/c/Users/fcjbispo/Dados/InfoBR/Series/cvm'"
   ]
  },
  {
   "cell_type": "markdown",
   "metadata": {},
   "source": [
    "self = CVM(history_folder=history_folder)"
   ]
  },
  {
   "cell_type": "markdown",
   "metadata": {},
   "source": [
    "# r = self.update_cvm_catalog()"
   ]
  },
  {
   "cell_type": "markdown",
   "metadata": {},
   "source": [
    "cvm_files = self.get_cvm_files(kind='IF_REGISTER')"
   ]
  },
  {
   "cell_type": "markdown",
   "metadata": {},
   "source": [
    "cvm_files"
   ]
  },
  {
   "cell_type": "markdown",
   "metadata": {},
   "source": [
    "from fbpyutils_finance import cei as CEI\n",
    "from fbpyutils_finance.cei import schemas as CEI_SCHEMAS"
   ]
  },
  {
   "cell_type": "markdown",
   "metadata": {},
   "source": [
    "input_folder= '/home/fcjbispo/Meu Drive/Finanças/Extratos & Faturas/CEI/aa_input'\n",
    "output_folder= '/home/fcjbispo/Meu Drive/Finanças/Extratos & Faturas/CEI/zz_output'"
   ]
  },
  {
   "cell_type": "markdown",
   "metadata": {},
   "source": [
    "r = CEI.get_cei_data(input_folder, with_pos_operations=True)"
   ]
  },
  {
   "cell_type": "markdown",
   "metadata": {},
   "source": [
    "set([o[0] for o in r])"
   ]
  },
  {
   "cell_type": "markdown",
   "metadata": {},
   "source": [
    "for op, size, data in r:\n",
    "    if op == 'posicao_fundos_investimento':\n",
    "        break"
   ]
  },
  {
   "cell_type": "markdown",
   "metadata": {},
   "source": [
    "data.dtypes"
   ]
  },
  {
   "cell_type": "code",
   "execution_count": null,
   "metadata": {},
   "outputs": [],
   "source": [
    "from fbpyutils_finance import google as G\n",
    "from fbpyutils_finance.google import _googlesearch\n",
    "\n",
    "from fbpyutils import debug\n",
    "\n",
    "from fbpyutils.datetime import apply_timezone\n",
    "\n",
    "from typing import Dict\n",
    "import requests \n",
    "import datetime\n",
    "from bs4 import BeautifulSoup"
   ]
  },
  {
   "cell_type": "code",
   "execution_count": null,
   "metadata": {},
   "outputs": [],
   "source": [
    "G.stock_price('petr4')"
   ]
  },
  {
   "cell_type": "code",
   "execution_count": null,
   "metadata": {},
   "outputs": [],
   "source": []
  }
 ],
 "metadata": {
  "kernelspec": {
   "display_name": "Python 3.9.10 ('fbpyutils-finance-_LfGj1KF')",
   "language": "python",
   "name": "python3"
  },
  "language_info": {
   "codemirror_mode": {
    "name": "ipython",
    "version": 3
   },
   "file_extension": ".py",
   "mimetype": "text/x-python",
   "name": "python",
   "nbconvert_exporter": "python",
   "pygments_lexer": "ipython3",
   "version": "3.10.10"
  },
  "orig_nbformat": 4,
  "vscode": {
   "interpreter": {
    "hash": "e7f24432d049c1b18e987ee934c8db217ea4e1ba4f03ab69f7655027a0e5228d"
   }
  }
 },
 "nbformat": 4,
 "nbformat_minor": 2
}
