{
 "cells": [
  {
   "cell_type": "code",
   "execution_count": 1,
   "metadata": {},
   "outputs": [],
   "source": [
    "import sys\n",
    "sys.path.insert(0, '..')"
   ]
  },
  {
   "cell_type": "code",
   "execution_count": 2,
   "metadata": {},
   "outputs": [],
   "source": [
    "from fbpyutils import xlsx as XL, file as FU, string as SU\n",
    "import fbpyutils_finance as FI"
   ]
  },
  {
   "cell_type": "code",
   "execution_count": 3,
   "metadata": {},
   "outputs": [],
   "source": [
    "import os\n",
    "import sqlite3\n",
    "import pandas as pd"
   ]
  },
  {
   "cell_type": "code",
   "execution_count": 4,
   "metadata": {},
   "outputs": [
    {
     "data": {
      "text/plain": [
       "'/mnt/c/Users/fcjbispo/Projetos/fbpyutils-finance/fbpyutils_finance'"
      ]
     },
     "execution_count": 4,
     "metadata": {},
     "output_type": "execute_result"
    }
   ],
   "source": [
    "FI.APP_FOLDER"
   ]
  },
  {
   "cell_type": "code",
   "execution_count": 5,
   "metadata": {},
   "outputs": [
    {
     "data": {
      "text/plain": [
       "{'bvmf-bmfbovespa-com-br': '/mnt/c/Users/fcjbispo/Projetos/fbpyutils-finance/fbpyutils_finance/certificates/bvmf-bmfbovespa-com-br.pem'}"
      ]
     },
     "execution_count": 5,
     "metadata": {},
     "output_type": "execute_result"
    }
   ],
   "source": [
    "FI.CERTIFICATES"
   ]
  },
  {
   "cell_type": "markdown",
   "metadata": {},
   "source": [
    "from fbpyutils_finance import bovespa as BOV"
   ]
  },
  {
   "cell_type": "markdown",
   "metadata": {},
   "source": [
    "bovespa_series_folder = '/mnt/c/Users/fcjbispo/Dados/InfoBR/Series/bovespa'"
   ]
  },
  {
   "cell_type": "markdown",
   "metadata": {},
   "source": [
    "# db = sqlite3.connect(':memory:')\n",
    "db = sqlite3.connect(os.path.sep.join([bovespa_series_folder, 'bovespa.db']))"
   ]
  },
  {
   "cell_type": "markdown",
   "metadata": {},
   "source": [
    "stock_history = BOV.StockHistory(download_folder=bovespa_series_folder)"
   ]
  },
  {
   "cell_type": "markdown",
   "metadata": {},
   "source": [
    "# data = stock_history.get_stock_history(\n",
    "#     period='A', \n",
    "#     period_data=None, \n",
    "#     fetch_mode=BOV.FetchModes.DOWNLOAD, \n",
    "#     compact=False, \n",
    "#     original_names=False\n",
    "# )"
   ]
  },
  {
   "cell_type": "markdown",
   "metadata": {},
   "source": [
    "# data.to_sql('cotahist', index=False, con=db, if_exists='replace')"
   ]
  },
  {
   "cell_type": "markdown",
   "metadata": {},
   "source": [
    "# data.columns"
   ]
  },
  {
   "cell_type": "markdown",
   "metadata": {},
   "source": [
    "# tickers = ('QUAL3F', 'SDIL11', 'QUAL3', 'CACR13', 'NUBR33')\n",
    "# market_types = ('10', '20')\n",
    "# bdi_codes = ('02', '12', '35', '96')\n",
    "# pd.read_sql(f'''\n",
    "# select ticker, market_type, bdi_code, min(trade_date), max(trade_date)\n",
    "#   from cotahist\n",
    "#  where ticker in  {str(tickers)}\n",
    "#  group by ticker, market_type, bdi_code\n",
    "#  order by market_type, bdi_code\n",
    "# ''', con=db).head()"
   ]
  },
  {
   "cell_type": "markdown",
   "metadata": {},
   "source": [
    "info_tables = BOV.StockHistory.get_info_tables()"
   ]
  },
  {
   "cell_type": "markdown",
   "metadata": {},
   "source": [
    "info_tables['status']"
   ]
  },
  {
   "cell_type": "markdown",
   "metadata": {},
   "source": [
    "info_tables['tables'].keys()"
   ]
  },
  {
   "cell_type": "markdown",
   "metadata": {},
   "source": [
    "from fbpyutils_finance import tesourodireto as TD\n",
    "from pprint import pprint"
   ]
  },
  {
   "cell_type": "markdown",
   "metadata": {},
   "source": [
    "td_list = TD.treasury_bonds()"
   ]
  },
  {
   "cell_type": "markdown",
   "metadata": {},
   "source": [
    "[(b['bond_name']) for b in td_list['details']['bonds']]"
   ]
  },
  {
   "cell_type": "markdown",
   "metadata": {},
   "source": [
    "bond = TD.treasury_bonds(x='Tesouro Prefixado com Juros Semestrais 2029')"
   ]
  },
  {
   "cell_type": "markdown",
   "metadata": {},
   "source": [
    "bond"
   ]
  },
  {
   "cell_type": "markdown",
   "metadata": {},
   "source": [
    "from fbpyutils_finance import investidor10 as INV10"
   ]
  },
  {
   "cell_type": "markdown",
   "metadata": {},
   "source": [
    "fiis = INV10.get_fii_daily_position(parallelize=True)"
   ]
  },
  {
   "cell_type": "markdown",
   "metadata": {},
   "source": [
    "fiis.shape"
   ]
  },
  {
   "cell_type": "markdown",
   "metadata": {},
   "source": [
    "fiis.head(3)"
   ]
  },
  {
   "cell_type": "markdown",
   "metadata": {},
   "source": [
    "from fbpyutils_finance import google as G"
   ]
  },
  {
   "cell_type": "markdown",
   "metadata": {},
   "source": [
    "G.exchange_rate('USD', 'BRL')"
   ]
  },
  {
   "cell_type": "markdown",
   "metadata": {},
   "source": [
    "G.stock_price('CACR11')"
   ]
  },
  {
   "cell_type": "markdown",
   "metadata": {},
   "source": [
    "from fbpyutils_finance import cvm\n",
    "from fbpyutils_finance.cvm import *"
   ]
  },
  {
   "cell_type": "markdown",
   "metadata": {},
   "source": [
    "history_folder = '/mnt/c/Users/fcjbispo/Dados/InfoBR/Series/cvm'"
   ]
  },
  {
   "cell_type": "markdown",
   "metadata": {},
   "source": [
    "self = CVM(history_folder=history_folder)"
   ]
  },
  {
   "cell_type": "markdown",
   "metadata": {},
   "source": [
    "# r = self.update_cvm_catalog()"
   ]
  },
  {
   "cell_type": "markdown",
   "metadata": {},
   "source": [
    "cvm_files = self.get_cvm_files(kind='IF_REGISTER')"
   ]
  },
  {
   "cell_type": "markdown",
   "metadata": {},
   "source": [
    "cvm_files"
   ]
  },
  {
   "cell_type": "code",
   "execution_count": 6,
   "metadata": {},
   "outputs": [],
   "source": [
    "from fbpyutils_finance import cei as CEI\n",
    "from fbpyutils_finance.cei import schemas as CEI_SCHEMAS"
   ]
  },
  {
   "cell_type": "code",
   "execution_count": 7,
   "metadata": {},
   "outputs": [],
   "source": [
    "input_folder= '/home/fcjbispo/Meu Drive/Finanças/Extratos & Faturas/CEI/aa_input'\n",
    "output_folder= '/home/fcjbispo/Meu Drive/Finanças/Extratos & Faturas/CEI/zz_output'"
   ]
  },
  {
   "cell_type": "code",
   "execution_count": 8,
   "metadata": {},
   "outputs": [],
   "source": [
    "r = CEI.get_cei_data(input_folder, with_pos_operations=False)"
   ]
  },
  {
   "cell_type": "code",
   "execution_count": 9,
   "metadata": {},
   "outputs": [
    {
     "data": {
      "text/plain": [
       "{'eventos_provisionados',\n",
       " 'movimentacao',\n",
       " 'negociacao',\n",
       " 'posicao_acoes',\n",
       " 'posicao_emprestimo_ativos',\n",
       " 'posicao_etf',\n",
       " 'posicao_fundos_investimento',\n",
       " 'posicao_renda_fixa',\n",
       " 'posicao_tesouro_direto'}"
      ]
     },
     "execution_count": 9,
     "metadata": {},
     "output_type": "execute_result"
    }
   ],
   "source": [
    "set([o[0] for o in r])"
   ]
  },
  {
   "cell_type": "code",
   "execution_count": 10,
   "metadata": {},
   "outputs": [],
   "source": [
    "for op, size, data in r:\n",
    "    if op == 'calendario':\n",
    "        break"
   ]
  },
  {
   "cell_type": "code",
   "execution_count": 11,
   "metadata": {},
   "outputs": [
    {
     "data": {
      "text/html": [
       "<div>\n",
       "<style scoped>\n",
       "    .dataframe tbody tr th:only-of-type {\n",
       "        vertical-align: middle;\n",
       "    }\n",
       "\n",
       "    .dataframe tbody tr th {\n",
       "        vertical-align: top;\n",
       "    }\n",
       "\n",
       "    .dataframe thead th {\n",
       "        text-align: right;\n",
       "    }\n",
       "</style>\n",
       "<table border=\"1\" class=\"dataframe\">\n",
       "  <thead>\n",
       "    <tr style=\"text-align: right;\">\n",
       "      <th></th>\n",
       "      <th>codigo_produto</th>\n",
       "      <th>nome_produto</th>\n",
       "      <th>instituicao</th>\n",
       "      <th>conta</th>\n",
       "      <th>emissor</th>\n",
       "      <th>indexador</th>\n",
       "      <th>tipo_regime</th>\n",
       "      <th>emissao</th>\n",
       "      <th>vencimento</th>\n",
       "      <th>quantidade</th>\n",
       "      <th>quantidade_disponivel</th>\n",
       "      <th>quantidade_indisponivel</th>\n",
       "      <th>motivo</th>\n",
       "      <th>contraparte</th>\n",
       "      <th>preco_atualizado_mtm</th>\n",
       "      <th>valor_atualizado_mtm</th>\n",
       "      <th>preco_atualizado_curva</th>\n",
       "      <th>valor_atualizado_curva</th>\n",
       "      <th>arquivo_origem</th>\n",
       "      <th>data_referencia</th>\n",
       "    </tr>\n",
       "  </thead>\n",
       "  <tbody>\n",
       "    <tr>\n",
       "      <th>0</th>\n",
       "      <td>CDB122BI7SN</td>\n",
       "      <td>CDB - BANCO GENIAL S.A.</td>\n",
       "      <td>GENIAL INVESTIMENTOS CORRETORA DE VALORES MOBI...</td>\n",
       "      <td>000000000</td>\n",
       "      <td>BANCO GENIAL S.A.</td>\n",
       "      <td>DI</td>\n",
       "      <td>Depositado</td>\n",
       "      <td>2022-02-16</td>\n",
       "      <td>2022-05-17</td>\n",
       "      <td>9727.0</td>\n",
       "      <td>9727.0</td>\n",
       "      <td>None</td>\n",
       "      <td>-</td>\n",
       "      <td>-</td>\n",
       "      <td>None</td>\n",
       "      <td>None</td>\n",
       "      <td>None</td>\n",
       "      <td>None</td>\n",
       "      <td>posicao_renda_fixa</td>\n",
       "      <td>2022-02-20</td>\n",
       "    </tr>\n",
       "    <tr>\n",
       "      <th>1</th>\n",
       "      <td>CDB122BI940</td>\n",
       "      <td>CDB - BANCO XP S/A</td>\n",
       "      <td>XP INVESTIMENTOS CCTVM S/A</td>\n",
       "      <td>000000000</td>\n",
       "      <td>BANCO XP S/A</td>\n",
       "      <td>DI</td>\n",
       "      <td>Depositado</td>\n",
       "      <td>2022-02-16</td>\n",
       "      <td>2022-05-17</td>\n",
       "      <td>5000.0</td>\n",
       "      <td>5000.0</td>\n",
       "      <td>None</td>\n",
       "      <td>-</td>\n",
       "      <td>-</td>\n",
       "      <td>None</td>\n",
       "      <td>None</td>\n",
       "      <td>None</td>\n",
       "      <td>None</td>\n",
       "      <td>posicao_renda_fixa</td>\n",
       "      <td>2022-02-20</td>\n",
       "    </tr>\n",
       "    <tr>\n",
       "      <th>0</th>\n",
       "      <td>CDB122BI7SN</td>\n",
       "      <td>CDB - BANCO GENIAL S.A.</td>\n",
       "      <td>GENIAL INVESTIMENTOS CORRETORA DE VALORES MOBI...</td>\n",
       "      <td>000000000</td>\n",
       "      <td>BANCO GENIAL S.A.</td>\n",
       "      <td>DI</td>\n",
       "      <td>Depositado</td>\n",
       "      <td>2022-02-16</td>\n",
       "      <td>2022-05-17</td>\n",
       "      <td>9727.0</td>\n",
       "      <td>9727.0</td>\n",
       "      <td>None</td>\n",
       "      <td>-</td>\n",
       "      <td>-</td>\n",
       "      <td>None</td>\n",
       "      <td>None</td>\n",
       "      <td>None</td>\n",
       "      <td>None</td>\n",
       "      <td>posicao_renda_fixa</td>\n",
       "      <td>2022-02-25</td>\n",
       "    </tr>\n",
       "  </tbody>\n",
       "</table>\n",
       "</div>"
      ],
      "text/plain": [
       "  codigo_produto             nome_produto  \\\n",
       "0    CDB122BI7SN  CDB - BANCO GENIAL S.A.   \n",
       "1    CDB122BI940       CDB - BANCO XP S/A   \n",
       "0    CDB122BI7SN  CDB - BANCO GENIAL S.A.   \n",
       "\n",
       "                                         instituicao      conta  \\\n",
       "0  GENIAL INVESTIMENTOS CORRETORA DE VALORES MOBI...  000000000   \n",
       "1                         XP INVESTIMENTOS CCTVM S/A  000000000   \n",
       "0  GENIAL INVESTIMENTOS CORRETORA DE VALORES MOBI...  000000000   \n",
       "\n",
       "             emissor indexador tipo_regime     emissao  vencimento  \\\n",
       "0  BANCO GENIAL S.A.        DI  Depositado  2022-02-16  2022-05-17   \n",
       "1       BANCO XP S/A        DI  Depositado  2022-02-16  2022-05-17   \n",
       "0  BANCO GENIAL S.A.        DI  Depositado  2022-02-16  2022-05-17   \n",
       "\n",
       "   quantidade  quantidade_disponivel quantidade_indisponivel motivo  \\\n",
       "0      9727.0                 9727.0                    None      -   \n",
       "1      5000.0                 5000.0                    None      -   \n",
       "0      9727.0                 9727.0                    None      -   \n",
       "\n",
       "  contraparte preco_atualizado_mtm valor_atualizado_mtm  \\\n",
       "0           -                 None                 None   \n",
       "1           -                 None                 None   \n",
       "0           -                 None                 None   \n",
       "\n",
       "  preco_atualizado_curva valor_atualizado_curva      arquivo_origem  \\\n",
       "0                   None                   None  posicao_renda_fixa   \n",
       "1                   None                   None  posicao_renda_fixa   \n",
       "0                   None                   None  posicao_renda_fixa   \n",
       "\n",
       "  data_referencia  \n",
       "0      2022-02-20  \n",
       "1      2022-02-20  \n",
       "0      2022-02-25  "
      ]
     },
     "execution_count": 11,
     "metadata": {},
     "output_type": "execute_result"
    }
   ],
   "source": [
    "data.head(3)"
   ]
  },
  {
   "cell_type": "code",
   "execution_count": null,
   "metadata": {},
   "outputs": [],
   "source": [
    "from fbpyutils_finance.cei.schemas import \\\n",
    "    process_schema_movimentacao, process_schema_eventos_provisionados, process_schema_negociacao, \\\n",
    "    process_schema_posicao_acoes, process_schema_posicao_emprestimo_ativos, process_schema_posicao_etf, \\\n",
    "    process_schema_posicao_fundos_investimento, process_schema_posicao_tesouro_direto, \\\n",
    "    process_schema_posicao_renda_fixa"
   ]
  },
  {
   "cell_type": "code",
   "execution_count": null,
   "metadata": {},
   "outputs": [],
   "source": [
    "input_files = FU.find(input_folder, 'posicao-*.xlsx')"
   ]
  },
  {
   "cell_type": "code",
   "execution_count": null,
   "metadata": {},
   "outputs": [],
   "source": [
    "x = process_schema_posicao_renda_fixa(input_files)"
   ]
  },
  {
   "cell_type": "code",
   "execution_count": null,
   "metadata": {},
   "outputs": [],
   "source": [
    "x.head(3)"
   ]
  },
  {
   "cell_type": "code",
   "execution_count": null,
   "metadata": {},
   "outputs": [],
   "source": [
    "SU.normalize_names(['AAAssss'])[0]"
   ]
  },
  {
   "cell_type": "code",
   "execution_count": null,
   "metadata": {},
   "outputs": [],
   "source": []
  }
 ],
 "metadata": {
  "kernelspec": {
   "display_name": "Python 3.9.10 ('fbpyutils-finance-_LfGj1KF')",
   "language": "python",
   "name": "python3"
  },
  "language_info": {
   "codemirror_mode": {
    "name": "ipython",
    "version": 3
   },
   "file_extension": ".py",
   "mimetype": "text/x-python",
   "name": "python",
   "nbconvert_exporter": "python",
   "pygments_lexer": "ipython3",
   "version": "3.10.12"
  },
  "orig_nbformat": 4,
  "vscode": {
   "interpreter": {
    "hash": "e7f24432d049c1b18e987ee934c8db217ea4e1ba4f03ab69f7655027a0e5228d"
   }
  }
 },
 "nbformat": 4,
 "nbformat_minor": 2
}
