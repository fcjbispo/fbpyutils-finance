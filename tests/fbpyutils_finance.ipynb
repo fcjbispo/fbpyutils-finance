{
 "cells": [
  {
   "cell_type": "code",
   "execution_count": 1,
   "metadata": {},
   "outputs": [],
   "source": [
    "import sys\n",
    "sys.path.insert(0, '..')"
   ]
  },
  {
   "cell_type": "code",
   "execution_count": 2,
   "metadata": {},
   "outputs": [],
   "source": [
    "import fbpyutils_finance as FI"
   ]
  },
  {
   "cell_type": "code",
   "execution_count": 3,
   "metadata": {},
   "outputs": [],
   "source": [
    "import os\n",
    "import sqlite3\n",
    "import pandas as pd"
   ]
  },
  {
   "cell_type": "markdown",
   "metadata": {},
   "source": [
    "db = sqlite3.connect(':memory:')"
   ]
  },
  {
   "cell_type": "markdown",
   "metadata": {},
   "source": [
    "FI.APP_FOLDER"
   ]
  },
  {
   "cell_type": "markdown",
   "metadata": {},
   "source": [
    "FI.CERTIFICATES"
   ]
  },
  {
   "cell_type": "markdown",
   "metadata": {},
   "source": [
    "from fbpyutils_finance import bovespa as BOV"
   ]
  },
  {
   "cell_type": "markdown",
   "metadata": {},
   "source": [
    "bovespa_series_folder = '/mnt/c/Users/fcjbispo/Dados/InfoBR/Series/bovespa'"
   ]
  },
  {
   "cell_type": "markdown",
   "metadata": {},
   "source": [
    "stock_history = BOV.StockHistory(download_folder=bovespa_series_folder)"
   ]
  },
  {
   "cell_type": "markdown",
   "metadata": {},
   "source": [
    "data = stock_history.get_stock_history(\n",
    "    period='A', \n",
    "    period_data=None, \n",
    "    fetch_mode=BOV.FetchModes.LOCAL_OR_DOWNLOAD, \n",
    "    compact=False, \n",
    "    original_names=False\n",
    ")"
   ]
  },
  {
   "cell_type": "markdown",
   "metadata": {},
   "source": [
    "data.to_sql('cotahist', index=False, con=db, if_exists='append')"
   ]
  },
  {
   "cell_type": "markdown",
   "metadata": {},
   "source": [
    "data.columns"
   ]
  },
  {
   "cell_type": "markdown",
   "metadata": {},
   "source": [
    "pd.read_sql('''\n",
    "select distinct market_type, bdi_code\n",
    "  from cotahist\n",
    " order by market_type, bdi_code\n",
    "''', con=db).head(3)"
   ]
  },
  {
   "cell_type": "markdown",
   "metadata": {},
   "source": [
    "from fbpyutils_finance import tesourodireto as TD\n",
    "from pprint import pprint"
   ]
  },
  {
   "cell_type": "markdown",
   "metadata": {},
   "source": [
    "td_list = TD.treasury_bonds()"
   ]
  },
  {
   "cell_type": "markdown",
   "metadata": {},
   "source": [
    "[(b['bond_name']) for b in td_list['details']['bonds']]"
   ]
  },
  {
   "cell_type": "markdown",
   "metadata": {},
   "source": [
    "bond = TD.treasury_bonds(x='Tesouro Prefixado com Juros Semestrais 2029')"
   ]
  },
  {
   "cell_type": "markdown",
   "metadata": {},
   "source": [
    "bond"
   ]
  },
  {
   "cell_type": "markdown",
   "metadata": {},
   "source": [
    "from fbpyutils_finance import investidor10 as INV10"
   ]
  },
  {
   "cell_type": "markdown",
   "metadata": {},
   "source": [
    "fiis = INV10.get_fii_daily_position(parallelize=True)"
   ]
  },
  {
   "cell_type": "markdown",
   "metadata": {},
   "source": [
    "fiis.shape"
   ]
  },
  {
   "cell_type": "markdown",
   "metadata": {},
   "source": [
    "fiis.head(3)"
   ]
  },
  {
   "cell_type": "markdown",
   "metadata": {},
   "source": [
    "from fbpyutils_finance import google as G"
   ]
  },
  {
   "cell_type": "markdown",
   "metadata": {},
   "source": [
    "G.exchange_rate('USD', 'BRL')"
   ]
  },
  {
   "cell_type": "markdown",
   "metadata": {},
   "source": [
    "G.stock_price('CACR11')"
   ]
  },
  {
   "cell_type": "code",
   "execution_count": 4,
   "metadata": {},
   "outputs": [],
   "source": [
    "import os\n",
    "import io\n",
    "import csv\n",
    "import re\n",
    "import requests\n",
    "import bs4\n",
    "import sqlite3\n",
    "import pandas as pd\n",
    "\n",
    "from bs4 import BeautifulSoup\n",
    "from time import sleep\n",
    "from zipfile import ZipFile\n",
    "from datetime import datetime\n",
    "from dateutil.parser import parse\n",
    "from urllib import request\n",
    "from multiprocessing import Pool\n",
    "from typing import Union, Dict, Optional\n",
    "\n",
    "import fbpyutils_finance as FI\n",
    "from fbpyutils_finance.cvm import converters as C\n",
    "from fbpyutils import string as SU, file as FU\n",
    "\n",
    "from fbpyutils.debug import debug, debug_info"
   ]
  },
  {
   "cell_type": "code",
   "execution_count": 5,
   "metadata": {},
   "outputs": [],
   "source": [
    "from fbpyutils_finance import cvm\n",
    "from fbpyutils_finance.cvm import *"
   ]
  },
  {
   "cell_type": "code",
   "execution_count": 6,
   "metadata": {},
   "outputs": [],
   "source": [
    "history_folder = '/mnt/c/Users/fcjbispo/Dados/InfoBR/Series/cvm'"
   ]
  },
  {
   "cell_type": "code",
   "execution_count": 7,
   "metadata": {},
   "outputs": [],
   "source": [
    "self = CVM(history_folder=history_folder)"
   ]
  },
  {
   "cell_type": "code",
   "execution_count": 8,
   "metadata": {},
   "outputs": [],
   "source": [
    "# r = self.update_cvm_catalog()"
   ]
  },
  {
   "cell_type": "code",
   "execution_count": 12,
   "metadata": {},
   "outputs": [],
   "source": [
    "cvm_files = self.get_cvm_files(kind='IF_REGISTER')"
   ]
  },
  {
   "cell_type": "code",
   "execution_count": 13,
   "metadata": {},
   "outputs": [
    {
     "data": {
      "text/plain": [
       "(('IF_REGISTER',\n",
       "  'cad_fi',\n",
       "  False,\n",
       "  ('/mnt/c/Users/fcjbispo/Dados/InfoBR/Series/cvm/if_register.cad_fi.csv',)),\n",
       " ('IF_REGISTER',\n",
       "  'cad_fi_hist',\n",
       "  False,\n",
       "  ('/mnt/c/Users/fcjbispo/Dados/InfoBR/Series/cvm/if_register.cad_fi_hist.0000.cad_fi_hist_admin.csv',\n",
       "   '/mnt/c/Users/fcjbispo/Dados/InfoBR/Series/cvm/if_register.cad_fi_hist.0001.cad_fi_hist_auditor.csv',\n",
       "   '/mnt/c/Users/fcjbispo/Dados/InfoBR/Series/cvm/if_register.cad_fi_hist.0002.cad_fi_hist_classe.csv',\n",
       "   '/mnt/c/Users/fcjbispo/Dados/InfoBR/Series/cvm/if_register.cad_fi_hist.0003.cad_fi_hist_condom.csv',\n",
       "   '/mnt/c/Users/fcjbispo/Dados/InfoBR/Series/cvm/if_register.cad_fi_hist.0004.cad_fi_hist_controlador.csv',\n",
       "   '/mnt/c/Users/fcjbispo/Dados/InfoBR/Series/cvm/if_register.cad_fi_hist.0005.cad_fi_hist_custodiante.csv',\n",
       "   '/mnt/c/Users/fcjbispo/Dados/InfoBR/Series/cvm/if_register.cad_fi_hist.0006.cad_fi_hist_denom_comerc.csv',\n",
       "   '/mnt/c/Users/fcjbispo/Dados/InfoBR/Series/cvm/if_register.cad_fi_hist.0007.cad_fi_hist_denom_social.csv',\n",
       "   '/mnt/c/Users/fcjbispo/Dados/InfoBR/Series/cvm/if_register.cad_fi_hist.0008.cad_fi_hist_diretor_resp.csv',\n",
       "   '/mnt/c/Users/fcjbispo/Dados/InfoBR/Series/cvm/if_register.cad_fi_hist.0009.cad_fi_hist_exclusivo.csv',\n",
       "   '/mnt/c/Users/fcjbispo/Dados/InfoBR/Series/cvm/if_register.cad_fi_hist.0010.cad_fi_hist_exerc_social.csv',\n",
       "   '/mnt/c/Users/fcjbispo/Dados/InfoBR/Series/cvm/if_register.cad_fi_hist.0011.cad_fi_hist_fic.csv',\n",
       "   '/mnt/c/Users/fcjbispo/Dados/InfoBR/Series/cvm/if_register.cad_fi_hist.0012.cad_fi_hist_gestor.csv',\n",
       "   '/mnt/c/Users/fcjbispo/Dados/InfoBR/Series/cvm/if_register.cad_fi_hist.0013.cad_fi_hist_publico_alvo.csv',\n",
       "   '/mnt/c/Users/fcjbispo/Dados/InfoBR/Series/cvm/if_register.cad_fi_hist.0014.cad_fi_hist_rentab.csv',\n",
       "   '/mnt/c/Users/fcjbispo/Dados/InfoBR/Series/cvm/if_register.cad_fi_hist.0015.cad_fi_hist_sit.csv',\n",
       "   '/mnt/c/Users/fcjbispo/Dados/InfoBR/Series/cvm/if_register.cad_fi_hist.0016.cad_fi_hist_taxa_adm.csv',\n",
       "   '/mnt/c/Users/fcjbispo/Dados/InfoBR/Series/cvm/if_register.cad_fi_hist.0017.cad_fi_hist_taxa_perfm.csv',\n",
       "   '/mnt/c/Users/fcjbispo/Dados/InfoBR/Series/cvm/if_register.cad_fi_hist.0018.cad_fi_hist_trib_lprazo.csv')))"
      ]
     },
     "execution_count": 13,
     "metadata": {},
     "output_type": "execute_result"
    }
   ],
   "source": [
    "cvm_files"
   ]
  },
  {
   "cell_type": "code",
   "execution_count": 17,
   "metadata": {},
   "outputs": [
    {
     "name": "stdout",
     "output_type": "stream",
     "text": [
      "\n",
      "        update cvm_if_catalog_journal\n",
      "           set last_updated = '2023-07-22 18:22:13'\n",
      "         where active\n",
      "           and process\n",
      "           and kind = 'IF_REGISTER'\n",
      "           and name = 'cad_fi'\n",
      "    \n",
      "\n",
      "        update cvm_if_catalog_journal\n",
      "           set last_updated = '2023-07-22 18:22:13'\n",
      "         where active\n",
      "           and process\n",
      "           and kind = 'IF_REGISTER'\n",
      "           and name = 'cad_fi_hist'\n",
      "    \n"
     ]
    }
   ],
   "source": [
    "cvm_files = ((kind, name, datetime.now().strftime('%Y-%m-%d %H:%M:%S')) for kind, name, _, _ in cvm_files)\n",
    "\n",
    "for kind, name, last_update in cvm_files:\n",
    "    _sql = f\"\"\"\n",
    "        update {self.CATALOG_JOURNAL}\n",
    "           set last_updated = '{last_update}'\n",
    "         where active\n",
    "           and process\n",
    "           and kind = '{kind}'\n",
    "           and name = '{name}'\n",
    "    \"\"\"\n",
    "    print(_sql)"
   ]
  },
  {
   "cell_type": "code",
   "execution_count": null,
   "metadata": {},
   "outputs": [],
   "source": []
  }
 ],
 "metadata": {
  "kernelspec": {
   "display_name": "Python 3.9.10 ('fbpyutils-finance-_LfGj1KF')",
   "language": "python",
   "name": "python3"
  },
  "language_info": {
   "codemirror_mode": {
    "name": "ipython",
    "version": 3
   },
   "file_extension": ".py",
   "mimetype": "text/x-python",
   "name": "python",
   "nbconvert_exporter": "python",
   "pygments_lexer": "ipython3",
   "version": "3.10.12"
  },
  "orig_nbformat": 4,
  "vscode": {
   "interpreter": {
    "hash": "e7f24432d049c1b18e987ee934c8db217ea4e1ba4f03ab69f7655027a0e5228d"
   }
  }
 },
 "nbformat": 4,
 "nbformat_minor": 2
}
