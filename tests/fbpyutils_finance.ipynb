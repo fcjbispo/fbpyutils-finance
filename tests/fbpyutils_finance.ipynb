{
 "cells": [
  {
   "cell_type": "code",
   "execution_count": 1,
   "metadata": {},
   "outputs": [],
   "source": [
    "import os, sys\n",
    "sys.path.insert(0, '..')"
   ]
  },
  {
   "cell_type": "code",
   "execution_count": null,
   "metadata": {},
   "outputs": [],
   "source": [
    "import fbpyutils_finance as FI"
   ]
  },
  {
   "cell_type": "code",
   "execution_count": null,
   "metadata": {},
   "outputs": [],
   "source": [
    "import sqlite3\n",
    "import pandas as pd"
   ]
  },
  {
   "cell_type": "code",
   "execution_count": null,
   "metadata": {},
   "outputs": [],
   "source": [
    "db = sqlite3.connect(':memory:')"
   ]
  },
  {
   "cell_type": "code",
   "execution_count": null,
   "metadata": {},
   "outputs": [],
   "source": [
    "FI.APP_FOLDER"
   ]
  },
  {
   "cell_type": "code",
   "execution_count": null,
   "metadata": {},
   "outputs": [],
   "source": [
    "FI.CERTIFICATES"
   ]
  },
  {
   "cell_type": "code",
   "execution_count": null,
   "metadata": {},
   "outputs": [],
   "source": [
    "from fbpyutils_finance import bovespa as BOV"
   ]
  },
  {
   "cell_type": "code",
   "execution_count": null,
   "metadata": {},
   "outputs": [],
   "source": [
    "bovespa_series_folder = '/mnt/c/Users/fcjbispo/Dados/InfoBR/Series/bovespa'"
   ]
  },
  {
   "cell_type": "code",
   "execution_count": null,
   "metadata": {},
   "outputs": [],
   "source": [
    "stock_history = BOV.StockHistory(download_folder=bovespa_series_folder)"
   ]
  },
  {
   "cell_type": "code",
   "execution_count": null,
   "metadata": {},
   "outputs": [],
   "source": [
    "data = stock_history.get_stock_history(\n",
    "    period='A', \n",
    "    period_data=None, \n",
    "    fetch_mode=BOV.FetchModes.LOCAL_OR_DOWNLOAD, \n",
    "    compact=False, \n",
    "    original_names=False\n",
    ")"
   ]
  },
  {
   "cell_type": "code",
   "execution_count": null,
   "metadata": {},
   "outputs": [],
   "source": [
    "data.to_sql('cotahist', index=False, con=db, if_exists='append')"
   ]
  },
  {
   "cell_type": "code",
   "execution_count": null,
   "metadata": {},
   "outputs": [],
   "source": [
    "data.columns"
   ]
  },
  {
   "cell_type": "code",
   "execution_count": null,
   "metadata": {},
   "outputs": [],
   "source": [
    "pd.read_sql('''\n",
    "select distinct market_type, bdi_code\n",
    "  from cotahist\n",
    " order by market_type, bdi_code\n",
    "''', con=db).head(3)"
   ]
  },
  {
   "cell_type": "code",
   "execution_count": 2,
   "metadata": {},
   "outputs": [],
   "source": [
    "from fbpyutils_finance import tesourodireto as TD\n",
    "from pprint import pprint"
   ]
  },
  {
   "cell_type": "code",
   "execution_count": 3,
   "metadata": {},
   "outputs": [],
   "source": [
    "td_list = TD.treasury_bonds()"
   ]
  },
  {
   "cell_type": "code",
   "execution_count": 9,
   "metadata": {},
   "outputs": [
    {
     "data": {
      "text/plain": [
       "['Tesouro Selic 2024',\n",
       " 'Tesouro Selic 2025',\n",
       " 'Tesouro Selic 2026',\n",
       " 'Tesouro Selic 2027',\n",
       " 'Tesouro Selic 2029',\n",
       " 'Tesouro Prefixado 2024',\n",
       " 'Tesouro Prefixado 2025',\n",
       " 'Tesouro Prefixado com Juros Semestrais 2025',\n",
       " 'Tesouro Prefixado 2026',\n",
       " 'Tesouro Prefixado com Juros Semestrais 2027',\n",
       " 'Tesouro Prefixado 2029',\n",
       " 'Tesouro Prefixado com Juros Semestrais 2029',\n",
       " 'Tesouro Prefixado com Juros Semestrais 2031',\n",
       " 'Tesouro Prefixado com Juros Semestrais 2033',\n",
       " 'Tesouro IPCA+ 2024',\n",
       " 'Tesouro IPCA+ com Juros Semestrais 2024',\n",
       " 'Tesouro IPCA+ 2026',\n",
       " 'Tesouro IPCA+ com Juros Semestrais 2026',\n",
       " 'Tesouro IPCA+ 2029',\n",
       " 'Tesouro IPCA+ com Juros Semestrais 2030',\n",
       " 'Tesouro IPCA+ com Juros Semestrais 2032',\n",
       " 'Tesouro IPCA+ 2035',\n",
       " 'Tesouro IPCA+ com Juros Semestrais 2035',\n",
       " 'Tesouro IPCA+ com Juros Semestrais 2040',\n",
       " 'Tesouro IPCA+ 2045',\n",
       " 'Tesouro IPCA+ com Juros Semestrais 2045',\n",
       " 'Tesouro Renda+ Aposentadoria Extra 2030',\n",
       " 'Tesouro IPCA+ com Juros Semestrais 2050',\n",
       " 'Tesouro Renda+ Aposentadoria Extra 2035',\n",
       " 'Tesouro IPCA+ com Juros Semestrais 2055',\n",
       " 'Tesouro Renda+ Aposentadoria Extra 2040',\n",
       " 'Tesouro Renda+ Aposentadoria Extra 2045',\n",
       " 'Tesouro Renda+ Aposentadoria Extra 2050',\n",
       " 'Tesouro Renda+ Aposentadoria Extra 2055',\n",
       " 'Tesouro Renda+ Aposentadoria Extra 2060',\n",
       " 'Tesouro Renda+ Aposentadoria Extra 2065',\n",
       " 'Tesouro IGPM+ com Juros Semestrais 2031']"
      ]
     },
     "execution_count": 9,
     "metadata": {},
     "output_type": "execute_result"
    }
   ],
   "source": [
    "[(b['bond_name']) for b in td_list['details']['bonds']]"
   ]
  },
  {
   "cell_type": "code",
   "execution_count": 10,
   "metadata": {},
   "outputs": [],
   "source": [
    "bond = TD.treasury_bonds(x='Tesouro Prefixado com Juros Semestrais 2029')"
   ]
  },
  {
   "cell_type": "code",
   "execution_count": 11,
   "metadata": {},
   "outputs": [
    {
     "data": {
      "text/plain": [
       "{'info': 'TREASURY BOND',\n",
       " 'source': 'TESOURO DIRETO',\n",
       " 'status': 'SUCCESS',\n",
       " 'details': {'market': {'status': 'CLOSED',\n",
       "   'closing_time': datetime.datetime(2023, 7, 19, 5, 0, tzinfo=<DstTzInfo 'America/Sao_Paulo' LMT-1 day, 20:54:00 STD>),\n",
       "   'opening_time': datetime.datetime(2023, 7, 18, 9, 25, tzinfo=<DstTzInfo 'America/Sao_Paulo' LMT-1 day, 20:54:00 STD>),\n",
       "   'position_time': datetime.datetime(2023, 7, 18, 20, 59, 1, tzinfo=<DstTzInfo 'America/Sao_Paulo' LMT-1 day, 20:54:00 STD>)},\n",
       "  'matches': 1,\n",
       "  'bonds': [{'bond_name': 'Tesouro Prefixado com Juros Semestrais 2029',\n",
       "    'due_date': datetime.datetime(2029, 1, 1, 0, 0),\n",
       "    'financial_indexer': 'PREFIXADO',\n",
       "    'annual_investment_rate': 0.0,\n",
       "    'annual_redemption_rate': 10.61,\n",
       "    'isin_code': 'BRSTNCNTF1Q6',\n",
       "    'sell_price': 981.95,\n",
       "    'sell_price_unit': 9.82,\n",
       "    'buy_price': 0.0,\n",
       "    'buy_price_unit': 0.0,\n",
       "    'extended_description': 'Título prefixado, ou seja, no momento da compra, você já sabe exatamente quanto irá receber no futuro (sempre R$ 1.000 por unidade de título + último pagamento de juros semestrais). É mais interessante para quem precisa dos seus rendimentos para complementar sua renda, pois paga juros a cada semestre (cupons de juros). Em caso de resgate antecipado, o Tesouro Nacional garante sua recompra pelo seu valor de mercado.'}]}}"
      ]
     },
     "execution_count": 11,
     "metadata": {},
     "output_type": "execute_result"
    }
   ],
   "source": [
    "bond"
   ]
  },
  {
   "cell_type": "code",
   "execution_count": 2,
   "metadata": {},
   "outputs": [],
   "source": [
    "from fbpyutils_finance import investidor10 as INV10"
   ]
  },
  {
   "cell_type": "code",
   "execution_count": 3,
   "metadata": {},
   "outputs": [],
   "source": [
    "fiis = INV10.get_fii_daily_position(parallelize=True)"
   ]
  },
  {
   "cell_type": "code",
   "execution_count": 4,
   "metadata": {},
   "outputs": [
    {
     "data": {
      "text/plain": [
       "(375, 35)"
      ]
     },
     "execution_count": 4,
     "metadata": {},
     "output_type": "execute_result"
    }
   ],
   "source": [
    "fiis.shape"
   ]
  },
  {
   "cell_type": "code",
   "execution_count": 6,
   "metadata": {},
   "outputs": [
    {
     "data": {
      "text/html": [
       "<div>\n",
       "<style scoped>\n",
       "    .dataframe tbody tr th:only-of-type {\n",
       "        vertical-align: middle;\n",
       "    }\n",
       "\n",
       "    .dataframe tbody tr th {\n",
       "        vertical-align: top;\n",
       "    }\n",
       "\n",
       "    .dataframe thead th {\n",
       "        text-align: right;\n",
       "    }\n",
       "</style>\n",
       "<table border=\"1\" class=\"dataframe\">\n",
       "  <thead>\n",
       "    <tr style=\"text-align: right;\">\n",
       "      <th></th>\n",
       "      <th>payment_year</th>\n",
       "      <th>payment_year_month</th>\n",
       "      <th>payment_date</th>\n",
       "      <th>com_date</th>\n",
       "      <th>ticker</th>\n",
       "      <th>name</th>\n",
       "      <th>fund_name</th>\n",
       "      <th>fund_id</th>\n",
       "      <th>fund_type</th>\n",
       "      <th>segment</th>\n",
       "      <th>...</th>\n",
       "      <th>net_worth_unit</th>\n",
       "      <th>var_last_12_months</th>\n",
       "      <th>vacancy</th>\n",
       "      <th>shareholders</th>\n",
       "      <th>shares</th>\n",
       "      <th>equity_by_share</th>\n",
       "      <th>equity</th>\n",
       "      <th>equity_unit</th>\n",
       "      <th>last_payment</th>\n",
       "      <th>reference_date</th>\n",
       "    </tr>\n",
       "  </thead>\n",
       "  <tbody>\n",
       "    <tr>\n",
       "      <th>0</th>\n",
       "      <td>2023</td>\n",
       "      <td>2023-06</td>\n",
       "      <td>2023-06-19</td>\n",
       "      <td>2023-06-12</td>\n",
       "      <td>BLUR11</td>\n",
       "      <td>BLUE RECEBÍVEIS</td>\n",
       "      <td>FUNDO DE INVESTIMENTO IMOBILIÁRIO - BLUE RECEB...</td>\n",
       "      <td>38.051.307/0001-94</td>\n",
       "      <td>Fundo de papel</td>\n",
       "      <td>Outros</td>\n",
       "      <td>...</td>\n",
       "      <td>None</td>\n",
       "      <td>NaN</td>\n",
       "      <td>NaN</td>\n",
       "      <td>93.0</td>\n",
       "      <td>89989.0</td>\n",
       "      <td>95.69</td>\n",
       "      <td>8.61</td>\n",
       "      <td>Milhões</td>\n",
       "      <td>1.03</td>\n",
       "      <td>2023-07-18</td>\n",
       "    </tr>\n",
       "    <tr>\n",
       "      <th>1</th>\n",
       "      <td>2023</td>\n",
       "      <td>2023-06</td>\n",
       "      <td>2023-06-19</td>\n",
       "      <td>2023-06-09</td>\n",
       "      <td>CPFF11</td>\n",
       "      <td>CAPITÂNIA REIT FOF – FDO. INVEST. IMOB</td>\n",
       "      <td>CAPITÂNIA REIT FOF - FUNDO DE INVESTIMENTO IMO...</td>\n",
       "      <td>34.081.611/0001-23</td>\n",
       "      <td>Fundo de fundos</td>\n",
       "      <td>Híbrido</td>\n",
       "      <td>...</td>\n",
       "      <td>None</td>\n",
       "      <td>NaN</td>\n",
       "      <td>NaN</td>\n",
       "      <td>10726.0</td>\n",
       "      <td>2553063.0</td>\n",
       "      <td>78.09</td>\n",
       "      <td>199.37</td>\n",
       "      <td>Milhões</td>\n",
       "      <td>0.75</td>\n",
       "      <td>2023-07-18</td>\n",
       "    </tr>\n",
       "    <tr>\n",
       "      <th>2</th>\n",
       "      <td>2023</td>\n",
       "      <td>2023-06</td>\n",
       "      <td>2023-06-19</td>\n",
       "      <td>2023-05-31</td>\n",
       "      <td>CXAG11</td>\n",
       "      <td>CAIXA AGÊNCIAS</td>\n",
       "      <td>FUNDO DE INVESTIMENTO IMOBILIÁRIO CAIXA AGÊNCIAS</td>\n",
       "      <td>40.189.596/0001-34</td>\n",
       "      <td>Fundo de Tijolo</td>\n",
       "      <td>Agências bancárias</td>\n",
       "      <td>...</td>\n",
       "      <td>None</td>\n",
       "      <td>NaN</td>\n",
       "      <td>NaN</td>\n",
       "      <td>11545.0</td>\n",
       "      <td>2090610.0</td>\n",
       "      <td>114.71</td>\n",
       "      <td>239.81</td>\n",
       "      <td>Milhões</td>\n",
       "      <td>0.82</td>\n",
       "      <td>2023-07-18</td>\n",
       "    </tr>\n",
       "  </tbody>\n",
       "</table>\n",
       "<p>3 rows × 35 columns</p>\n",
       "</div>"
      ],
      "text/plain": [
       "  payment_year payment_year_month payment_date    com_date  ticker  \\\n",
       "0         2023            2023-06   2023-06-19  2023-06-12  BLUR11   \n",
       "1         2023            2023-06   2023-06-19  2023-06-09  CPFF11   \n",
       "2         2023            2023-06   2023-06-19  2023-05-31  CXAG11   \n",
       "\n",
       "                                     name  \\\n",
       "0                         BLUE RECEBÍVEIS   \n",
       "1  CAPITÂNIA REIT FOF – FDO. INVEST. IMOB   \n",
       "2                          CAIXA AGÊNCIAS   \n",
       "\n",
       "                                           fund_name             fund_id  \\\n",
       "0  FUNDO DE INVESTIMENTO IMOBILIÁRIO - BLUE RECEB...  38.051.307/0001-94   \n",
       "1  CAPITÂNIA REIT FOF - FUNDO DE INVESTIMENTO IMO...  34.081.611/0001-23   \n",
       "2   FUNDO DE INVESTIMENTO IMOBILIÁRIO CAIXA AGÊNCIAS  40.189.596/0001-34   \n",
       "\n",
       "         fund_type             segment  ... net_worth_unit var_last_12_months  \\\n",
       "0   Fundo de papel              Outros  ...           None                NaN   \n",
       "1  Fundo de fundos             Híbrido  ...           None                NaN   \n",
       "2  Fundo de Tijolo  Agências bancárias  ...           None                NaN   \n",
       "\n",
       "  vacancy shareholders     shares  equity_by_share  equity equity_unit  \\\n",
       "0     NaN         93.0    89989.0            95.69    8.61     Milhões   \n",
       "1     NaN      10726.0  2553063.0            78.09  199.37     Milhões   \n",
       "2     NaN      11545.0  2090610.0           114.71  239.81     Milhões   \n",
       "\n",
       "   last_payment  reference_date  \n",
       "0          1.03      2023-07-18  \n",
       "1          0.75      2023-07-18  \n",
       "2          0.82      2023-07-18  \n",
       "\n",
       "[3 rows x 35 columns]"
      ]
     },
     "execution_count": 6,
     "metadata": {},
     "output_type": "execute_result"
    }
   ],
   "source": [
    "fiis.head(3)"
   ]
  },
  {
   "cell_type": "code",
   "execution_count": null,
   "metadata": {},
   "outputs": [],
   "source": []
  }
 ],
 "metadata": {
  "kernelspec": {
   "display_name": "Python 3.9.10 ('fbpyutils-finance-_LfGj1KF')",
   "language": "python",
   "name": "python3"
  },
  "language_info": {
   "codemirror_mode": {
    "name": "ipython",
    "version": 3
   },
   "file_extension": ".py",
   "mimetype": "text/x-python",
   "name": "python",
   "nbconvert_exporter": "python",
   "pygments_lexer": "ipython3",
   "version": "3.10.12"
  },
  "orig_nbformat": 4,
  "vscode": {
   "interpreter": {
    "hash": "e7f24432d049c1b18e987ee934c8db217ea4e1ba4f03ab69f7655027a0e5228d"
   }
  }
 },
 "nbformat": 4,
 "nbformat_minor": 2
}
